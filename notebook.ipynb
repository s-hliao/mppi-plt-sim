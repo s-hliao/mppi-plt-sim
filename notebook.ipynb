{
 "cells": [
  {
   "cell_type": "code",
   "execution_count": 23,
   "metadata": {},
   "outputs": [],
   "source": [
    "import numpy as np\n",
    "import torch\n",
    "from torch.distributions.multivariate_normal import MultivariateNormal\n",
    "\n",
    "import matplotlib.pyplot as plt\n",
    "import matplotlib.image as mpimg\n",
    "\n",
    "import plotly\n",
    "import plotly.express as px\n",
    "import plotly.graph_objects as go\n",
    "import plotly.io as pio\n",
    "\n",
    "from skimage import io\n",
    "import os\n",
    "\n",
    "import math\n",
    "import requests\n",
    "\n",
    "from queue import PriorityQueue"
   ]
  },
  {
   "cell_type": "code",
   "execution_count": 24,
   "metadata": {},
   "outputs": [],
   "source": [
    "plotly.__version__\n",
    "pio.renderers.default = \"iframe\""
   ]
  },
  {
   "cell_type": "code",
   "execution_count": 25,
   "metadata": {},
   "outputs": [
    {
     "data": {
      "text/plain": [
       "'1.24.3'"
      ]
     },
     "execution_count": 25,
     "metadata": {},
     "output_type": "execute_result"
    }
   ],
   "source": [
    "np.__version__"
   ]
  },
  {
   "cell_type": "code",
   "execution_count": 26,
   "metadata": {},
   "outputs": [],
   "source": [
    "np.random.seed(0)"
   ]
  },
  {
   "cell_type": "code",
   "execution_count": 27,
   "metadata": {},
   "outputs": [
    {
     "data": {
      "text/plain": [
       "[<torch.cuda.device at 0x7f0158fb41c0>]"
      ]
     },
     "execution_count": 27,
     "metadata": {},
     "output_type": "execute_result"
    }
   ],
   "source": [
    "available_gpus = [torch.cuda.device(i) for i in range(torch.cuda.device_count())]\n",
    "available_gpus"
   ]
  },
  {
   "cell_type": "code",
   "execution_count": 28,
   "metadata": {},
   "outputs": [
    {
     "name": "stdout",
     "output_type": "stream",
     "text": [
      "The autoreload extension is already loaded. To reload it, use:\n",
      "  %reload_ext autoreload\n"
     ]
    }
   ],
   "source": [
    "%load_ext autoreload\n",
    "%autoreload 2\n",
    "\n",
    "from model import Bicycle, Map\n",
    "from mppi import MPPI, MPPI_path_follower\n",
    "from path_planner import a_star_planner\n",
    "from sim import Simulation\n",
    "\n",
    "import kmeans"
   ]
  },
  {
   "cell_type": "code",
   "execution_count": 29,
   "metadata": {},
   "outputs": [],
   "source": [
    "torch.cuda.empty_cache() "
   ]
  },
  {
   "cell_type": "code",
   "execution_count": 30,
   "metadata": {},
   "outputs": [],
   "source": [
    "# avoid = []\n",
    "\n",
    "# rect = [(20, 0, 80, 50),(20,51,80, 100) ]\n",
    "# circle= []\n",
    "\n",
    "# state_dim = 3\n",
    "# ctrl_dim = 2\n",
    "# u_min = (0., -4.)\n",
    "# u_max = (10., 4.)\n",
    "# step = .05\n",
    "# follow_depth = 16 # note: if these parameters are changed, the mppi ones should be changed to match\n",
    "# horizon_depth = 64\n",
    "\n",
    "#start at 1-5, 45-55, angle -0"
   ]
  },
  {
   "cell_type": "code",
   "execution_count": 31,
   "metadata": {},
   "outputs": [],
   "source": [
    "avoid = []\n",
    "\n",
    "rect = [(0, 0, 100, 10),(0, 0, 10, 100), (0, 61, 85, 100), (20, 0, 100, 59),(95,0,100,100) ]\n",
    "circle= [(20,40, 6), (10, 30, 6),(10, 50, 6)]\n",
    "\n",
    "state_dim = 3\n",
    "ctrl_dim = 2\n",
    "u_min = (0., -4.)\n",
    "u_max = (10., 4.)\n",
    "step = .05\n",
    "follow_depth = 16 # note: if these parameters are changed, the mppi ones should be changed to match\n",
    "horizon_depth = 64\n",
    "\n",
    "# #start at (11-19, 11-19), angle math.pi/2"
   ]
  },
  {
   "cell_type": "code",
   "execution_count": 32,
   "metadata": {},
   "outputs": [],
   "source": [
    "# avoid = []\n",
    "\n",
    "# rect = [(0, 15, 47, 85), (53, 15, 100,85)]\n",
    "# left_circles = [(47,20+x, 4) for x in range(0, 80, 20)]\n",
    "# print(left_circles)\n",
    "# right_circles = [(53,30+x, 4) for x in range(0, 60, 20)]\n",
    "# circle= left_circles + right_circles\n",
    "\n",
    "# state_dim = 3\n",
    "# ctrl_dim = 2\n",
    "# u_min = (0., -4.)\n",
    "# u_max = (10., 4.)\n",
    "# step = .05\n",
    "# follow_depth = 16 # note: if these parameters are changed, the mppi ones should be changed to match\n",
    "# horizon_depth = 64\n",
    "\n",
    "# start at (45-55, 1-5), angle math.pi/2\n",
    "#goal at 50, 90"
   ]
  },
  {
   "cell_type": "code",
   "execution_count": 33,
   "metadata": {},
   "outputs": [],
   "source": [
    "def get_expert_controls(control_history, horizon_depth, ctrl_dim, interval_start = 0, interval_end = None, interval_step=2, dev=\"cpu\"):\n",
    "    if(interval_end is None):\n",
    "        interval_end = len(control_history)-1\n",
    "    first_rollout = interval_start\n",
    "    last_rollout = interval_end-horizon_depth\n",
    "    \n",
    "    rollout_starts = range(first_rollout, last_rollout+1, interval_step)\n",
    "    size = len(rollout_starts)\n",
    "    \n",
    "    expert_controls = torch.empty([size, horizon_depth, ctrl_dim], dtype = torch.float, device = dev)\n",
    "    count = 0\n",
    "    for i in rollout_starts:\n",
    "        expert_controls[count,:,:] = torch.stack(control_history[i:i+horizon_depth])        \n",
    "        count+=1\n",
    "    return expert_controls"
   ]
  },
  {
   "cell_type": "code",
   "execution_count": 34,
   "metadata": {},
   "outputs": [
    {
     "name": "stdout",
     "output_type": "stream",
     "text": [
      "214837248\n",
      "25426132992 123731968 91105280\n"
     ]
    }
   ],
   "source": [
    "available_gpus = [torch.cuda.device(i) for i in range(torch.cuda.device_count())]\n",
    "t = torch.cuda.get_device_properties(0).total_memory\n",
    "r = torch.cuda.memory_reserved(0)\n",
    "a = torch.cuda.memory_allocated(0)\n",
    "print(r+a)\n",
    "print(t, r, a)\n",
    "torch.cuda.empty_cache() "
   ]
  },
  {
   "cell_type": "code",
   "execution_count": 35,
   "metadata": {},
   "outputs": [
    {
     "name": "stdout",
     "output_type": "stream",
     "text": [
      "0 0 15.292881023563949 16.29113619823452 plan ready\n",
      "expert demo started\n",
      "torch.Size([222, 64, 2])\n",
      "0 1 15.269299097981381 14.541928796033428 plan ready\n",
      "expert demo started\n",
      "torch.Size([446, 64, 2])\n",
      "0 2 14.625523267576156 17.350638004692478 plan ready\n",
      "expert demo started\n",
      "torch.Size([664, 64, 2])\n",
      "0 3 14.300649112954666 16.75035022849599 plan ready\n",
      "expert demo started\n",
      "torch.Size([884, 64, 2])\n",
      "0 4 15.408267366563594 17.553579829755968 plan ready\n",
      "expert demo started\n",
      "torch.Size([1102, 64, 2])\n",
      "0 5 12.522775798209244 12.121310384641955 plan ready\n",
      "expert demo started\n",
      "torch.Size([1332, 64, 2])\n",
      "0 6 16.668940505699105 17.220072889480914 plan ready\n",
      "expert demo started\n",
      "torch.Size([1548, 64, 2])\n",
      "0 7 16.794951385300344 14.76887617351759 plan ready\n",
      "expert demo started\n",
      "torch.Size([1770, 64, 2])\n",
      "0 8 12.709646555213599 15.839526127965144 plan ready\n",
      "expert demo started\n",
      "L\n",
      "0 9 17.668013502297505 15.13108993050043 plan ready\n",
      "expert demo started\n",
      "torch.Size([1992, 64, 2])\n",
      "1 0 13.587333672627762 16.6454021366053 plan ready\n",
      "expert demo started\n",
      "torch.Size([2212, 64, 2])\n",
      "1 1 15.410603693211891 12.11273880261813 plan ready\n",
      "expert demo started\n",
      "torch.Size([2442, 64, 2])\n",
      "1 2 15.672574336334527 15.701603981248542 plan ready\n",
      "expert demo started\n",
      "torch.Size([2664, 64, 2])\n",
      "1 3 16.0909217946209 14.157047403442716 plan ready\n",
      "expert demo started\n",
      "L\n",
      "1 4 16.18578717556359 12.361352829775619 plan ready\n",
      "expert demo started\n",
      "torch.Size([2892, 64, 2])\n",
      "1 5 16.023827217708956 13.262295366443045 plan ready\n",
      "expert demo started\n",
      "torch.Size([3118, 64, 2])\n",
      "1 6 13.892570105545103 14.182264625655735 plan ready\n",
      "expert demo started\n",
      "L\n",
      "1 7 14.631609080773922 17.930243028355356 plan ready\n",
      "expert demo started\n",
      "torch.Size([3334, 64, 2])\n",
      "1 8 13.253260536569009 12.967857107309978 plan ready\n",
      "expert demo started\n",
      "torch.Size([3562, 64, 2])\n",
      "1 9 13.519749615238693 14.797864637137838 plan ready\n",
      "expert demo started\n",
      "torch.Size([3788, 64, 2])\n"
     ]
    }
   ],
   "source": [
    "expert_controls = torch.tensor([],device = torch.device('cuda:0')) # used to reset expert_controls from constantly appending\n",
    "a_star_sim = None\n",
    "#\n",
    "for i in range(2):\n",
    "    for j in range(10):\n",
    "        x = np.random.uniform(12, 18)\n",
    "        y = np.random.uniform(12, 18)\n",
    "        angle = np.random.uniform(5 *math.pi/12, 7 *math.pi/12)\n",
    "            \n",
    "        a_star_robot = Bicycle(x, y, angle, 0)\n",
    "        goal = (90, 90, 3, 10)\n",
    "\n",
    "        mppi_sample_center= torch.tensor([0., 0.])\n",
    "        mppi_sample_covariance = torch.tensor([[4.,0.],[0., 1]])\n",
    "\n",
    "        env = Map(goal_point = goal, avoidance_points=avoid, rect_obstacles=rect,circle_obstacles=circle, device = torch.device('cuda:0'))\n",
    "        a_star_map = Map(goal_point = (a_star_robot.x, a_star_robot.y,4,4), speed_weight = 0.1, avoidance_points=avoid, \n",
    "                         rect_obstacles=rect,circle_obstacles=circle, device = torch.device('cuda:0'))\n",
    "\n",
    "        def a_star_heuristic(state):     \n",
    "            return env.terminal_state_cost_batch(state)\n",
    "\n",
    "        a_star_plan = a_star_planner(a_star_robot, state_dim, ctrl_dim, u_min, u_max, \n",
    "                          env.get_obstacles_batch, env.get_distance_batch,\n",
    "                         iterations = 50000, goal_point = env.goal_point, angle_density = 32, grid_interval = 0.4, goal_tolerance =0.1, \n",
    "                                           timestep = step, device=torch.device('cuda:0'))\n",
    "        \n",
    "        print (i, j, x, y, \"plan ready\")\n",
    "        a_star_follower = MPPI_path_follower(a_star_robot, state_dim, ctrl_dim, \n",
    "                          mppi_sample_center, mppi_sample_covariance,  u_min, u_max, \n",
    "                          a_star_robot.dynamics_batch_horizon, a_star_map, \n",
    "                                             a_star_map.running_cost_batch_horizon, a_star_map.terminal_state_cost_batch, a_star_plan.path, \n",
    "                         num_samples = 8192, horizon = follow_depth, lambda_=.1, sample_null_action = True,\n",
    "                          timestep = step, device=torch.device('cuda:0'))\n",
    "        print(\"expert demo started\")\n",
    "        \n",
    "        a_star_sim = Simulation(a_star_robot, a_star_follower, a_star_map, goal_tolerance = 1, timestep = step)\n",
    "        \n",
    "        iter, goal_reached = a_star_sim.run(500, False, True, True, True, \n",
    "                                            write_rollout_start = 0, write_rollouts_num = 10, write_rate = 2)\n",
    "\n",
    "        if not goal_reached:\n",
    "            #a_star_sim.display_run()\n",
    "            #a_star_sim.display_history()\n",
    "            print(\"L\")\n",
    "        else:\n",
    "            #a_star_sim.display_run()\n",
    "            #a_star_sim.display_history()\n",
    "            new_controls = get_expert_controls(a_star_robot.control_history, horizon_depth, ctrl_dim,interval_step = 2, dev = torch.device('cuda:0'))\n",
    "            \n",
    "            #expert_means, assigned_num, loss = kmeans.k_means_segment(new_controls, k = 7)\n",
    "            expert_controls = torch.cat((expert_controls, new_controls), 0)\n",
    "    \n",
    "            #expert_means[:, :, -1] = -expert_means[:, :, -1]\n",
    "            new_controls[:, :, -1] = -new_controls[:, :, -1]\n",
    "            expert_controls = torch.cat((expert_controls, new_controls), 0)\n",
    "\n",
    "        \n",
    "        # losses = []\n",
    "        # clusters = []\n",
    "        \n",
    "        # for num_cluster in range(1, 50, 5):\n",
    "        #     expert_means, assigned_num, loss = kmeans.k_means_segment(new_controls, k = num_cluster)\n",
    "        #     losses.append(loss)\n",
    "        #     clusters.append(num_cluster)\n",
    "        # plt.plot(clusters, losses)\n",
    "        # plt.show()\n",
    "            torch.cuda.empty_cache() \n",
    "            print(expert_controls.shape)\n",
    "\n"
   ]
  },
  {
   "cell_type": "code",
   "execution_count": 36,
   "metadata": {},
   "outputs": [
    {
     "name": "stderr",
     "output_type": "stream",
     "text": [
      "/home/s-hliao/Documents/mppi-plt-sim/mppi.py:154: SyntaxWarning:\n",
      "\n",
      "\"is\" with a literal. Did you mean \"==\"?\n",
      "\n",
      "/home/s-hliao/Documents/mppi-plt-sim/mppi.py:320: SyntaxWarning:\n",
      "\n",
      "\"is\" with a literal. Did you mean \"==\"?\n",
      "\n"
     ]
    }
   ],
   "source": [
    "# a_star_sim.draw_explored(a_star_plan.path, False)\n",
    "\n",
    "# a_star_sim.display_run()\n",
    "# a_star_sim.display_history()\n",
    "\n",
    "torch.cuda.empty_cache() \n",
    "\n",
    "del a_star_planner\n",
    "del a_star_sim\n",
    "del a_star_map"
   ]
  },
  {
   "cell_type": "code",
   "execution_count": 37,
   "metadata": {},
   "outputs": [
    {
     "name": "stdout",
     "output_type": "stream",
     "text": [
      "Bicycle\t MPPI\t MPPI_path_follower\t Map\t MultivariateNormal\t PriorityQueue\t Simulation\t a\t a_star_follower\t \n",
      "a_star_heuristic\t a_star_plan\t a_star_robot\t angle\t available_gpus\t avoid\t circle\t clusters\t ctrl_dim\t \n",
      "env\t expert_controls\t expert_means\t expert_sample_covariance\t follow_depth\t get_expert_controls\t go\t goal\t goal_reached\t \n",
      "horizon_depth\t i\t io\t iter\t j\t kmeans\t loss\t losses\t math\t \n",
      "mpimg\t mppi_goal\t mppi_map\t mppi_robot\t mppi_sample_center\t mppi_sample_covariance\t new_controls\t np\t num_cluster\t \n",
      "os\t pio\t plotly\t plt\t px\t r\t rect\t requests\t state_dim\t \n",
      "step\t success\t t\t torch\t total\t total_it\t u_max\t u_min\t x\t \n",
      "y\t \n"
     ]
    }
   ],
   "source": [
    "%who"
   ]
  },
  {
   "cell_type": "code",
   "execution_count": 40,
   "metadata": {},
   "outputs": [
    {
     "name": "stdout",
     "output_type": "stream",
     "text": [
      "1\n",
      "3\n",
      "5\n",
      "7\n",
      "9\n",
      "11\n",
      "13\n",
      "15\n",
      "17\n",
      "19\n",
      "21\n",
      "23\n",
      "25\n",
      "27\n",
      "29\n",
      "31\n",
      "33\n",
      "35\n",
      "37\n",
      "39\n"
     ]
    }
   ],
   "source": [
    "losses = []\n",
    "clusters = []\n",
    "\n",
    "\n",
    "for num_cluster in range(1, 40, 2):\n",
    "    expert_means,  loss = kmeans.k_means_segment(expert_controls, k = num_cluster)\n",
    "    losses.append(loss)\n",
    "    clusters.append(num_cluster)\n",
    "    print(num_cluster)"
   ]
  },
  {
   "cell_type": "code",
   "execution_count": 39,
   "metadata": {},
   "outputs": [
    {
     "name": "stdout",
     "output_type": "stream",
     "text": [
      "[149618.9375, 145701.09375, 143529.9375, 141797.953125, 140721.875, 139579.28125, 138852.875, 138017.46875, 137191.9375, 136629.921875, 135806.046875, 135468.671875, 134753.15625, 134419.90625, 133861.8125, 133052.109375, 132621.3125, 132267.359375, 132044.609375, 131894.546875]\n"
     ]
    },
    {
     "data": {
      "image/png": "[encoded data removed]",
      "text/plain": [
       "<Figure size 640x480 with 1 Axes>"
      ]
     },
     "metadata": {},
     "output_type": "display_data"
    }
   ],
   "source": [
    "print(losses)\n",
    "plt.plot(clusters, losses)\n",
    "plt.show()"
   ]
  },
  {
   "cell_type": "code",
   "execution_count": null,
   "metadata": {},
   "outputs": [],
   "source": []
  },
  {
   "cell_type": "code",
   "execution_count": 19,
   "metadata": {},
   "outputs": [
    {
     "name": "stdout",
     "output_type": "stream",
     "text": [
      "[1061, 1162, 1277, 1174, 1217, 861, 1127, 1206, 795, 1126, 1142, 1165, 1181] torch.Size([13, 64, 2])\n"
     ]
    }
   ],
   "source": [
    "num_clusters = 13\n",
    "expert_means, assigned_to_center, loss = kmeans.k_means_segment(expert_controls, k = num_clusters)\n",
    "print(assigned_to_center, expert_means.shape)\n"
   ]
  },
  {
   "cell_type": "code",
   "execution_count": 41,
   "metadata": {},
   "outputs": [],
   "source": [
    "use_expert_controls = False\n",
    "samples = 2048\n",
    "controls = None\n",
    "\n",
    "expert_samples = [50 for i in range(13)]\n",
    "\n",
    "if use_expert_controls:\n",
    "    if expert_samples is not None:\n",
    "        samples = samples\n",
    "        controls = expert_means\n",
    "    else:\n",
    "        samples = samples - expert_controls.shape[0]\n",
    "        controls = expert_controls\n",
    "    \n",
    "if(samples <0):\n",
    "    print(\"too many expert rollouts\")"
   ]
  },
  {
   "cell_type": "code",
   "execution_count": null,
   "metadata": {},
   "outputs": [],
   "source": [
    "\n",
    "mppi_sample_center= torch.tensor([0., 0.])\n",
    "mppi_sample_covariance = torch.tensor([[16.,0.],[0., 1]])\n",
    "expert_sample_covariance = torch.tensor([[16.,0.],[0., .1]])\n",
    "# note: if these parameters are changed, the a-star ones should be changed to match\n",
    "\n",
    "# changes to 8 clusters\n",
    "\n",
    "success = 0.\n",
    "total = 0.\n",
    "total_it = 0.\n",
    "\n",
    "for i in range(10):\n",
    "    for j in range(10):\n",
    "        x = np.random.uniform(12, 18)\n",
    "        y = np.random.uniform(12, 18)\n",
    "        angle = np.random.uniform(5 *math.pi/12, 7 *math.pi/12)\n",
    "\n",
    "        if(angle < 0):\n",
    "            angle += 2* math.pi\n",
    "\n",
    "        mppi_robot = Bicycle(x, y, angle, 0)\n",
    "        mppi_goal = (90, 90, 1, 10)\n",
    "\n",
    "        mppi_map = Map(goal_point = mppi_goal, avoidance_points=avoid, \n",
    "                       rect_obstacles=rect,circle_obstacles=circle, speed_weight = 0.1, device = torch.device('cuda:0'))\n",
    "        mppi_controller = MPPI(mppi_robot, state_dim, ctrl_dim, \n",
    "                          mppi_sample_center, mppi_sample_covariance,  u_min, u_max,\n",
    "                          mppi_robot.dynamics_batch_horizon, mppi_map.running_cost_batch_horizon, mppi_map.terminal_state_cost_batch,\n",
    "                               expert_rollouts = controls, expert_samples = expert_samples,\n",
    "                          num_samples = samples, noise_expert = expert_sample_covariance,\n",
    "                               horizon = horizon_depth, lambda_=1,sample_null_action = True,\n",
    "                          timestep = step, device=torch.device('cuda:0'))\n",
    "        mppi_sim = Simulation(mppi_robot, mppi_controller, mppi_map, timestep = step, goal_tolerance = 2)\n",
    "\n",
    "        iterations, completed = mppi_sim.run(iterations=400, draw_obstacles = False, write_snapshots =False, \n",
    "              write_rollouts=True, write_controls = True, write_rollout_start = 0, write_rollouts_num = 6,write_rate = 2)\n",
    "        \n",
    "        \n",
    "\n",
    "        if completed:\n",
    "            success+=1\n",
    "            total_it += iterations\n",
    "        #else:\n",
    "            #mppi_sim.display_history()\n",
    "        total+=1\n",
    "        \n",
    "        \n",
    "        print(i, j, completed, iterations)\n",
    "        \n",
    "print(success/total)\n",
    "if success > 0:\n",
    "    print(total_it/success)\n",
    "\n"
   ]
  },
  {
   "cell_type": "code",
   "execution_count": null,
   "metadata": {},
   "outputs": [],
   "source": []
  },
  {
   "cell_type": "code",
   "execution_count": null,
   "metadata": {},
   "outputs": [],
   "source": []
  }
 ],
 "metadata": {
  "kernelspec": {
   "display_name": "Python 3 (ipykernel)",
   "language": "python",
   "name": "python3"
  },
  "language_info": {
   "codemirror_mode": {
    "name": "ipython",
    "version": 3
   },
   "file_extension": ".py",
   "mimetype": "text/x-python",
   "name": "python",
   "nbconvert_exporter": "python",
   "pygments_lexer": "ipython3",
   "version": "3.8.10"
  }
 },
 "nbformat": 4,
 "nbformat_minor": 4
}
