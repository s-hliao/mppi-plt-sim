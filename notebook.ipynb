{
 "cells": [
  {
   "cell_type": "code",
   "execution_count": 3,
   "metadata": {},
   "outputs": [],
   "source": [
    "import numpy as np\n",
    "import torch\n",
    "from torch.distributions.multivariate_normal import MultivariateNormal\n",
    "\n",
    "import matplotlib.pyplot as plt\n",
    "import matplotlib.image as mpimg\n",
    "\n",
    "import plotly\n",
    "import plotly.express as px\n",
    "import plotly.graph_objects as go\n",
    "import plotly.io as pio\n",
    "\n",
    "from skimage import io\n",
    "import os\n",
    "\n",
    "import math\n",
    "import requests\n",
    "\n",
    "from queue import PriorityQueue"
   ]
  },
  {
   "cell_type": "code",
   "execution_count": 4,
   "metadata": {},
   "outputs": [],
   "source": [
    "plotly.__version__\n",
    "pio.renderers.default = \"iframe\""
   ]
  },
  {
   "cell_type": "code",
   "execution_count": 5,
   "metadata": {},
   "outputs": [
    {
     "data": {
      "text/plain": [
       "'1.24.3'"
      ]
     },
     "execution_count": 5,
     "metadata": {},
     "output_type": "execute_result"
    }
   ],
   "source": [
    "np.__version__"
   ]
  },
  {
   "cell_type": "code",
   "execution_count": 6,
   "metadata": {},
   "outputs": [],
   "source": [
    "np.random.seed(0)"
   ]
  },
  {
   "cell_type": "code",
   "execution_count": 7,
   "metadata": {},
   "outputs": [
    {
     "data": {
      "text/plain": [
       "[<torch.cuda.device at 0x7f094599dc70>]"
      ]
     },
     "execution_count": 7,
     "metadata": {},
     "output_type": "execute_result"
    }
   ],
   "source": [
    "available_gpus = [torch.cuda.device(i) for i in range(torch.cuda.device_count())]\n",
    "available_gpus"
   ]
  },
  {
   "cell_type": "code",
   "execution_count": 9,
   "metadata": {},
   "outputs": [
    {
     "name": "stdout",
     "output_type": "stream",
     "text": [
      "The autoreload extension is already loaded. To reload it, use:\n",
      "  %reload_ext autoreload\n"
     ]
    }
   ],
   "source": [
    "%load_ext autoreload\n",
    "%autoreload 2\n",
    "\n",
    "from model import Bicycle, Map\n",
    "from mppi import MPPI, MPPI_path_follower\n",
    "from path_planner import a_star_planner\n",
    "from sim import Simulation\n",
    "\n",
    "\n",
    "import kmeans, gmm"
   ]
  },
  {
   "cell_type": "code",
   "execution_count": 10,
   "metadata": {},
   "outputs": [],
   "source": [
    "torch.cuda.empty_cache() "
   ]
  },
  {
   "cell_type": "code",
   "execution_count": 11,
   "metadata": {},
   "outputs": [],
   "source": [
    "# avoid = []\n",
    "\n",
    "# rect = [(20, 0, 80, 50),(20,51,80, 100) ]\n",
    "# circle= []\n",
    "\n",
    "# state_dim = 3\n",
    "# ctrl_dim = 2\n",
    "# u_min = (0., -4.)\n",
    "# u_max = (10., 4.)\n",
    "# step = .05\n",
    "# follow_depth = 16 # note: if these parameters are changed, the mppi ones should be changed to match\n",
    "# horizon_depth = 64\n",
    "\n",
    "#start at 1-5, 45-55, angle -0"
   ]
  },
  {
   "cell_type": "code",
   "execution_count": 12,
   "metadata": {},
   "outputs": [],
   "source": [
    "# avoid = []\n",
    "\n",
    "# rect = [(0, 0, 100, 10),(0, 0, 10, 100), (0, 61, 85, 100), (20, 0, 100, 59),(95,0,100,100) ]\n",
    "# circle= [(20,40, 6), (10, 30, 6),(10, 50, 6)]\n",
    "\n",
    "# state_dim = 3\n",
    "# ctrl_dim = 2\n",
    "# u_min = (0., -4.)\n",
    "# u_max = (10., 4.)\n",
    "# step = .05\n",
    "# follow_depth = 16 # note: if these parameters are changed, the mppi ones should be changed to match\n",
    "# horizon_depth = 64\n",
    "\n",
    "# #start at (11-19, 11-19), angle math.pi/2"
   ]
  },
  {
   "cell_type": "code",
   "execution_count": 13,
   "metadata": {},
   "outputs": [
    {
     "name": "stdout",
     "output_type": "stream",
     "text": [
      "[(47, 20, 4), (47, 40, 4), (47, 60, 4), (47, 80, 4)]\n"
     ]
    }
   ],
   "source": [
    "avoid = []\n",
    "\n",
    "rect = [(0, 15, 47, 85), (53, 15, 100,85)]\n",
    "left_circles = [(47,20+x, 4) for x in range(0, 80, 20)]\n",
    "print(left_circles)\n",
    "right_circles = [(53,30+x, 4) for x in range(0, 60, 20)]\n",
    "circle= left_circles + right_circles\n",
    "\n",
    "state_dim = 3\n",
    "ctrl_dim = 2\n",
    "u_min = (0., -4.)\n",
    "u_max = (10., 4.)\n",
    "step = .05\n",
    "follow_depth = 16 # note: if these parameters are changed, the mppi ones should be changed to match\n",
    "horizon_depth = 64\n",
    "\n",
    "# start at (45-55, 1-5), angle math.pi/2\n",
    "#goal at 50, 90"
   ]
  },
  {
   "cell_type": "code",
   "execution_count": 14,
   "metadata": {},
   "outputs": [],
   "source": [
    "def get_expert_controls(control_history, horizon_depth, ctrl_dim, interval_start = 0, interval_end = None, interval_step=2, dev=\"cpu\"):\n",
    "    if(interval_end is None):\n",
    "        interval_end = len(control_history)-1\n",
    "    first_rollout = interval_start\n",
    "    last_rollout = interval_end-horizon_depth\n",
    "    \n",
    "    rollout_starts = range(first_rollout, last_rollout+1, interval_step)\n",
    "    size = len(rollout_starts)\n",
    "    \n",
    "    expert_controls = torch.empty([size, horizon_depth, ctrl_dim], dtype = torch.float, device = dev)\n",
    "    count = 0\n",
    "    for i in rollout_starts:\n",
    "        expert_controls[count,:,:] = torch.stack(control_history[i:i+horizon_depth])        \n",
    "        count+=1\n",
    "    return expert_controls"
   ]
  },
  {
   "cell_type": "code",
   "execution_count": 15,
   "metadata": {},
   "outputs": [
    {
     "name": "stdout",
     "output_type": "stream",
     "text": [
      "0\n",
      "25426132992 0 0\n"
     ]
    }
   ],
   "source": [
    "available_gpus = [torch.cuda.device(i) for i in range(torch.cuda.device_count())]\n",
    "t = torch.cuda.get_device_properties(0).total_memory\n",
    "r = torch.cuda.memory_reserved(0)\n",
    "a = torch.cuda.memory_allocated(0)\n",
    "print(r+a)\n",
    "print(t, r, a)\n",
    "torch.cuda.empty_cache() "
   ]
  },
  {
   "cell_type": "code",
   "execution_count": null,
   "metadata": {},
   "outputs": [],
   "source": [
    "expert_controls = torch.tensor([],device = torch.device('cuda:0')) # used to reset expert_controls from constantly appending\n",
    "a_star_sim = None\n",
    "#\n",
    "for i in range(3):\n",
    "    for j in range(5):\n",
    "        x = np.random.uniform(45, 55)\n",
    "        y = np.random.uniform(1, 5)\n",
    "        angle = np.random.uniform(5 *math.pi/12, 7*math.pi/12)\n",
    "\n",
    "        if(angle<0):\n",
    "            angle+=2 * math.pi\n",
    "            \n",
    "        a_star_robot = Bicycle(x, y, angle, 0)\n",
    "        goal = (50, 90, 3, 10)\n",
    "\n",
    "        mppi_sample_center= torch.tensor([0., 0.])\n",
    "        mppi_sample_covariance = torch.tensor([[4.,0.],[0., 1]])\n",
    "\n",
    "        env = Map(goal_point = goal, avoidance_points=avoid, rect_obstacles=rect,circle_obstacles=circle, device = torch.device('cuda:0'))\n",
    "        a_star_map = Map(goal_point = (a_star_robot.x, a_star_robot.y,4,4), speed_weight = 0.1, avoidance_points=avoid, \n",
    "                         rect_obstacles=rect,circle_obstacles=circle, device = torch.device('cuda:0'))\n",
    "\n",
    "        def a_star_heuristic(state):     \n",
    "            return env.terminal_state_cost_batch(state)\n",
    "\n",
    "        a_star_plan = a_star_planner(a_star_robot, state_dim, ctrl_dim, u_min, u_max, \n",
    "                          env.get_obstacles_batch, env.get_distance_batch,\n",
    "                         iterations = 50000, goal_point = env.goal_point, angle_density = 32, grid_interval = 0.4, goal_tolerance =0.1, \n",
    "                                           timestep = step, device=torch.device('cuda:0'))\n",
    "        \n",
    "        print (i, j, x, y, \"plan ready\")\n",
    "        a_star_follower = MPPI_path_follower(a_star_robot, state_dim, ctrl_dim, \n",
    "                          mppi_sample_center, mppi_sample_covariance,  u_min, u_max, \n",
    "                          a_star_robot.dynamics_batch_horizon, a_star_map, \n",
    "                                             a_star_map.running_cost_batch_horizon, a_star_map.terminal_state_cost_batch, a_star_plan.path, \n",
    "                         num_samples = 8192, horizon = follow_depth, lambda_=.1, sample_null_action = True,\n",
    "                          timestep = step, device=torch.device('cuda:0'))\n",
    "        print(\"expert demo started\")\n",
    "        \n",
    "        a_star_sim = Simulation(a_star_robot, a_star_follower, a_star_map, goal_tolerance = 1, timestep = step)\n",
    "        \n",
    "        iter, goal_reached = a_star_sim.run(500, False, True, True, True, \n",
    "                                            write_rollout_start = 0, write_rollouts_num = 10, write_rate = 2)\n",
    "\n",
    "        if not goal_reached:\n",
    "            #a_star_sim.display_run()\n",
    "            #a_star_sim.display_history()\n",
    "            print(\"L\")\n",
    "        else:\n",
    "            #a_star_sim.display_run()\n",
    "            #a_star_sim.display_history()\n",
    "            new_controls = get_expert_controls(a_star_robot.control_history, horizon_depth, ctrl_dim,interval_step = 2, dev = torch.device('cuda:0'))\n",
    "            \n",
    "            #expert_means, assigned_num, loss = kmeans.k_means_segment(new_controls, k = 7)\n",
    "            expert_controls = torch.cat((expert_controls, new_controls), 0)\n",
    "    \n",
    "            #expert_means[:, :, -1] = -expert_means[:, :, -1]\n",
    "            new_controls[:, :, -1] = -new_controls[:, :, -1]\n",
    "            expert_controls = torch.cat((expert_controls, new_controls), 0)\n",
    "\n",
    "        \n",
    "        # losses = []\n",
    "        # clusters = []\n",
    "        \n",
    "        # for num_cluster in range(1, 50, 5):\n",
    "        #     expert_means, assigned_num, loss = kmeans.k_means_segment(new_controls, k = num_cluster)\n",
    "        #     losses.append(loss)\n",
    "        #     clusters.append(num_cluster)\n",
    "        # plt.plot(clusters, losses)\n",
    "        # plt.show()\n",
    "            torch.cuda.empty_cache() \n",
    "            print(expert_controls.shape)\n",
    "\n"
   ]
  },
  {
   "cell_type": "code",
   "execution_count": 53,
   "metadata": {},
   "outputs": [
    {
     "ename": "NameError",
     "evalue": "name 'X' is not defined",
     "output_type": "error",
     "traceback": [
      "\u001b[0;31m---------------------------------------------------------------------------\u001b[0m",
      "\u001b[0;31mNameError\u001b[0m                                 Traceback (most recent call last)",
      "Cell \u001b[0;32mIn[53], line 7\u001b[0m\n\u001b[1;32m      1\u001b[0m \u001b[38;5;66;03m# a_star_sim.draw_explored(a_star_plan.path, False)\u001b[39;00m\n\u001b[1;32m      2\u001b[0m \n\u001b[1;32m      3\u001b[0m \u001b[38;5;66;03m# a_star_sim.display_run()\u001b[39;00m\n\u001b[1;32m      4\u001b[0m \u001b[38;5;66;03m# a_star_sim.display_history()\u001b[39;00m\n\u001b[1;32m      6\u001b[0m torch\u001b[38;5;241m.\u001b[39mcuda\u001b[38;5;241m.\u001b[39mempty_cache() \n\u001b[0;32m----> 7\u001b[0m gmm_means, gmm_cov, gmm_pi, ll \u001b[38;5;241m=\u001b[39m \u001b[43mgmm\u001b[49m\u001b[38;5;241;43m.\u001b[39;49m\u001b[43mrun_model\u001b[49m\u001b[43m(\u001b[49m\u001b[43mexpert_controls\u001b[49m\u001b[43m,\u001b[49m\u001b[43m \u001b[49m\u001b[38;5;241;43m10\u001b[39;49m\u001b[43m)\u001b[49m\n",
      "File \u001b[0;32m~/Documents/mppi-plt-sim/gmm.py:147\u001b[0m, in \u001b[0;36mrun_model\u001b[0;34m(expert_rollouts, k, iterations)\u001b[0m\n\u001b[1;32m    144\u001b[0m resp \u001b[38;5;241m=\u001b[39m \u001b[38;5;28;01mNone\u001b[39;00m\n\u001b[1;32m    146\u001b[0m \u001b[38;5;28;01mfor\u001b[39;00m \u001b[38;5;28miter\u001b[39m \u001b[38;5;129;01min\u001b[39;00m \u001b[38;5;28mrange\u001b[39m(iterations):\n\u001b[0;32m--> 147\u001b[0m     resp \u001b[38;5;241m=\u001b[39m \u001b[43mE_step\u001b[49m\u001b[43m(\u001b[49m\u001b[43mnormalized_expert\u001b[49m\u001b[43m,\u001b[49m\u001b[43m \u001b[49m\u001b[43mmeans\u001b[49m\u001b[43m,\u001b[49m\u001b[43m \u001b[49m\u001b[43msigma\u001b[49m\u001b[43m,\u001b[49m\u001b[43m \u001b[49m\u001b[43mpi\u001b[49m\u001b[43m,\u001b[49m\u001b[43m \u001b[49m\u001b[43mk\u001b[49m\u001b[43m,\u001b[49m\u001b[43m \u001b[49m\u001b[43mtorch\u001b[49m\u001b[38;5;241;43m.\u001b[39;49m\u001b[43mdevice\u001b[49m\u001b[43m(\u001b[49m\u001b[38;5;124;43m'\u001b[39;49m\u001b[38;5;124;43mcuda:0\u001b[39;49m\u001b[38;5;124;43m'\u001b[39;49m\u001b[43m)\u001b[49m\u001b[43m)\u001b[49m\n\u001b[1;32m    148\u001b[0m     means, sigma, pi \u001b[38;5;241m=\u001b[39m M_step(normalized_expert, resp, k)\n\u001b[1;32m    150\u001b[0m ll \u001b[38;5;241m=\u001b[39m loglikelihood(normalized_expert, means, sigma, pi, k, torch\u001b[38;5;241m.\u001b[39mdevice(\u001b[38;5;124m'\u001b[39m\u001b[38;5;124mcuda:0\u001b[39m\u001b[38;5;124m'\u001b[39m))\n",
      "File \u001b[0;32m~/Documents/mppi-plt-sim/gmm.py:94\u001b[0m, in \u001b[0;36mE_step\u001b[0;34m(normalized_expert, means, sigma, pi, k, dev)\u001b[0m\n\u001b[1;32m     91\u001b[0m likelihood \u001b[38;5;241m=\u001b[39m torch\u001b[38;5;241m.\u001b[39mempty([k, m], device \u001b[38;5;241m=\u001b[39m dev)\n\u001b[1;32m     93\u001b[0m \u001b[38;5;28;01mfor\u001b[39;00m cluster \u001b[38;5;129;01min\u001b[39;00m \u001b[38;5;28mrange\u001b[39m(k):\n\u001b[0;32m---> 94\u001b[0m     likelihood[cluster,:] \u001b[38;5;241m=\u001b[39m torch\u001b[38;5;241m.\u001b[39mlog(pi[cluster])\u001b[38;5;241m+\u001b[39m torch\u001b[38;5;241m.\u001b[39mlog(compute_prob(\u001b[43mX\u001b[49m, means[cluster], sigma[cluster]))\n\u001b[1;32m     96\u001b[0m likelihood \u001b[38;5;241m=\u001b[39m likelihood\u001b[38;5;241m-\u001b[39mtorch\u001b[38;5;241m.\u001b[39mmax(likelihood, dim \u001b[38;5;241m=\u001b[39m \u001b[38;5;241m0\u001b[39m)[\u001b[38;5;28;01mNone\u001b[39;00m,:]\n\u001b[1;32m     97\u001b[0m recover \u001b[38;5;241m=\u001b[39m torch\u001b[38;5;241m.\u001b[39mexp(likelihood)\n",
      "\u001b[0;31mNameError\u001b[0m: name 'X' is not defined"
     ]
    }
   ],
   "source": [
    "# a_star_sim.draw_explored(a_star_plan.path, False)\n",
    "\n",
    "# a_star_sim.display_run()\n",
    "# a_star_sim.display_history()\n",
    "\n",
    "torch.cuda.empty_cache() \n",
    "gmm_means, gmm_cov, gmm_pi, ll = gmm.run_model(expert_controls, 10)"
   ]
  },
  {
   "cell_type": "code",
   "execution_count": null,
   "metadata": {},
   "outputs": [],
   "source": [
    "%who"
   ]
  },
  {
   "cell_type": "code",
   "execution_count": null,
   "metadata": {},
   "outputs": [],
   "source": [
    "losses = []\n",
    "clusters = []\n",
    "\n",
    "for num_cluster in range(1, 20):\n",
    "    #expert_means, expert_covariances, loss = kmeans.k_means_segment(expert_controls, k = num_cluster)\n",
    "    expert_means, loss = kmeans.k_means_segment(expert_controls, k = num_cluster)\n",
    "    losses.append(loss)\n",
    "    clusters.append(num_cluster)\n",
    "    print(num_cluster)"
   ]
  },
  {
   "cell_type": "code",
   "execution_count": 171,
   "metadata": {},
   "outputs": [
    {
     "name": "stdout",
     "output_type": "stream",
     "text": [
      "[567183.375, 548189.375, 535722.0, 528013.6875, 521407.625, 516272.5, 512049.625, 509071.59375, 506636.40625, 504797.65625, 503273.78125, 502231.90625, 501351.59375, 500160.34375, 499211.125, 498247.0625, 497324.0, 496316.03125, 496112.5]\n"
     ]
    },
    {
     "data": {
      "image/png": "[encoded data removed]",
      "text/plain": [
       "<Figure size 640x480 with 1 Axes>"
      ]
     },
     "metadata": {},
     "output_type": "display_data"
    }
   ],
   "source": [
    "print(losses)\n",
    "plt.plot(clusters, losses)\n",
    "plt.show()"
   ]
  },
  {
   "cell_type": "code",
   "execution_count": null,
   "metadata": {},
   "outputs": [],
   "source": []
  },
  {
   "cell_type": "code",
   "execution_count": 172,
   "metadata": {},
   "outputs": [
    {
     "name": "stdout",
     "output_type": "stream",
     "text": [
      "torch.Size([10, 64, 2])\n"
     ]
    }
   ],
   "source": [
    "num_clusters = 10\n",
    "expert_means, loss = kmeans.k_means_segment(expert_controls, k = num_clusters)\n",
    "print(expert_means.shape)\n"
   ]
  },
  {
   "cell_type": "code",
   "execution_count": 175,
   "metadata": {},
   "outputs": [],
   "source": [
    "use_expert_controls = True\n",
    "samples = 2048\n",
    "controls = None\n",
    "\n",
    "expert_samples = [50 for i in range(10)]\n",
    "\n",
    "if use_expert_controls:\n",
    "    if expert_samples is not None:\n",
    "        samples = samples - sum(expert_samples)\n",
    "        controls = expert_means\n",
    "    else:\n",
    "        samples = samples - expert_controls.shape[0]\n",
    "        controls = expert_controls\n",
    "    \n",
    "if(samples <0):\n",
    "    print(\"too many expert rollouts\")"
   ]
  },
  {
   "cell_type": "code",
   "execution_count": 176,
   "metadata": {},
   "outputs": [
    {
     "name": "stdout",
     "output_type": "stream",
     "text": [
      "0 0 True 201 1.0\n",
      "0 1 True 211 1.0\n",
      "0 2 True 214 1.0\n",
      "0 3 True 204 1.0\n"
     ]
    },
    {
     "data": {
      "text/html": [
       "<iframe\n",
       "    scrolling=\"no\"\n",
       "    width=\"100%\"\n",
       "    height=\"545px\"\n",
       "    src=\"iframe_figures/figure_176.html\"\n",
       "    frameborder=\"0\"\n",
       "    allowfullscreen\n",
       "></iframe>\n"
      ]
     },
     "metadata": {},
     "output_type": "display_data"
    },
    {
     "name": "stdout",
     "output_type": "stream",
     "text": [
      "0 4 False 58 0.8\n",
      "0 5 True 207 0.8333333333333334\n",
      "0 6 True 210 0.8571428571428571\n",
      "0 7 True 226 0.875\n",
      "0 8 True 206 0.8888888888888888\n",
      "0 9 True 212 0.9\n",
      "1 0 True 201 0.9090909090909091\n",
      "1 1 True 209 0.9166666666666666\n",
      "1 2 True 210 0.9230769230769231\n",
      "1 3 True 207 0.9285714285714286\n",
      "1 4 True 213 0.9333333333333333\n",
      "1 5 True 213 0.9375\n",
      "1 6 True 205 0.9411764705882353\n",
      "1 7 True 210 0.9444444444444444\n",
      "1 8 True 214 0.9473684210526315\n",
      "1 9 True 214 0.95\n",
      "2 0 True 208 0.9523809523809523\n",
      "2 1 True 208 0.9545454545454546\n",
      "2 2 True 217 0.9565217391304348\n",
      "2 3 True 214 0.9583333333333334\n",
      "2 4 True 220 0.96\n",
      "2 5 True 206 0.9615384615384616\n",
      "2 6 True 214 0.9629629629629629\n",
      "2 7 True 219 0.9642857142857143\n"
     ]
    },
    {
     "data": {
      "text/html": [
       "<iframe\n",
       "    scrolling=\"no\"\n",
       "    width=\"100%\"\n",
       "    height=\"545px\"\n",
       "    src=\"iframe_figures/figure_176.html\"\n",
       "    frameborder=\"0\"\n",
       "    allowfullscreen\n",
       "></iframe>\n"
      ]
     },
     "metadata": {},
     "output_type": "display_data"
    },
    {
     "name": "stdout",
     "output_type": "stream",
     "text": [
      "2 8 False 104 0.9310344827586207\n",
      "2 9 True 226 0.9333333333333333\n",
      "3 0 True 211 0.9354838709677419\n",
      "3 1 True 223 0.9375\n",
      "3 2 True 217 0.9393939393939394\n",
      "3 3 True 213 0.9411764705882353\n",
      "3 4 True 208 0.9428571428571428\n"
     ]
    },
    {
     "data": {
      "text/html": [
       "<iframe\n",
       "    scrolling=\"no\"\n",
       "    width=\"100%\"\n",
       "    height=\"545px\"\n",
       "    src=\"iframe_figures/figure_176.html\"\n",
       "    frameborder=\"0\"\n",
       "    allowfullscreen\n",
       "></iframe>\n"
      ]
     },
     "metadata": {},
     "output_type": "display_data"
    },
    {
     "name": "stdout",
     "output_type": "stream",
     "text": [
      "3 5 False 182 0.9166666666666666\n",
      "3 6 True 214 0.918918918918919\n",
      "3 7 True 211 0.9210526315789473\n",
      "3 8 True 214 0.9230769230769231\n",
      "3 9 True 212 0.925\n",
      "4 0 True 209 0.926829268292683\n",
      "4 1 True 202 0.9285714285714286\n",
      "4 2 True 209 0.9302325581395349\n",
      "4 3 True 206 0.9318181818181818\n",
      "4 4 True 210 0.9333333333333333\n",
      "4 5 True 219 0.9347826086956522\n"
     ]
    },
    {
     "data": {
      "text/html": [
       "<iframe\n",
       "    scrolling=\"no\"\n",
       "    width=\"100%\"\n",
       "    height=\"545px\"\n",
       "    src=\"iframe_figures/figure_176.html\"\n",
       "    frameborder=\"0\"\n",
       "    allowfullscreen\n",
       "></iframe>\n"
      ]
     },
     "metadata": {},
     "output_type": "display_data"
    },
    {
     "name": "stdout",
     "output_type": "stream",
     "text": [
      "4 6 False 40 0.9148936170212766\n",
      "4 7 True 214 0.9166666666666666\n",
      "4 8 True 216 0.9183673469387755\n",
      "4 9 True 204 0.92\n",
      "5 0 True 215 0.9215686274509803\n",
      "5 1 True 210 0.9230769230769231\n",
      "5 2 True 212 0.9245283018867925\n",
      "5 3 True 202 0.9259259259259259\n",
      "5 4 True 220 0.9272727272727272\n",
      "5 5 True 215 0.9285714285714286\n",
      "5 6 True 211 0.9298245614035088\n",
      "5 7 True 208 0.9310344827586207\n"
     ]
    },
    {
     "data": {
      "text/html": [
       "<iframe\n",
       "    scrolling=\"no\"\n",
       "    width=\"100%\"\n",
       "    height=\"545px\"\n",
       "    src=\"iframe_figures/figure_176.html\"\n",
       "    frameborder=\"0\"\n",
       "    allowfullscreen\n",
       "></iframe>\n"
      ]
     },
     "metadata": {},
     "output_type": "display_data"
    },
    {
     "name": "stdout",
     "output_type": "stream",
     "text": [
      "5 8 False 63 0.9152542372881356\n",
      "5 9 True 204 0.9166666666666666\n"
     ]
    },
    {
     "data": {
      "text/html": [
       "<iframe\n",
       "    scrolling=\"no\"\n",
       "    width=\"100%\"\n",
       "    height=\"545px\"\n",
       "    src=\"iframe_figures/figure_176.html\"\n",
       "    frameborder=\"0\"\n",
       "    allowfullscreen\n",
       "></iframe>\n"
      ]
     },
     "metadata": {},
     "output_type": "display_data"
    },
    {
     "name": "stdout",
     "output_type": "stream",
     "text": [
      "6 0 False 64 0.9016393442622951\n"
     ]
    },
    {
     "data": {
      "text/html": [
       "<iframe\n",
       "    scrolling=\"no\"\n",
       "    width=\"100%\"\n",
       "    height=\"545px\"\n",
       "    src=\"iframe_figures/figure_176.html\"\n",
       "    frameborder=\"0\"\n",
       "    allowfullscreen\n",
       "></iframe>\n"
      ]
     },
     "metadata": {},
     "output_type": "display_data"
    },
    {
     "name": "stdout",
     "output_type": "stream",
     "text": [
      "6 1 False 127 0.8870967741935484\n",
      "6 2 True 207 0.8888888888888888\n",
      "6 3 True 218 0.890625\n",
      "6 4 True 209 0.8923076923076924\n",
      "6 5 True 220 0.8939393939393939\n",
      "6 6 True 223 0.8955223880597015\n",
      "6 7 True 204 0.8970588235294118\n",
      "6 8 True 220 0.8985507246376812\n"
     ]
    },
    {
     "data": {
      "text/html": [
       "<iframe\n",
       "    scrolling=\"no\"\n",
       "    width=\"100%\"\n",
       "    height=\"545px\"\n",
       "    src=\"iframe_figures/figure_176.html\"\n",
       "    frameborder=\"0\"\n",
       "    allowfullscreen\n",
       "></iframe>\n"
      ]
     },
     "metadata": {},
     "output_type": "display_data"
    },
    {
     "name": "stdout",
     "output_type": "stream",
     "text": [
      "6 9 False 61 0.8857142857142857\n",
      "7 0 True 216 0.8873239436619719\n",
      "7 1 True 213 0.8888888888888888\n",
      "7 2 True 210 0.8904109589041096\n",
      "7 3 True 221 0.8918918918918919\n",
      "7 4 True 220 0.8933333333333333\n",
      "7 5 True 208 0.8947368421052632\n"
     ]
    },
    {
     "data": {
      "text/html": [
       "<iframe\n",
       "    scrolling=\"no\"\n",
       "    width=\"100%\"\n",
       "    height=\"545px\"\n",
       "    src=\"iframe_figures/figure_176.html\"\n",
       "    frameborder=\"0\"\n",
       "    allowfullscreen\n",
       "></iframe>\n"
      ]
     },
     "metadata": {},
     "output_type": "display_data"
    },
    {
     "name": "stdout",
     "output_type": "stream",
     "text": [
      "7 6 False 154 0.8831168831168831\n",
      "7 7 True 216 0.8846153846153846\n",
      "7 8 True 205 0.8860759493670886\n",
      "7 9 True 210 0.8875\n"
     ]
    },
    {
     "data": {
      "text/html": [
       "<iframe\n",
       "    scrolling=\"no\"\n",
       "    width=\"100%\"\n",
       "    height=\"545px\"\n",
       "    src=\"iframe_figures/figure_176.html\"\n",
       "    frameborder=\"0\"\n",
       "    allowfullscreen\n",
       "></iframe>\n"
      ]
     },
     "metadata": {},
     "output_type": "display_data"
    },
    {
     "name": "stdout",
     "output_type": "stream",
     "text": [
      "8 0 False 60 0.8765432098765432\n"
     ]
    },
    {
     "data": {
      "text/html": [
       "<iframe\n",
       "    scrolling=\"no\"\n",
       "    width=\"100%\"\n",
       "    height=\"545px\"\n",
       "    src=\"iframe_figures/figure_176.html\"\n",
       "    frameborder=\"0\"\n",
       "    allowfullscreen\n",
       "></iframe>\n"
      ]
     },
     "metadata": {},
     "output_type": "display_data"
    },
    {
     "name": "stdout",
     "output_type": "stream",
     "text": [
      "8 1 False 81 0.8658536585365854\n"
     ]
    },
    {
     "data": {
      "text/html": [
       "<iframe\n",
       "    scrolling=\"no\"\n",
       "    width=\"100%\"\n",
       "    height=\"545px\"\n",
       "    src=\"iframe_figures/figure_176.html\"\n",
       "    frameborder=\"0\"\n",
       "    allowfullscreen\n",
       "></iframe>\n"
      ]
     },
     "metadata": {},
     "output_type": "display_data"
    },
    {
     "name": "stdout",
     "output_type": "stream",
     "text": [
      "8 2 False 39 0.8554216867469879\n",
      "8 3 True 215 0.8571428571428571\n"
     ]
    },
    {
     "data": {
      "text/html": [
       "<iframe\n",
       "    scrolling=\"no\"\n",
       "    width=\"100%\"\n",
       "    height=\"545px\"\n",
       "    src=\"iframe_figures/figure_176.html\"\n",
       "    frameborder=\"0\"\n",
       "    allowfullscreen\n",
       "></iframe>\n"
      ]
     },
     "metadata": {},
     "output_type": "display_data"
    },
    {
     "name": "stdout",
     "output_type": "stream",
     "text": [
      "8 4 False 110 0.8470588235294118\n",
      "8 5 True 201 0.8488372093023255\n",
      "8 6 True 211 0.8505747126436781\n"
     ]
    },
    {
     "data": {
      "text/html": [
       "<iframe\n",
       "    scrolling=\"no\"\n",
       "    width=\"100%\"\n",
       "    height=\"545px\"\n",
       "    src=\"iframe_figures/figure_176.html\"\n",
       "    frameborder=\"0\"\n",
       "    allowfullscreen\n",
       "></iframe>\n"
      ]
     },
     "metadata": {},
     "output_type": "display_data"
    },
    {
     "name": "stdout",
     "output_type": "stream",
     "text": [
      "8 7 False 43 0.8409090909090909\n",
      "8 8 True 208 0.8426966292134831\n",
      "8 9 True 214 0.8444444444444444\n",
      "9 0 True 207 0.8461538461538461\n",
      "9 1 True 206 0.8478260869565217\n",
      "9 2 True 217 0.8494623655913979\n"
     ]
    },
    {
     "data": {
      "text/html": [
       "<iframe\n",
       "    scrolling=\"no\"\n",
       "    width=\"100%\"\n",
       "    height=\"545px\"\n",
       "    src=\"iframe_figures/figure_176.html\"\n",
       "    frameborder=\"0\"\n",
       "    allowfullscreen\n",
       "></iframe>\n"
      ]
     },
     "metadata": {},
     "output_type": "display_data"
    },
    {
     "name": "stdout",
     "output_type": "stream",
     "text": [
      "9 3 False 173 0.8404255319148937\n",
      "9 4 True 205 0.8421052631578947\n",
      "9 5 True 207 0.84375\n",
      "9 6 True 212 0.845360824742268\n",
      "9 7 True 207 0.8469387755102041\n"
     ]
    },
    {
     "data": {
      "text/html": [
       "<iframe\n",
       "    scrolling=\"no\"\n",
       "    width=\"100%\"\n",
       "    height=\"545px\"\n",
       "    src=\"iframe_figures/figure_176.html\"\n",
       "    frameborder=\"0\"\n",
       "    allowfullscreen\n",
       "></iframe>\n"
      ]
     },
     "metadata": {},
     "output_type": "display_data"
    },
    {
     "name": "stdout",
     "output_type": "stream",
     "text": [
      "9 8 False 152 0.8383838383838383\n"
     ]
    },
    {
     "data": {
      "text/html": [
       "<iframe\n",
       "    scrolling=\"no\"\n",
       "    width=\"100%\"\n",
       "    height=\"545px\"\n",
       "    src=\"iframe_figures/figure_176.html\"\n",
       "    frameborder=\"0\"\n",
       "    allowfullscreen\n",
       "></iframe>\n"
      ]
     },
     "metadata": {},
     "output_type": "display_data"
    },
    {
     "name": "stdout",
     "output_type": "stream",
     "text": [
      "9 9 False 176 0.83\n",
      "0.83\n",
      "211.5421686746988\n"
     ]
    }
   ],
   "source": [
    "\n",
    "mppi_sample_center= torch.tensor([0., 0.])\n",
    "mppi_sample_covariance = torch.tensor([[9.,0.],[0.,1]])\n",
    "expert_sample_center= torch.zeros(ctrl_dim *horizon_depth)\n",
    "expert_sample_covariance = torch.tensor([[.09,0.],[0., .01]])\n",
    "# note: if these parameters are changed, the a-star ones should be changed to match\n",
    "\n",
    "# changes to 8 clusters\n",
    "\n",
    "success = 0.\n",
    "total = 0.\n",
    "total_it = 0.\n",
    "\n",
    "for i in range(10):\n",
    "    for j in range(10):\n",
    "        x = np.random.uniform(45, 55)\n",
    "        y = np.random.uniform(1, 5)\n",
    "        angle = np.random.uniform(5 *math.pi/12, 7*math.pi/12)\n",
    "\n",
    "        if(angle<0):\n",
    "            angle+=2 * math.pi\n",
    "\n",
    "        mppi_robot = Bicycle(x, y, angle, 0)\n",
    "        mppi_goal = (50, 90, 1, 10)\n",
    "\n",
    "\n",
    "        mppi_map = Map(goal_point = mppi_goal, avoidance_points=avoid, \n",
    "                       rect_obstacles=rect,circle_obstacles=circle, speed_weight = 0.01, device = torch.device('cuda:0'))\n",
    "        mppi_controller = MPPI(mppi_robot, state_dim, ctrl_dim, \n",
    "                          mppi_sample_center, mppi_sample_covariance,  u_min, u_max,\n",
    "                          mppi_robot.dynamics_batch_horizon, mppi_map.running_cost_batch_horizon, mppi_map.terminal_state_cost_batch,\n",
    "                               expert_rollouts = controls, expert_samples = expert_samples, \n",
    "                               expert_mu = mppi_sample_center, expert_noise = expert_sample_covariance,\n",
    "                               num_samples = samples, horizon = horizon_depth, lambda_=1,sample_null_action = True,\n",
    "                               timestep = step, device=torch.device('cuda:0'))\n",
    "        mppi_sim = Simulation(mppi_robot, mppi_controller, mppi_map, timestep = step, goal_tolerance = 2)\n",
    "\n",
    "        iterations, completed = mppi_sim.run(iterations=400, draw_obstacles = False, write_snapshots =False, \n",
    "              write_rollouts=True, write_controls = True, write_rollout_start = 0, write_rollouts_num = 6,write_rate = 2)\n",
    "        \n",
    "        \n",
    "\n",
    "        if completed:\n",
    "            success+=1\n",
    "            total_it += iterations\n",
    "        else:\n",
    "            mppi_sim.display_history()\n",
    "        total+=1\n",
    "        \n",
    "        \n",
    "        print(i, j, completed, iterations, success/total)\n",
    "        \n",
    "print(success/total)\n",
    "if success > 0:\n",
    "    print(total_it/success)\n",
    "\n"
   ]
  },
  {
   "cell_type": "code",
   "execution_count": null,
   "metadata": {},
   "outputs": [],
   "source": []
  },
  {
   "cell_type": "code",
   "execution_count": null,
   "metadata": {},
   "outputs": [],
   "source": []
  }
 ],
 "metadata": {
  "kernelspec": {
   "display_name": "Python 3 (ipykernel)",
   "language": "python",
   "name": "python3"
  },
  "language_info": {
   "codemirror_mode": {
    "name": "ipython",
    "version": 3
   },
   "file_extension": ".py",
   "mimetype": "text/x-python",
   "name": "python",
   "nbconvert_exporter": "python",
   "pygments_lexer": "ipython3",
   "version": "3.8.10"
  }
 },
 "nbformat": 4,
 "nbformat_minor": 4
}
