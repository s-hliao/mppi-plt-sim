{
 "cells": [
  {
   "cell_type": "code",
   "execution_count": 1,
   "metadata": {},
   "outputs": [],
   "source": [
    "import numpy as np\n",
    "import torch\n",
    "from torch.distributions.multivariate_normal import MultivariateNormal\n",
    "\n",
    "import matplotlib as plt\n",
    "import matplotlib.image as mpimg\n",
    "\n",
    "import plotly\n",
    "import plotly.express as px\n",
    "import plotly.graph_objects as go\n",
    "import plotly.io as pio\n",
    "\n",
    "from skimage import io\n",
    "import os\n",
    "\n",
    "import math\n",
    "import requests\n",
    "\n",
    "from queue import PriorityQueue"
   ]
  },
  {
   "cell_type": "code",
   "execution_count": null,
   "metadata": {},
   "outputs": [],
   "source": []
  },
  {
   "cell_type": "code",
   "execution_count": 2,
   "metadata": {},
   "outputs": [],
   "source": [
    "plotly.__version__\n",
    "pio.renderers.default = \"iframe\""
   ]
  },
  {
   "cell_type": "code",
   "execution_count": 3,
   "metadata": {},
   "outputs": [
    {
     "data": {
      "text/plain": [
       "'1.16.6'"
      ]
     },
     "execution_count": 3,
     "metadata": {},
     "output_type": "execute_result"
    }
   ],
   "source": [
    "np.__version__"
   ]
  },
  {
   "cell_type": "code",
   "execution_count": 4,
   "metadata": {},
   "outputs": [],
   "source": [
    "np.random.seed(0)"
   ]
  },
  {
   "cell_type": "code",
   "execution_count": 5,
   "metadata": {},
   "outputs": [
    {
     "data": {
      "text/plain": [
       "[<torch.cuda.device at 0x7fab7e827410>]"
      ]
     },
     "execution_count": 5,
     "metadata": {},
     "output_type": "execute_result"
    }
   ],
   "source": [
    "available_gpus = [torch.cuda.device(i) for i in range(torch.cuda.device_count())]\n",
    "available_gpus"
   ]
  },
  {
   "cell_type": "code",
   "execution_count": 6,
   "metadata": {},
   "outputs": [],
   "source": [
    "%load_ext autoreload\n",
    "%autoreload 2\n",
    "\n",
    "from model import Bicycle, Map\n",
    "from mppi import MPPI, MPPI_path_follower\n",
    "from path_planner import a_star_planner\n",
    "from sim import Simulation\n"
   ]
  },
  {
   "cell_type": "code",
   "execution_count": 7,
   "metadata": {},
   "outputs": [],
   "source": [
    "torch.cuda.empty_cache() "
   ]
  },
  {
   "cell_type": "code",
   "execution_count": 8,
   "metadata": {},
   "outputs": [],
   "source": [
    "def get_expert_controls(control_history, horizon_depth, ctrl_dim, interval_start = 0, interval_end = None, dev=\"cpu\"):\n",
    "    if(interval_end is None):\n",
    "        interval_end = len(control_history)-horizon_depth\n",
    "    expert_controls = torch.empty([interval_end-interval_start, horizon_depth, ctrl_dim], dtype = torch.float, device = dev)\n",
    "    for i in range(interval_start, interval_end):\n",
    "        expert_controls[i-interval_start,:,:] = torch.stack(control_history[i:i+horizon_depth])        \n",
    "    return expert_controls"
   ]
  },
  {
   "cell_type": "code",
   "execution_count": 9,
   "metadata": {},
   "outputs": [],
   "source": [
    "avoid = []\n",
    "\n",
    "rect = [(20, 0, 80, 50),(20,51,80, 100) ]\n",
    "circle= []\n",
    "\n",
    "state_dim = 4\n",
    "ctrl_dim = 2\n",
    "u_min = (0., -3.)\n",
    "u_max = (10., 3.)\n",
    "step = .1\n",
    "follow_depth = 16 # note: if these parameters are changed, the mppi ones should be changed to match\n",
    "horizon_depth = 32"
   ]
  },
  {
   "cell_type": "code",
   "execution_count": null,
   "metadata": {},
   "outputs": [
    {
     "name": "stdout",
     "output_type": "stream",
     "text": [
      "plan ready\n",
      "demo generated\n",
      "(1, 45, torch.Size([132, 32, 2]))\n",
      "plan ready\n",
      "demo generated\n",
      "(1, 47, torch.Size([250, 32, 2]))\n",
      "plan ready\n",
      "demo generated\n",
      "(1, 49, torch.Size([370, 32, 2]))\n",
      "plan ready\n",
      "demo generated\n",
      "(1, 51, torch.Size([496, 32, 2]))\n",
      "plan ready\n",
      "demo generated\n",
      "(1, 53, torch.Size([632, 32, 2]))\n",
      "plan ready\n",
      "demo generated\n",
      "(1, 55, torch.Size([754, 32, 2]))\n",
      "plan ready\n",
      "demo generated\n",
      "(3, 45, torch.Size([870, 32, 2]))\n",
      "plan ready\n",
      "demo generated\n",
      "(3, 47, torch.Size([986, 32, 2]))\n",
      "plan ready\n",
      "demo generated\n",
      "(3, 49, torch.Size([1100, 32, 2]))\n",
      "plan ready\n",
      "demo generated\n",
      "(3, 51, torch.Size([1212, 32, 2]))\n",
      "plan ready\n",
      "demo generated\n",
      "(3, 53, torch.Size([1328, 32, 2]))\n",
      "plan ready\n",
      "demo generated\n",
      "(3, 55, torch.Size([1446, 32, 2]))\n",
      "plan ready\n",
      "demo generated\n",
      "(5, 45, torch.Size([1564, 32, 2]))\n",
      "plan ready\n",
      "demo generated\n",
      "(5, 47, torch.Size([1676, 32, 2]))\n",
      "plan ready\n",
      "demo generated\n",
      "(5, 49, torch.Size([1784, 32, 2]))\n",
      "plan ready\n",
      "demo generated\n",
      "(5, 51, torch.Size([1892, 32, 2]))\n",
      "plan ready\n",
      "demo generated\n",
      "(5, 53, torch.Size([2004, 32, 2]))\n",
      "plan ready\n",
      "demo generated\n"
     ]
    }
   ],
   "source": [
    "expert_controls = torch.tensor([],device = torch.device('cuda:0')) # used to reset expert_controls from constantly appending\n",
    "a_star_sim = None\n",
    "#\n",
    "for i in [1, 3, 5]:\n",
    "    for j in range(45, 56, 2):\n",
    "        a_star_robot = Bicycle(i, j, 0, 0)\n",
    "        goal = (90, 50, 3 , 100)\n",
    "\n",
    "        mppi_sample_center= torch.tensor([0., 0.])\n",
    "        mppi_sample_covariance = torch.tensor([[16.,0.],[0., 1.]])\n",
    "\n",
    "        env = Map(goal_point = goal, avoidance_points=avoid, rect_obstacles=rect,circle_obstacles=circle, device = torch.device('cuda:0'))\n",
    "        a_star_map = Map(goal_point = (a_star_robot.x, a_star_robot.y,2,2), avoidance_points=avoid, rect_obstacles=rect,circle_obstacles=circle, device = torch.device('cuda:0'))\n",
    "\n",
    "        def a_star_heuristic(state):     \n",
    "            return env.terminal_state_cost_batch(state)\n",
    "\n",
    "        a_star_plan = a_star_planner(a_star_robot, state_dim, ctrl_dim, u_min, u_max, \n",
    "                          env.get_obstacles_batch, env.get_distance_batch,\n",
    "                         iterations = 50000, goal_point = env.goal_point, angle_density = 32, grid_interval = 0.2, goal_tolerance =0.1, \n",
    "                                           timestep = step, device=torch.device('cuda:0'))\n",
    "        \n",
    "        print (\"plan ready\")\n",
    "        a_star_follower = MPPI_path_follower(a_star_robot, state_dim, ctrl_dim, \n",
    "                          mppi_sample_center, mppi_sample_covariance,  u_min, u_max, \n",
    "                          a_star_robot.dynamics_batch_horizon, a_star_map, \n",
    "                                             a_star_map.running_cost_batch_horizon, a_star_map.terminal_state_cost_batch, a_star_plan.path, \n",
    "                         num_samples = 4096, horizon = follow_depth, lambda_=.1, sample_null_action = True,\n",
    "                          timestep = step, device=torch.device('cuda:0'))\n",
    "        print(\"demo generated\")\n",
    "        \n",
    "        a_star_sim = Simulation(a_star_robot, a_star_follower, a_star_map, goal_tolerance = 1, timestep = step)\n",
    "        \n",
    "        a_star_sim.run(100, True, True, True, 10, 1)\n",
    "\n",
    "        new_controls = get_expert_controls(a_star_robot.control_history, horizon_depth, ctrl_dim, dev = torch.device('cuda:0'))\n",
    "        expert_controls = torch.cat((expert_controls, new_controls), 0)\n",
    "        new_controls[:,:,1] = -new_controls[:,:,1] # negate steering controls\n",
    "        expert_controls = torch.cat((expert_controls, new_controls), 0)\n",
    "\n",
    "        print(i, j, expert_controls.shape)\n",
    "\n",
    "#ideally we wouldn't need to pass in goal_point and could just run off of cost functions\n"
   ]
  },
  {
   "cell_type": "code",
   "execution_count": null,
   "metadata": {},
   "outputs": [],
   "source": [
    "a_star_sim.draw_explored(a_star_plan.path, True)"
   ]
  },
  {
   "cell_type": "code",
   "execution_count": null,
   "metadata": {},
   "outputs": [],
   "source": [
    "a_star_sim.display_run()\n",
    "a_star_sim.display_history()"
   ]
  },
  {
   "cell_type": "code",
   "execution_count": null,
   "metadata": {},
   "outputs": [],
   "source": [
    "mppi_robot = Bicycle(5, 46, 0, 0)\n",
    "mppi_goal = (90, 50, 2 , 2)\n",
    "\n",
    "mppi_sample_center= torch.tensor([0., 0.])\n",
    "mppi_sample_covariance = torch.tensor([[16.,0.],[0., .1]])\n",
    "# note: if these parameters are changed, the a-star ones should be changed to match\n",
    "\n",
    "mppi_map = Map(goal_point = mppi_goal, avoidance_points=avoid, rect_obstacles=rect,circle_obstacles=circle, device = torch.device('cuda:0'))\n",
    "mppi_controller = MPPI(mppi_robot, state_dim, ctrl_dim, \n",
    "                  mppi_sample_center, mppi_sample_covariance,  u_min, u_max, \n",
    "                  mppi_robot.dynamics_batch_horizon, mppi_map.running_cost_batch_horizon, mppi_map.terminal_state_cost_batch,expert_rollouts = expert_controls,\n",
    "                 num_samples = 1982, horizon = horizon_depth, lambda_=.1, sample_null_action = True,\n",
    "                  timestep = step, device=torch.device('cuda:0'))\n",
    "\n",
    "mppi_sim = Simulation(mppi_robot, mppi_controller, mppi_map, timestep = step)\n"
   ]
  },
  {
   "cell_type": "code",
   "execution_count": null,
   "metadata": {},
   "outputs": [],
   "source": [
    "mppi_sim.run(iterations=150, write_snapshots = True, \n",
    "      write_rollouts=True, write_controls = True, write_rollouts_num = 10,\n",
    "     write_rate = 1)\n",
    "mppi_sim.display_run()\n",
    "mppi_sim.display_history()"
   ]
  },
  {
   "cell_type": "code",
   "execution_count": null,
   "metadata": {},
   "outputs": [],
   "source": []
  }
 ],
 "metadata": {
  "kernelspec": {
   "display_name": "Python 2",
   "language": "python",
   "name": "python2"
  },
  "language_info": {
   "codemirror_mode": {
    "name": "ipython",
    "version": 2
   },
   "file_extension": ".py",
   "mimetype": "text/x-python",
   "name": "python",
   "nbconvert_exporter": "python",
   "pygments_lexer": "ipython2",
   "version": "2.7.17"
  }
 },
 "nbformat": 4,
 "nbformat_minor": 2
}
