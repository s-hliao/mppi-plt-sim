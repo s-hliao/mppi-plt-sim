{
 "cells": [
  {
   "cell_type": "code",
   "execution_count": 2,
   "metadata": {},
   "outputs": [],
   "source": [
    "import numpy as np\n",
    "import torch\n",
    "from torch.distributions.multivariate_normal import MultivariateNormal\n",
    "\n",
    "import matplotlib.pyplot as plt\n",
    "import matplotlib.image as mpimg\n",
    "\n",
    "import plotly\n",
    "import plotly.express as px\n",
    "import plotly.graph_objects as go\n",
    "import plotly.io as pio\n",
    "\n",
    "from skimage import io\n",
    "import os\n",
    "\n",
    "from numba import cuda\n",
    "import math\n",
    "import requests\n",
    "\n",
    "from queue import PriorityQueue"
   ]
  },
  {
   "cell_type": "code",
   "execution_count": 3,
   "metadata": {},
   "outputs": [],
   "source": [
    "plotly.__version__\n",
    "pio.renderers.default = \"iframe\""
   ]
  },
  {
   "cell_type": "code",
   "execution_count": 4,
   "metadata": {},
   "outputs": [
    {
     "data": {
      "text/plain": [
       "'1.24.3'"
      ]
     },
     "execution_count": 4,
     "metadata": {},
     "output_type": "execute_result"
    }
   ],
   "source": [
    "np.__version__"
   ]
  },
  {
   "cell_type": "code",
   "execution_count": 5,
   "metadata": {},
   "outputs": [],
   "source": [
    "np.random.seed(0)"
   ]
  },
  {
   "cell_type": "code",
   "execution_count": 6,
   "metadata": {},
   "outputs": [
    {
     "data": {
      "text/plain": [
       "[<torch.cuda.device at 0x7fb0033590a0>]"
      ]
     },
     "execution_count": 6,
     "metadata": {},
     "output_type": "execute_result"
    }
   ],
   "source": [
    "available_gpus = [torch.cuda.device(i) for i in range(torch.cuda.device_count())]\n",
    "available_gpus"
   ]
  },
  {
   "cell_type": "code",
   "execution_count": 7,
   "metadata": {},
   "outputs": [],
   "source": [
    "%load_ext autoreload\n",
    "%autoreload 2\n",
    "\n",
    "from model import Bicycle, Map\n",
    "from mppi import MPPI, MPPI_path_follower\n",
    "from path_planner import a_star_planner\n",
    "from sim import Simulation\n",
    "\n",
    "import kmeans"
   ]
  },
  {
   "cell_type": "code",
   "execution_count": 8,
   "metadata": {},
   "outputs": [],
   "source": [
    "torch.cuda.empty_cache() "
   ]
  },
  {
   "cell_type": "code",
   "execution_count": 9,
   "metadata": {},
   "outputs": [],
   "source": [
    "avoid = []\n",
    "\n",
    "rect = [(20, 0, 80, 50),(20,51,80, 100) ]\n",
    "circle= []\n",
    "\n",
    "state_dim = 3\n",
    "ctrl_dim = 2\n",
    "u_min = (0., -4.)\n",
    "u_max = (10., 4.)\n",
    "step = .1\n",
    "follow_depth = 8 # note: if these parameters are changed, the mppi ones should be changed to match\n",
    "horizon_depth = 32\n",
    "\n",
    "#start at 1-5, 45-55, angle -0"
   ]
  },
  {
   "cell_type": "code",
   "execution_count": 10,
   "metadata": {},
   "outputs": [],
   "source": [
    "\n",
    "# avoid = []\n",
    "\n",
    "# rect = [(0, 0, 100, 10),(0, 0, 10, 100), (0, 61, 85, 100), (20, 0, 100, 59),(95,0,100,100) ]\n",
    "# circle= [(20,40, 6), (10, 30, 6),(10, 50, 6)]\n",
    "\n",
    "# state_dim = 3\n",
    "# ctrl_dim = 2\n",
    "# u_min = (0., -5.)\n",
    "# u_max = (10., 5.)\n",
    "# step = .05\n",
    "# follow_depth = 16 # note: if these parameters are changed, the mppi ones should be changed to match\n",
    "# horizon_depth = 64\n",
    "\n",
    "# #start at (11-19, 11-19), angle math.pi/2"
   ]
  },
  {
   "cell_type": "code",
   "execution_count": 11,
   "metadata": {},
   "outputs": [],
   "source": [
    "# avoid = []\n",
    "\n",
    "# rect = [(0, 15, 47, 85), (53, 15, 100,85)]\n",
    "# left_circles = [(47,20+x, 5) for x in range(0, 80, 20)]\n",
    "# print(left_circles)\n",
    "# right_circles = [(53,30+x, 5) for x in range(0, 60, 20)]\n",
    "# circle= left_circles + right_circles\n",
    "\n",
    "# state_dim = 3\n",
    "# ctrl_dim = 2\n",
    "# u_min = (0., -3.)\n",
    "# u_max = (10., 3.)\n",
    "# step = .05\n",
    "# follow_depth = 16 # note: if these parameters are changed, the mppi ones should be changed to match\n",
    "# horizon_depth = 64\n",
    "\n",
    "#start at (45-55, 1-5), angle math.pi/2"
   ]
  },
  {
   "cell_type": "code",
   "execution_count": 12,
   "metadata": {},
   "outputs": [],
   "source": [
    "def get_expert_controls(control_history, horizon_depth, ctrl_dim, interval_start = 0, interval_end = None, interval_step=2, dev=\"cpu\"):\n",
    "    if(interval_end is None):\n",
    "        interval_end = len(control_history)-1\n",
    "    first_rollout = interval_start\n",
    "    last_rollout = interval_end-horizon_depth\n",
    "    \n",
    "    rollout_starts = range(first_rollout, last_rollout+1, interval_step)\n",
    "    size = len(rollout_starts)\n",
    "    \n",
    "    expert_controls = torch.empty([size, horizon_depth, ctrl_dim], dtype = torch.float, device = dev)\n",
    "    count = 0\n",
    "    for i in rollout_starts:\n",
    "        expert_controls[count,:,:] = torch.stack(control_history[i:i+horizon_depth])        \n",
    "        count+=1\n",
    "    return expert_controls"
   ]
  },
  {
   "cell_type": "code",
   "execution_count": 13,
   "metadata": {},
   "outputs": [],
   "source": [
    "available_gpus = [torch.cuda.device(i) for i in range(torch.cuda.device_count())]"
   ]
  },
  {
   "cell_type": "code",
   "execution_count": 14,
   "metadata": {},
   "outputs": [
    {
     "name": "stdout",
     "output_type": "stream",
     "text": [
      "201 32\n",
      "3.195254015709299 52.151893663724195 plan ready\n",
      "expert demo started\n",
      "torch.Size([56, 32, 2])\n",
      "201 32\n",
      "3.4110535042865755 50.44883182996897 plan ready\n",
      "expert demo started\n",
      "torch.Size([112, 32, 2])\n",
      "201 32\n",
      "2.694619197355619 51.45894113066656 plan ready\n",
      "expert demo started\n",
      "torch.Size([168, 32, 2])\n",
      "201 32\n",
      "2.75034884505077 53.91773000782079 plan ready\n",
      "expert demo started\n",
      "torch.Size([226, 32, 2])\n",
      "201 32\n",
      "4.854651042004117 48.83441518825778 plan ready\n",
      "expert demo started\n",
      "torch.Size([282, 32, 2])\n",
      "201 32\n",
      "4.166900152330658 50.28894919752904 plan ready\n",
      "expert demo started\n",
      "torch.Size([338, 32, 2])\n",
      "201 32\n",
      "3.2721782443757292 54.25596638292661 plan ready\n",
      "expert demo started\n",
      "torch.Size([394, 32, 2])\n",
      "201 32\n",
      "1.2841442327915478 45.87129299701541 plan ready\n",
      "expert demo started\n",
      "torch.Size([454, 32, 2])\n",
      "201 32\n",
      "1.0808735897613029 53.32619845547938 plan ready\n",
      "expert demo started\n",
      "torch.Size([514, 32, 2])\n",
      "201 32\n",
      "4.1126270037994015 53.70012148246819 plan ready\n",
      "expert demo started\n",
      "torch.Size([570, 32, 2])\n",
      "201 32\n",
      "4.914473368931056 52.99158564216724 plan ready\n",
      "expert demo started\n",
      "torch.Size([624, 32, 2])\n",
      "201 32\n",
      "2.8459174490117274 52.805291762864556 plan ready\n",
      "expert demo started\n",
      "torch.Size([680, 32, 2])\n",
      "201 32\n",
      "1.4730977034757329 51.39921021327524 plan ready\n",
      "expert demo started\n",
      "torch.Size([738, 32, 2])\n",
      "201 32\n",
      "1.5734131496361856 54.44668917049584 plan ready\n",
      "expert demo started\n",
      "torch.Size([796, 32, 2])\n",
      "201 32\n",
      "3.0873932870002867 49.146619399905234 plan ready\n",
      "expert demo started\n",
      "torch.Size([852, 32, 2])\n",
      "201 32\n",
      "2.058222448418508 52.742336894342166 plan ready\n",
      "expert demo started\n",
      "torch.Size([910, 32, 2])\n",
      "201 32\n",
      "2.824601328866194 50.68433948868648 plan ready\n",
      "expert demo started\n",
      "torch.Size([966, 32, 2])\n",
      "201 32\n",
      "1.0751592017454206 51.17635497075877 plan ready\n",
      "expert demo started\n",
      "torch.Size([1024, 32, 2])\n",
      "201 32\n",
      "3.4483828908896856 51.16933996874757 plan ready\n",
      "expert demo started\n",
      "torch.Size([1080, 32, 2])\n",
      "201 32\n",
      "4.774992314058497 51.81820299103484 plan ready\n",
      "expert demo started\n",
      "torch.Size([1134, 32, 2])\n",
      "201 32\n",
      "2.438031602295144 49.37031953799342 plan ready\n",
      "expert demo started\n",
      "torch.Size([1192, 32, 2])\n",
      "201 32\n",
      "3.7905247837090594 45.6022547162927 plan ready\n",
      "expert demo started\n",
      "torch.Size([1250, 32, 2])\n",
      "201 32\n",
      "3.6670668617826707 51.706378696181595 plan ready\n",
      "expert demo started\n",
      "torch.Size([1306, 32, 2])\n",
      "201 32\n",
      "1.8415302442953636 46.289262976548535 plan ready\n",
      "expert demo started\n",
      "torch.Size([1364, 32, 2])\n",
      "201 32\n",
      "2.2617134036967355 48.637107709426225 plan ready\n",
      "expert demo started\n",
      "torch.Size([1422, 32, 2])\n",
      "201 32\n",
      "3.2807870816715186 49.38601513462321 plan ready\n",
      "expert demo started\n",
      "torch.Size([1478, 32, 2])\n",
      "201 32\n",
      "4.953495352236905 46.02044810748028 plan ready\n",
      "expert demo started\n",
      "torch.Size([1534, 32, 2])\n",
      "201 32\n",
      "1.8355070243793388 46.61309517884996 plan ready\n",
      "expert demo started\n",
      "torch.Size([1594, 32, 2])\n",
      "201 32\n",
      "3.6124333018615937 47.532916025397824 plan ready\n",
      "expert demo started\n",
      "torch.Size([1650, 32, 2])\n",
      "201 32\n",
      "2.865243091425225 47.444255920016026 plan ready\n",
      "expert demo started\n",
      "torch.Size([1708, 32, 2])\n",
      "201 32\n",
      "1.6358783345820789 46.10375141164305 plan ready\n",
      "expert demo started\n",
      "torch.Size([1766, 32, 2])\n",
      "201 32\n",
      "3.6253183578610937 46.38182951348614 plan ready\n",
      "expert demo started\n",
      "torch.Size([1824, 32, 2])\n",
      "201 32\n",
      "1.786329446720214 48.68725170660964 plan ready\n",
      "expert demo started\n",
      "torch.Size([1882, 32, 2])\n",
      "201 32\n",
      "4.28397291939174 45.971012757930616 plan ready\n",
      "expert demo started\n",
      "torch.Size([1938, 32, 2])\n",
      "201 32\n",
      "4.351779629995216 45.96098407893963 plan ready\n",
      "expert demo started\n",
      "torch.Size([1994, 32, 2])\n",
      "201 32\n",
      "4.905837860053583 49.68651201647702 plan ready\n",
      "expert demo started\n",
      "torch.Size([2050, 32, 2])\n",
      "201 32\n",
      "4.907044352761348 51.04845519745046 plan ready\n",
      "expert demo started\n",
      "torch.Size([2104, 32, 2])\n",
      "201 32\n",
      "3.9570543175932067 45.39187792254321 plan ready\n",
      "expert demo started\n",
      "tensor([10000.], device='cuda:0')\n"
     ]
    },
    {
     "data": {
      "text/html": [
       "<iframe\n",
       "    scrolling=\"no\"\n",
       "    width=\"100%\"\n",
       "    height=\"545px\"\n",
       "    src=\"iframe_figures/figure_14.html\"\n",
       "    frameborder=\"0\"\n",
       "    allowfullscreen\n",
       "></iframe>\n"
      ]
     },
     "metadata": {},
     "output_type": "display_data"
    },
    {
     "name": "stdout",
     "output_type": "stream",
     "text": [
      "torch.Size([2104, 32, 2])\n",
      "201 32\n",
      "2.1312278503056383 46.20196561213169 plan ready\n",
      "expert demo started\n",
      "torch.Size([2162, 32, 2])\n",
      "201 32\n",
      "2.1845607900885797 46.18727718954244 plan ready\n",
      "expert demo started\n",
      "torch.Size([2220, 32, 2])\n",
      "201 32\n",
      "2.271932717575904 49.1426299451467 plan ready\n",
      "expert demo started\n",
      "torch.Size([2278, 32, 2])\n",
      "201 32\n",
      "1.2565899853951374 51.9247211937002 plan ready\n",
      "expert demo started\n",
      "torch.Size([2336, 32, 2])\n",
      "201 32\n",
      "3.2664058168263006 47.65389490939445 plan ready\n",
      "expert demo started\n",
      "torch.Size([2392, 32, 2])\n",
      "201 32\n",
      "3.0929922138667987 45.93940510758442 plan ready\n",
      "expert demo started\n",
      "torch.Size([2450, 32, 2])\n",
      "201 32\n",
      "3.303785982224717 54.29296197576214 plan ready\n",
      "expert demo started\n",
      "torch.Size([2508, 32, 2])\n",
      "201 32\n",
      "2.2742758098052946 51.67410379963682 plan ready\n",
      "expert demo started\n",
      "torch.Size([2566, 32, 2])\n",
      "201 32\n",
      "1.5271914496175687 52.16327204118566 plan ready\n",
      "expert demo started\n",
      "torch.Size([2624, 32, 2])\n",
      "201 32\n",
      "2.1576243717888044 46.83191362007117 plan ready\n",
      "expert demo started\n",
      "torch.Size([2682, 32, 2])\n",
      "201 32\n",
      "3.3460517392403326 45.201075461874936 plan ready\n",
      "expert demo started\n",
      "torch.Size([2740, 32, 2])\n",
      "201 32\n",
      "4.315760116869452 45.04695476192547 plan ready\n",
      "expert demo started\n",
      "tensor([10000.], device='cuda:0')\n"
     ]
    },
    {
     "data": {
      "text/html": [
       "<iframe\n",
       "    scrolling=\"no\"\n",
       "    width=\"100%\"\n",
       "    height=\"545px\"\n",
       "    src=\"iframe_figures/figure_14.html\"\n",
       "    frameborder=\"0\"\n",
       "    allowfullscreen\n",
       "></iframe>\n"
      ]
     },
     "metadata": {},
     "output_type": "display_data"
    },
    {
     "name": "stdout",
     "output_type": "stream",
     "text": [
      "torch.Size([2740, 32, 2])\n",
      "201 32\n",
      "3.7112661471849204 47.70007973192165 plan ready\n",
      "expert demo started\n",
      "torch.Size([2796, 32, 2])\n",
      "201 32\n",
      "3.9407760884903795 54.62188545117438 plan ready\n",
      "expert demo started\n",
      "torch.Size([2852, 32, 2])\n",
      "201 32\n",
      "1.9950125740798321 50.761573344178366 plan ready\n",
      "expert demo started\n",
      "torch.Size([2910, 32, 2])\n",
      "201 32\n",
      "3.368167725087356 50.722519057908734 plan ready\n",
      "expert demo started\n",
      "torch.Size([2966, 32, 2])\n",
      "201 32\n",
      "1.8923265305624732 54.527490115169854 plan ready\n",
      "expert demo started\n",
      "torch.Size([3024, 32, 2])\n",
      "201 32\n",
      "2.7885015144705094 53.46408672471128 plan ready\n",
      "expert demo started\n",
      "torch.Size([3082, 32, 2])\n",
      "201 32\n",
      "3.7979171012700172 47.974369508551334 plan ready\n",
      "expert demo started\n",
      "torch.Size([3138, 32, 2])\n",
      "201 32\n",
      "4.255191278809908 48.965057408469846 plan ready\n",
      "expert demo started\n",
      "torch.Size([3194, 32, 2])\n",
      "201 32\n",
      "4.524412788444646 50.812728726358586 plan ready\n",
      "expert demo started\n",
      "torch.Size([3250, 32, 2])\n",
      "201 32\n",
      "4.526941447419411 51.92531590077766 plan ready\n",
      "expert demo started\n",
      "torch.Size([3306, 32, 2])\n",
      "201 32\n",
      "3.901017119278562 50.013243819267025 plan ready\n",
      "expert demo started\n",
      "torch.Size([3362, 32, 2])\n",
      "201 32\n",
      "4.824334538892895 51.43990199229637 plan ready\n",
      "expert demo started\n",
      "torch.Size([3418, 32, 2])\n",
      "201 32\n",
      "2.6954201942327187 51.063932141279246 plan ready\n",
      "expert demo started\n",
      "torch.Size([3474, 32, 2])\n",
      "201 32\n",
      "1.076772793237334 48.015748166745496 plan ready\n",
      "expert demo started\n",
      "torch.Size([3532, 32, 2])\n",
      "201 32\n",
      "3.64069414997074 47.90077607210444 plan ready\n",
      "expert demo started\n",
      "torch.Size([3588, 32, 2])\n",
      "201 32\n",
      "3.472061715995366 49.28768700945766 plan ready\n",
      "expert demo started\n",
      "torch.Size([3644, 32, 2])\n",
      "201 32\n",
      "1.541896256889801 47.982823259560305 plan ready\n",
      "expert demo started\n",
      "torch.Size([3702, 32, 2])\n",
      "201 32\n",
      "3.2798596428050595 50.908727612481734 plan ready\n",
      "expert demo started\n",
      "torch.Size([3758, 32, 2])\n",
      "201 32\n",
      "3.2973009953983152 51.53200819857133 plan ready\n",
      "expert demo started\n",
      "torch.Size([3814, 32, 2])\n",
      "201 32\n",
      "3.6084130800067555 49.31418435433974 plan ready\n",
      "expert demo started\n",
      "torch.Size([3870, 32, 2])\n",
      "201 32\n",
      "4.586186383404252 48.675618700478964 plan ready\n",
      "expert demo started\n",
      "torch.Size([3926, 32, 2])\n",
      "201 32\n",
      "2.7434597010625072 53.91923355015672 plan ready\n",
      "expert demo started\n",
      "torch.Size([3984, 32, 2])\n",
      "201 32\n",
      "4.224775956184343 52.03888583540366 plan ready\n",
      "expert demo started\n",
      "torch.Size([4040, 32, 2])\n",
      "201 32\n",
      "1.4009075492492045 54.19482613744674 plan ready\n",
      "expert demo started\n",
      "torch.Size([4098, 32, 2])\n",
      "201 32\n",
      "3.8569651981964457 54.98847006567867 plan ready\n",
      "expert demo started\n",
      "torch.Size([4154, 32, 2])\n",
      "201 32\n",
      "1.597793218631975 53.68126057368214 plan ready\n",
      "expert demo started\n",
      "torch.Size([4212, 32, 2])\n",
      "201 32\n",
      "1.6499717387054993 51.15559564283844 plan ready\n",
      "expert demo started\n",
      "torch.Size([4270, 32, 2])\n",
      "201 32\n",
      "1.495279931397766 53.480082293222345 plan ready\n",
      "expert demo started\n",
      "torch.Size([4328, 32, 2])\n",
      "201 32\n",
      "4.229275834900043 50.691007386145934 plan ready\n",
      "expert demo started\n",
      "torch.Size([4384, 32, 2])\n",
      "201 32\n",
      "2.6287331889039987 45.69166995455138 plan ready\n",
      "expert demo started\n",
      "torch.Size([4442, 32, 2])\n",
      "201 32\n",
      "3.7897150925782546 49.535426826780686 plan ready\n",
      "expert demo started\n",
      "torch.Size([4498, 32, 2])\n",
      "201 32\n",
      "3.8882223978813917 53.66382325928629 plan ready\n",
      "expert demo started\n",
      "torch.Size([4554, 32, 2])\n",
      "201 32\n",
      "4.902086020011543 53.55803342392611 plan ready\n",
      "expert demo started\n",
      "torch.Size([4610, 32, 2])\n",
      "201 32\n",
      "1.0468563367400079 48.599780644783635 plan ready\n",
      "expert demo started\n",
      "torch.Size([4668, 32, 2])\n",
      "201 32\n",
      "3.919962249696232 46.716296772614406 plan ready\n",
      "expert demo started\n",
      "torch.Size([4726, 32, 2])\n",
      "201 32\n",
      "3.084146424816517 45.54337988339254 plan ready\n",
      "expert demo started\n",
      "tensor([10000.], device='cuda:0')\n"
     ]
    },
    {
     "data": {
      "text/html": [
       "<iframe\n",
       "    scrolling=\"no\"\n",
       "    width=\"100%\"\n",
       "    height=\"545px\"\n",
       "    src=\"iframe_figures/figure_14.html\"\n",
       "    frameborder=\"0\"\n",
       "    allowfullscreen\n",
       "></iframe>\n"
      ]
     },
     "metadata": {},
     "output_type": "display_data"
    },
    {
     "name": "stdout",
     "output_type": "stream",
     "text": [
      "torch.Size([4726, 32, 2])\n",
      "201 32\n",
      "1.7999860995856003 45.18521794460614 plan ready\n",
      "expert demo started\n",
      "tensor([10000.], device='cuda:0')\n"
     ]
    },
    {
     "data": {
      "text/html": [
       "<iframe\n",
       "    scrolling=\"no\"\n",
       "    width=\"100%\"\n",
       "    height=\"545px\"\n",
       "    src=\"iframe_figures/figure_14.html\"\n",
       "    frameborder=\"0\"\n",
       "    allowfullscreen\n",
       "></iframe>\n"
      ]
     },
     "metadata": {},
     "output_type": "display_data"
    },
    {
     "name": "stdout",
     "output_type": "stream",
     "text": [
      "torch.Size([4726, 32, 2])\n",
      "201 32\n",
      "4.1747908134296825 47.2392468806038 plan ready\n",
      "expert demo started\n",
      "torch.Size([4782, 32, 2])\n",
      "201 32\n",
      "2.381406722787611 54.28081293465591 plan ready\n",
      "expert demo started\n",
      "torch.Size([4840, 32, 2])\n",
      "201 32\n",
      "3.817657607694131 45.318389295313075 plan ready\n",
      "expert demo started\n",
      "torch.Size([4898, 32, 2])\n",
      "201 32\n",
      "1.658776625991651 51.21478401499763 plan ready\n",
      "expert demo started\n",
      "torch.Size([4956, 32, 2])\n",
      "201 32\n",
      "3.3089143544166704 47.378928213745084 plan ready\n",
      "expert demo started\n",
      "torch.Size([5014, 32, 2])\n",
      "201 32\n",
      "4.736855991699175 51.13965955965896 plan ready\n",
      "expert demo started\n",
      "torch.Size([5068, 32, 2])\n",
      "201 32\n",
      "3.142531212099833 50.899099763545706 plan ready\n",
      "expert demo started\n",
      "torch.Size([5124, 32, 2])\n",
      "201 32\n",
      "3.9204881180670785 48.11944995479602 plan ready\n",
      "expert demo started\n",
      "torch.Size([5180, 32, 2])\n",
      "201 32\n",
      "2.5928842488643675 47.09843748975122 plan ready\n",
      "expert demo started\n",
      "torch.Size([5238, 32, 2])\n",
      "201 32\n",
      "1.7447720235213446 54.443723899839334 plan ready\n",
      "expert demo started\n",
      "torch.Size([5296, 32, 2])\n",
      "201 32\n",
      "3.9582031801971502 49.90458808617567 plan ready\n",
      "expert demo started\n",
      "torch.Size([5352, 32, 2])\n",
      "201 32\n",
      "1.909658511893293 47.54356481770393 plan ready\n",
      "expert demo started\n",
      "torch.Size([5410, 32, 2])\n",
      "201 32\n",
      "1.2321166412955025 49.34416625558121 plan ready\n",
      "expert demo started\n",
      "torch.Size([5468, 32, 2])\n"
     ]
    }
   ],
   "source": [
    "expert_controls = torch.tensor([],device = torch.device('cuda:0')) # used to reset expert_controls from constantly appending\n",
    "a_star_sim = None\n",
    "#\n",
    "for i in range(10):\n",
    "    for j in range(10):\n",
    "        x = np.random.uniform(1, 5)\n",
    "        y = np.random.uniform(45, 55)\n",
    "        a_star_robot = Bicycle(x, y, 0, 0)\n",
    "        goal = (90, 50, 1 , 10)\n",
    "\n",
    "        mppi_sample_center= torch.tensor([0., 0.])\n",
    "        mppi_sample_covariance = torch.tensor([[16.,0.],[0., 4.]])\n",
    "\n",
    "        env = Map(goal_point = goal, avoidance_points=avoid, rect_obstacles=rect,circle_obstacles=circle, device = torch.device('cuda:0'))\n",
    "        a_star_map = Map(goal_point = (a_star_robot.x, a_star_robot.y,4,4), speed_weight = 0.5, avoidance_points=avoid, \n",
    "                         rect_obstacles=rect,circle_obstacles=circle, device = torch.device('cuda:0'))\n",
    "\n",
    "        def a_star_heuristic(state):     \n",
    "            return env.terminal_state_cost_batch(state)\n",
    "\n",
    "        a_star_plan = a_star_planner(a_star_robot, state_dim, ctrl_dim, u_min, u_max, \n",
    "                          env.get_obstacles_batch, env.get_distance_batch,\n",
    "                         iterations = 50000, goal_point = env.goal_point, angle_density = 32, grid_interval = 0.5, goal_tolerance =0.1, \n",
    "                                           timestep = step, device=torch.device('cuda:0'))\n",
    "        \n",
    "        print (x, y, \"plan ready\")\n",
    "        a_star_follower = MPPI_path_follower(a_star_robot, state_dim, ctrl_dim, \n",
    "                          mppi_sample_center, mppi_sample_covariance,  u_min, u_max, \n",
    "                          a_star_robot.dynamics_batch_horizon, a_star_map, \n",
    "                                             a_star_map.running_cost_batch_horizon, a_star_map.terminal_state_cost_batch, a_star_plan.path, \n",
    "                         num_samples = 8192, horizon = follow_depth, lambda_=5, sample_null_action = True,\n",
    "                          timestep = step, device=torch.device('cuda:0'))\n",
    "        print(\"expert demo started\")\n",
    "        \n",
    "        a_star_sim = Simulation(a_star_robot, a_star_follower, a_star_map, goal_tolerance = 1, timestep = step)\n",
    "        \n",
    "        iter, goal_reached = a_star_sim.run(200, False, True, True, True, \n",
    "                                            write_rollout_start = 0, write_rollouts_num = 10, write_rate = 5)\n",
    "\n",
    "        if not goal_reached:\n",
    "            a_star_sim.display_history()\n",
    "        else:\n",
    "            #a_star_sim.display_run()\n",
    "            #a_star_sim.display_history()\n",
    "            new_controls = get_expert_controls(a_star_robot.control_history, horizon_depth, ctrl_dim,interval_step = 2, dev = torch.device('cuda:0'))\n",
    "            \n",
    "            #expert_means, assigned_num, loss = kmeans.k_means_segment(new_controls, k = 7)\n",
    "            expert_controls = torch.cat((expert_controls, new_controls), 0)\n",
    "    \n",
    "            #expert_means[:, :, -1] = -expert_means[:, :, -1]\n",
    "            new_controls[:, :, -1] = -new_controls[:, :, -1]\n",
    "            expert_controls = torch.cat((expert_controls, new_controls), 0)\n",
    "\n",
    "        \n",
    "        # losses = []\n",
    "        # clusters = []\n",
    "        \n",
    "        # for num_cluster in range(1, 50, 5):\n",
    "        #     expert_means, assigned_num, loss = kmeans.k_means_segment(new_controls, k = num_cluster)\n",
    "        #     losses.append(loss)\n",
    "        #     clusters.append(num_cluster)\n",
    "        # plt.plot(clusters, losses)\n",
    "        # plt.show()\n",
    "        \n",
    "        print(expert_controls.shape)\n",
    "\n"
   ]
  },
  {
   "cell_type": "code",
   "execution_count": 15,
   "metadata": {},
   "outputs": [],
   "source": [
    "# a_star_sim.draw_explored(a_star_plan.path, False)\n",
    "\n",
    "# a_star_sim.display_run()\n",
    "# a_star_sim.display_history()\n"
   ]
  },
  {
   "cell_type": "code",
   "execution_count": 16,
   "metadata": {},
   "outputs": [
    {
     "name": "stdout",
     "output_type": "stream",
     "text": [
      "1\n",
      "11\n",
      "21\n",
      "31\n",
      "41\n",
      "51\n",
      "61\n",
      "71\n",
      "81\n",
      "91\n"
     ]
    },
    {
     "data": {
      "image/png": "[encoded data removed]",
      "text/plain": [
       "<Figure size 640x480 with 1 Axes>"
      ]
     },
     "metadata": {},
     "output_type": "display_data"
    }
   ],
   "source": [
    "losses = []\n",
    "clusters = []\n",
    "\n",
    "for num_cluster in range(1, 101, 10):\n",
    "    expert_means, assigned_num, loss = kmeans.k_means_segment(expert_controls, k = num_cluster)\n",
    "    losses.append(loss)\n",
    "    clusters.append(num_cluster)\n",
    "    print(num_cluster)\n",
    "plt.plot(clusters, losses)\n",
    "plt.show()"
   ]
  },
  {
   "cell_type": "code",
   "execution_count": 40,
   "metadata": {},
   "outputs": [
    {
     "name": "stdout",
     "output_type": "stream",
     "text": [
      "[97, 75, 93, 86, 518, 40, 516, 42, 506, 128, 484, 70, 528, 561, 27, 536, 105, 528, 477, 51] torch.Size([20, 32, 2])\n"
     ]
    }
   ],
   "source": [
    "num_clusters = 20\n",
    "expert_means, assigned_to_center, loss = kmeans.k_means_segment(expert_controls, k = num_clusters)\n",
    "print(assigned_to_center, expert_means.shape)\n"
   ]
  },
  {
   "cell_type": "code",
   "execution_count": 45,
   "metadata": {},
   "outputs": [],
   "source": [
    "use_expert_controls = False\n",
    "samples = 2048\n",
    "controls = None\n",
    "\n",
    "expert_samples = [50 for i in range(20)]\n",
    "\n",
    "if use_expert_controls:\n",
    "    if expert_samples is not None:\n",
    "        samples = samples\n",
    "        controls = expert_means\n",
    "    else:\n",
    "        samples = samples - expert_controls.shape[0]\n",
    "        controls = expert_controls\n",
    "    \n",
    "if(samples <0):\n",
    "    print(\"too many expert rollouts\")"
   ]
  },
  {
   "cell_type": "code",
   "execution_count": 46,
   "metadata": {},
   "outputs": [
    {
     "name": "stdout",
     "output_type": "stream",
     "text": [
      "tensor([10000.], device='cuda:0')\n"
     ]
    },
    {
     "data": {
      "text/html": [
       "<iframe\n",
       "    scrolling=\"no\"\n",
       "    width=\"100%\"\n",
       "    height=\"545px\"\n",
       "    src=\"iframe_figures/figure_46.html\"\n",
       "    frameborder=\"0\"\n",
       "    allowfullscreen\n",
       "></iframe>\n"
      ]
     },
     "metadata": {},
     "output_type": "display_data"
    },
    {
     "name": "stdout",
     "output_type": "stream",
     "text": [
      "1 45 False 300\n"
     ]
    },
    {
     "data": {
      "text/html": [
       "<iframe\n",
       "    scrolling=\"no\"\n",
       "    width=\"100%\"\n",
       "    height=\"545px\"\n",
       "    src=\"iframe_figures/figure_46.html\"\n",
       "    frameborder=\"0\"\n",
       "    allowfullscreen\n",
       "></iframe>\n"
      ]
     },
     "metadata": {},
     "output_type": "display_data"
    },
    {
     "name": "stdout",
     "output_type": "stream",
     "text": [
      "1 50 True 98\n",
      "tensor([10000.], device='cuda:0')\n"
     ]
    },
    {
     "data": {
      "text/html": [
       "<iframe\n",
       "    scrolling=\"no\"\n",
       "    width=\"100%\"\n",
       "    height=\"545px\"\n",
       "    src=\"iframe_figures/figure_46.html\"\n",
       "    frameborder=\"0\"\n",
       "    allowfullscreen\n",
       "></iframe>\n"
      ]
     },
     "metadata": {},
     "output_type": "display_data"
    },
    {
     "name": "stdout",
     "output_type": "stream",
     "text": [
      "1 55 False 300\n",
      "tensor([10000.], device='cuda:0')\n"
     ]
    },
    {
     "data": {
      "text/html": [
       "<iframe\n",
       "    scrolling=\"no\"\n",
       "    width=\"100%\"\n",
       "    height=\"545px\"\n",
       "    src=\"iframe_figures/figure_46.html\"\n",
       "    frameborder=\"0\"\n",
       "    allowfullscreen\n",
       "></iframe>\n"
      ]
     },
     "metadata": {},
     "output_type": "display_data"
    },
    {
     "name": "stdout",
     "output_type": "stream",
     "text": [
      "5 45 False 300\n",
      "tensor([10000.], device='cuda:0')\n"
     ]
    },
    {
     "data": {
      "text/html": [
       "<iframe\n",
       "    scrolling=\"no\"\n",
       "    width=\"100%\"\n",
       "    height=\"545px\"\n",
       "    src=\"iframe_figures/figure_46.html\"\n",
       "    frameborder=\"0\"\n",
       "    allowfullscreen\n",
       "></iframe>\n"
      ]
     },
     "metadata": {},
     "output_type": "display_data"
    },
    {
     "name": "stdout",
     "output_type": "stream",
     "text": [
      "5 50 False 300\n",
      "tensor([10000.], device='cuda:0')\n"
     ]
    },
    {
     "data": {
      "text/html": [
       "<iframe\n",
       "    scrolling=\"no\"\n",
       "    width=\"100%\"\n",
       "    height=\"545px\"\n",
       "    src=\"iframe_figures/figure_46.html\"\n",
       "    frameborder=\"0\"\n",
       "    allowfullscreen\n",
       "></iframe>\n"
      ]
     },
     "metadata": {},
     "output_type": "display_data"
    },
    {
     "name": "stdout",
     "output_type": "stream",
     "text": [
      "5 55 False 300\n",
      "0.16666666666666666\n",
      "98.0\n"
     ]
    }
   ],
   "source": [
    "\n",
    "mppi_sample_center= torch.tensor([0., 0.])\n",
    "mppi_sample_covariance = torch.tensor([[16.,0.],[0., .11]])\n",
    "# note: if these parameters are changed, the a-star ones should be changed to match\n",
    "\n",
    "# changes to 8 clusters\n",
    "\n",
    "success = 0.\n",
    "total = 0.\n",
    "total_it = 0.\n",
    "\n",
    "for i in [1,  5]:\n",
    "    for j in [45, 50, 55]:\n",
    "        mppi_robot = Bicycle(i, j, 0, 0)\n",
    "        mppi_goal = (90, 50, 3, 10)\n",
    "\n",
    "        mppi_map = Map(goal_point = mppi_goal, avoidance_points=avoid, \n",
    "                       rect_obstacles=rect,circle_obstacles=circle, speed_weight = 0.1, device = torch.device('cuda:0'))\n",
    "        mppi_controller = MPPI(mppi_robot, state_dim, ctrl_dim, \n",
    "                          mppi_sample_center, mppi_sample_covariance,  u_min, u_max,\n",
    "                          mppi_robot.dynamics_batch_horizon, mppi_map.running_cost_batch_horizon, mppi_map.terminal_state_cost_batch,\n",
    "                               expert_rollouts = controls, expert_samples = expert_samples,\n",
    "                          num_samples = samples, horizon = horizon_depth, lambda_=.1,sample_null_action = True,\n",
    "                          timestep = step, device=torch.device('cuda:0'))\n",
    "        mppi_sim = Simulation(mppi_robot, mppi_controller, mppi_map, timestep = step, goal_tolerance = 2)\n",
    "\n",
    "        iterations, completed = mppi_sim.run(iterations=300, draw_obstacles = False, write_snapshots =False, \n",
    "              write_rollouts=True, write_controls = True, write_rollout_start = 0, write_rollouts_num = 20,write_rate = 2)\n",
    "        #mppi_sim.display_run()\n",
    "        mppi_sim.display_history()\n",
    "        print(i, j, completed, iterations)\n",
    "\n",
    "        if completed:\n",
    "            success+=1\n",
    "            total_it += iterations\n",
    "        total+=1\n",
    "        \n",
    "print(success/total)\n",
    "if success > 0:\n",
    "    print(total_it/success)\n",
    "\n"
   ]
  },
  {
   "cell_type": "code",
   "execution_count": null,
   "metadata": {},
   "outputs": [],
   "source": []
  },
  {
   "cell_type": "code",
   "execution_count": null,
   "metadata": {},
   "outputs": [],
   "source": []
  }
 ],
 "metadata": {
  "kernelspec": {
   "display_name": "Python 3 (ipykernel)",
   "language": "python",
   "name": "python3"
  },
  "language_info": {
   "codemirror_mode": {
    "name": "ipython",
    "version": 3
   },
   "file_extension": ".py",
   "mimetype": "text/x-python",
   "name": "python",
   "nbconvert_exporter": "python",
   "pygments_lexer": "ipython3",
   "version": "3.8.10"
  }
 },
 "nbformat": 4,
 "nbformat_minor": 4
}
