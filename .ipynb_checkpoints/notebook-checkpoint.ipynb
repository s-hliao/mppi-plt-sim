{
 "cells": [
  {
   "cell_type": "code",
   "execution_count": 152,
   "metadata": {},
   "outputs": [],
   "source": [
    "import numpy as np\n",
    "import torch\n",
    "from torch.distributions.multivariate_normal import MultivariateNormal\n",
    "\n",
    "import matplotlib.pyplot as plt\n",
    "import matplotlib.image as mpimg\n",
    "\n",
    "import plotly\n",
    "import plotly.express as px\n",
    "import plotly.graph_objects as go\n",
    "import plotly.io as pio\n",
    "\n",
    "from skimage import io\n",
    "import os\n",
    "\n",
    "import math\n",
    "import requests\n",
    "\n",
    "from queue import PriorityQueue"
   ]
  },
  {
   "cell_type": "code",
   "execution_count": 153,
   "metadata": {},
   "outputs": [],
   "source": [
    "plotly.__version__\n",
    "pio.renderers.default = \"iframe\""
   ]
  },
  {
   "cell_type": "code",
   "execution_count": 154,
   "metadata": {},
   "outputs": [
    {
     "data": {
      "text/plain": [
       "'1.24.3'"
      ]
     },
     "execution_count": 154,
     "metadata": {},
     "output_type": "execute_result"
    }
   ],
   "source": [
    "np.__version__"
   ]
  },
  {
   "cell_type": "code",
   "execution_count": 155,
   "metadata": {},
   "outputs": [],
   "source": [
    "np.random.seed(0)"
   ]
  },
  {
   "cell_type": "code",
   "execution_count": 156,
   "metadata": {},
   "outputs": [
    {
     "data": {
      "text/plain": [
       "[<torch.cuda.device at 0x7f9c9b5fb610>]"
      ]
     },
     "execution_count": 156,
     "metadata": {},
     "output_type": "execute_result"
    }
   ],
   "source": [
    "available_gpus = [torch.cuda.device(i) for i in range(torch.cuda.device_count())]\n",
    "available_gpus"
   ]
  },
  {
   "cell_type": "code",
   "execution_count": 157,
   "metadata": {},
   "outputs": [
    {
     "name": "stdout",
     "output_type": "stream",
     "text": [
      "The autoreload extension is already loaded. To reload it, use:\n",
      "  %reload_ext autoreload\n"
     ]
    }
   ],
   "source": [
    "%load_ext autoreload\n",
    "%autoreload 2\n",
    "\n",
    "from model import Bicycle, Map\n",
    "from mppi import MPPI, MPPI_path_follower\n",
    "from path_planner import a_star_planner\n",
    "from sim import Simulation\n",
    "\n",
    "\n",
    "import kmeans, gmm"
   ]
  },
  {
   "cell_type": "code",
   "execution_count": 158,
   "metadata": {},
   "outputs": [],
   "source": [
    "torch.cuda.empty_cache() "
   ]
  },
  {
   "cell_type": "code",
   "execution_count": 312,
   "metadata": {},
   "outputs": [],
   "source": [
    "avoid = []\n",
    "\n",
    "rect = [(20, 0, 80, 50),(20,51,80, 100) ]\n",
    "circle= []\n",
    "\n",
    "state_dim = 3\n",
    "ctrl_dim = 2\n",
    "u_min = (0., -4.)\n",
    "u_max = (10., 4.)\n",
    "step = .1\n",
    "follow_depth = 8 # note: if these parameters are changed, the mppi ones should be changed to match\n",
    "horizon_depth = 16\n",
    "\n",
    "#start at 1-5, 45-55, angle -0"
   ]
  },
  {
   "cell_type": "code",
   "execution_count": 313,
   "metadata": {},
   "outputs": [],
   "source": [
    "# avoid = []\n",
    "\n",
    "# rect = [(0, 0, 100, 10),(0, 0, 10, 100), (0, 61, 85, 100), (20, 0, 100, 59),(95,0,100,100) ]\n",
    "# circle= [(20,40, 6), (10, 30, 6),(10, 50, 6)]\n",
    "\n",
    "# state_dim = 3\n",
    "# ctrl_dim = 2\n",
    "# u_min = (0., -4.)\n",
    "# u_max = (10., 4.)\n",
    "# step = .05\n",
    "# follow_depth = 16 # note: if these parameters are changed, the mppi ones should be changed to match\n",
    "# horizon_depth = 64\n",
    "\n",
    "# #start at (11-19, 11-19), angle math.pi/2"
   ]
  },
  {
   "cell_type": "code",
   "execution_count": 314,
   "metadata": {},
   "outputs": [],
   "source": [
    "# avoid = []\n",
    "\n",
    "# rect = [(0, 15, 47, 85), (53, 15, 100,85)]\n",
    "# left_circles = [(47,20+x, 4) for x in range(0, 80, 20)]\n",
    "# print(left_circles)\n",
    "# right_circles = [(53,30+x, 4) for x in range(0, 60, 20)]\n",
    "# circle= left_circles + right_circles\n",
    "\n",
    "# state_dim = 3\n",
    "# ctrl_dim = 2\n",
    "# u_min = (0., -4.)\n",
    "# u_max = (10., 4.)\n",
    "# step = .05\n",
    "# follow_depth = 16 # note: if these parameters are changed, the mppi ones should be changed to match\n",
    "# horizon_depth = 16\n",
    "\n",
    "# start at (45-55, 1-5), angle math.pi/2\n",
    "#goal at 50, 90"
   ]
  },
  {
   "cell_type": "code",
   "execution_count": 315,
   "metadata": {},
   "outputs": [],
   "source": [
    "def get_expert_controls(control_history, horizon_depth, ctrl_dim, interval_start = 0, interval_end = None, interval_step=2, dev=\"cpu\"):\n",
    "    if(interval_end is None):\n",
    "        interval_end = len(control_history)-1\n",
    "    first_rollout = interval_start\n",
    "    last_rollout = interval_end-horizon_depth\n",
    "    \n",
    "    rollout_starts = range(first_rollout, last_rollout+1, interval_step)\n",
    "    size = len(rollout_starts)\n",
    "    \n",
    "    expert_controls = torch.empty([size, horizon_depth, ctrl_dim], dtype = torch.float, device = dev)\n",
    "    count = 0\n",
    "    for i in rollout_starts:\n",
    "        expert_controls[count,:,:] = torch.stack(control_history[i:i+horizon_depth])        \n",
    "        count+=1\n",
    "    return expert_controls"
   ]
  },
  {
   "cell_type": "code",
   "execution_count": 316,
   "metadata": {},
   "outputs": [
    {
     "name": "stdout",
     "output_type": "stream",
     "text": [
      "82895360\n",
      "25426132992 50331648 32563712\n"
     ]
    }
   ],
   "source": [
    "available_gpus = [torch.cuda.device(i) for i in range(torch.cuda.device_count())]\n",
    "t = torch.cuda.get_device_properties(0).total_memory\n",
    "r = torch.cuda.memory_reserved(0)\n",
    "a = torch.cuda.memory_allocated(0)\n",
    "print(r+a)\n",
    "print(t, r, a)\n",
    "torch.cuda.empty_cache() "
   ]
  },
  {
   "cell_type": "code",
   "execution_count": 317,
   "metadata": {},
   "outputs": [
    {
     "name": "stdout",
     "output_type": "stream",
     "text": [
      "0 0 1.0148390950000747 53.45077627277875 plan ready\n",
      "expert demo started\n",
      "torch.Size([76, 16, 2])\n",
      "0 1 1.8165771020549042 47.55264517092026 plan ready\n",
      "expert demo started\n"
     ]
    },
    {
     "data": {
      "text/html": [
       "<iframe\n",
       "    scrolling=\"no\"\n",
       "    width=\"100%\"\n",
       "    height=\"545px\"\n",
       "    src=\"iframe_figures/figure_317.html\"\n",
       "    frameborder=\"0\"\n",
       "    allowfullscreen\n",
       "></iframe>\n"
      ]
     },
     "metadata": {},
     "output_type": "display_data"
    },
    {
     "name": "stdout",
     "output_type": "stream",
     "text": [
      "L\n",
      "0 2 1.8258056449852589 52.9752636086794 plan ready\n",
      "expert demo started\n"
     ]
    },
    {
     "data": {
      "text/html": [
       "<iframe\n",
       "    scrolling=\"no\"\n",
       "    width=\"100%\"\n",
       "    height=\"545px\"\n",
       "    src=\"iframe_figures/figure_317.html\"\n",
       "    frameborder=\"0\"\n",
       "    allowfullscreen\n",
       "></iframe>\n"
      ]
     },
     "metadata": {},
     "output_type": "display_data"
    },
    {
     "name": "stdout",
     "output_type": "stream",
     "text": [
      "L\n",
      "0 3 4.708082275145584 46.15561313600314 plan ready\n",
      "expert demo started\n"
     ]
    },
    {
     "data": {
      "text/html": [
       "<iframe\n",
       "    scrolling=\"no\"\n",
       "    width=\"100%\"\n",
       "    height=\"545px\"\n",
       "    src=\"iframe_figures/figure_317.html\"\n",
       "    frameborder=\"0\"\n",
       "    allowfullscreen\n",
       "></iframe>\n"
      ]
     },
     "metadata": {},
     "output_type": "display_data"
    },
    {
     "name": "stdout",
     "output_type": "stream",
     "text": [
      "L\n",
      "0 4 3.9715931683228853 46.96000754280739 plan ready\n",
      "expert demo started\n",
      "torch.Size([148, 16, 2])\n",
      "0 5 1.6669663204454506 46.726966861550494 plan ready\n",
      "expert demo started\n"
     ]
    },
    {
     "data": {
      "text/html": [
       "<iframe\n",
       "    scrolling=\"no\"\n",
       "    width=\"100%\"\n",
       "    height=\"545px\"\n",
       "    src=\"iframe_figures/figure_317.html\"\n",
       "    frameborder=\"0\"\n",
       "    allowfullscreen\n",
       "></iframe>\n"
      ]
     },
     "metadata": {},
     "output_type": "display_data"
    },
    {
     "name": "stdout",
     "output_type": "stream",
     "text": [
      "L\n",
      "0 6 1.4387322484518341 48.21697618463622 plan ready\n",
      "expert demo started\n",
      "torch.Size([222, 16, 2])\n",
      "0 7 1.0981924660959104 48.883331664744524 plan ready\n",
      "expert demo started\n"
     ]
    },
    {
     "data": {
      "text/html": [
       "<iframe\n",
       "    scrolling=\"no\"\n",
       "    width=\"100%\"\n",
       "    height=\"545px\"\n",
       "    src=\"iframe_figures/figure_317.html\"\n",
       "    frameborder=\"0\"\n",
       "    allowfullscreen\n",
       "></iframe>\n"
      ]
     },
     "metadata": {},
     "output_type": "display_data"
    },
    {
     "name": "stdout",
     "output_type": "stream",
     "text": [
      "L\n",
      "0 8 2.9743141245847067 53.257381885570965 plan ready\n",
      "expert demo started\n"
     ]
    },
    {
     "data": {
      "text/html": [
       "<iframe\n",
       "    scrolling=\"no\"\n",
       "    width=\"100%\"\n",
       "    height=\"545px\"\n",
       "    src=\"iframe_figures/figure_317.html\"\n",
       "    frameborder=\"0\"\n",
       "    allowfullscreen\n",
       "></iframe>\n"
      ]
     },
     "metadata": {},
     "output_type": "display_data"
    },
    {
     "name": "stdout",
     "output_type": "stream",
     "text": [
      "L\n",
      "0 9 1.321794062149602 51.012277576745205 plan ready\n",
      "expert demo started\n",
      "torch.Size([296, 16, 2])\n",
      "1 0 1.9518901717385413 52.61926511449599 plan ready\n",
      "expert demo started\n"
     ]
    },
    {
     "data": {
      "text/html": [
       "<iframe\n",
       "    scrolling=\"no\"\n",
       "    width=\"100%\"\n",
       "    height=\"545px\"\n",
       "    src=\"iframe_figures/figure_317.html\"\n",
       "    frameborder=\"0\"\n",
       "    allowfullscreen\n",
       "></iframe>\n"
      ]
     },
     "metadata": {},
     "output_type": "display_data"
    },
    {
     "name": "stdout",
     "output_type": "stream",
     "text": [
      "L\n",
      "1 1 4.224496605761777 46.073010315155045 plan ready\n",
      "expert demo started\n"
     ]
    },
    {
     "data": {
      "text/html": [
       "<iframe\n",
       "    scrolling=\"no\"\n",
       "    width=\"100%\"\n",
       "    height=\"545px\"\n",
       "    src=\"iframe_figures/figure_317.html\"\n",
       "    frameborder=\"0\"\n",
       "    allowfullscreen\n",
       "></iframe>\n"
      ]
     },
     "metadata": {},
     "output_type": "display_data"
    },
    {
     "name": "stdout",
     "output_type": "stream",
     "text": [
      "L\n",
      "1 2 1.7668964396873825 47.704773409466235 plan ready\n",
      "expert demo started\n"
     ]
    },
    {
     "data": {
      "text/html": [
       "<iframe\n",
       "    scrolling=\"no\"\n",
       "    width=\"100%\"\n",
       "    height=\"545px\"\n",
       "    src=\"iframe_figures/figure_317.html\"\n",
       "    frameborder=\"0\"\n",
       "    allowfullscreen\n",
       "></iframe>\n"
      ]
     },
     "metadata": {},
     "output_type": "display_data"
    },
    {
     "name": "stdout",
     "output_type": "stream",
     "text": [
      "L\n",
      "1 3 2.5370927009692736 52.03407030661474 plan ready\n",
      "expert demo started\n"
     ]
    },
    {
     "data": {
      "text/html": [
       "<iframe\n",
       "    scrolling=\"no\"\n",
       "    width=\"100%\"\n",
       "    height=\"545px\"\n",
       "    src=\"iframe_figures/figure_317.html\"\n",
       "    frameborder=\"0\"\n",
       "    allowfullscreen\n",
       "></iframe>\n"
      ]
     },
     "metadata": {},
     "output_type": "display_data"
    },
    {
     "name": "stdout",
     "output_type": "stream",
     "text": [
      "L\n",
      "1 4 1.6177016986184012 48.12689843486035 plan ready\n",
      "expert demo started\n",
      "torch.Size([370, 16, 2])\n",
      "1 5 4.834129376980259 47.07512734067369 plan ready\n",
      "expert demo started\n",
      "torch.Size([442, 16, 2])\n",
      "1 6 2.0933949461594827 53.87131543431408 plan ready\n",
      "expert demo started\n",
      "torch.Size([516, 16, 2])\n",
      "1 7 3.6638396747762276 45.84211264713183 plan ready\n",
      "expert demo started\n"
     ]
    },
    {
     "data": {
      "text/html": [
       "<iframe\n",
       "    scrolling=\"no\"\n",
       "    width=\"100%\"\n",
       "    height=\"545px\"\n",
       "    src=\"iframe_figures/figure_317.html\"\n",
       "    frameborder=\"0\"\n",
       "    allowfullscreen\n",
       "></iframe>\n"
      ]
     },
     "metadata": {},
     "output_type": "display_data"
    },
    {
     "name": "stdout",
     "output_type": "stream",
     "text": [
      "L\n",
      "1 8 3.8025333785621713 53.41815739405085 plan ready\n",
      "expert demo started\n",
      "torch.Size([588, 16, 2])\n",
      "1 9 2.9072054557154408 51.21882391394365 plan ready\n",
      "expert demo started\n"
     ]
    },
    {
     "data": {
      "text/html": [
       "<iframe\n",
       "    scrolling=\"no\"\n",
       "    width=\"100%\"\n",
       "    height=\"545px\"\n",
       "    src=\"iframe_figures/figure_317.html\"\n",
       "    frameborder=\"0\"\n",
       "    allowfullscreen\n",
       "></iframe>\n"
      ]
     },
     "metadata": {},
     "output_type": "display_data"
    },
    {
     "name": "stdout",
     "output_type": "stream",
     "text": [
      "L\n",
      "2 0 2.877537420580612 52.594502514576426 plan ready\n",
      "expert demo started\n"
     ]
    },
    {
     "data": {
      "text/html": [
       "<iframe\n",
       "    scrolling=\"no\"\n",
       "    width=\"100%\"\n",
       "    height=\"545px\"\n",
       "    src=\"iframe_figures/figure_317.html\"\n",
       "    frameborder=\"0\"\n",
       "    allowfullscreen\n",
       "></iframe>\n"
      ]
     },
     "metadata": {},
     "output_type": "display_data"
    },
    {
     "name": "stdout",
     "output_type": "stream",
     "text": [
      "L\n",
      "2 1 1.684688192620634 49.31842650649706 plan ready\n",
      "expert demo started\n",
      "torch.Size([662, 16, 2])\n",
      "2 2 1.2964980716520964 53.44470492418734 plan ready\n",
      "expert demo started\n",
      "torch.Size([738, 16, 2])\n",
      "2 3 3.175685999211939 54.79324537264369 plan ready\n",
      "expert demo started\n"
     ]
    },
    {
     "data": {
      "text/html": [
       "<iframe\n",
       "    scrolling=\"no\"\n",
       "    width=\"100%\"\n",
       "    height=\"545px\"\n",
       "    src=\"iframe_figures/figure_317.html\"\n",
       "    frameborder=\"0\"\n",
       "    allowfullscreen\n",
       "></iframe>\n"
      ]
     },
     "metadata": {},
     "output_type": "display_data"
    },
    {
     "name": "stdout",
     "output_type": "stream",
     "text": [
      "L\n",
      "2 4 4.0666772041115 47.66370391609097 plan ready\n",
      "expert demo started\n",
      "torch.Size([810, 16, 2])\n",
      "2 5 1.8771175408122702 52.89037891461865 plan ready\n",
      "expert demo started\n",
      "torch.Size([884, 16, 2])\n",
      "2 6 4.3600667909411115 51.61577648229834 plan ready\n",
      "expert demo started\n",
      "torch.Size([954, 16, 2])\n",
      "2 7 4.243926926400613 51.277557161629794 plan ready\n",
      "expert demo started\n"
     ]
    },
    {
     "data": {
      "text/html": [
       "<iframe\n",
       "    scrolling=\"no\"\n",
       "    width=\"100%\"\n",
       "    height=\"545px\"\n",
       "    src=\"iframe_figures/figure_317.html\"\n",
       "    frameborder=\"0\"\n",
       "    allowfullscreen\n",
       "></iframe>\n"
      ]
     },
     "metadata": {},
     "output_type": "display_data"
    },
    {
     "name": "stdout",
     "output_type": "stream",
     "text": [
      "L\n",
      "2 8 3.994889225634553 50.61120927429775 plan ready\n",
      "expert demo started\n"
     ]
    },
    {
     "data": {
      "text/html": [
       "<iframe\n",
       "    scrolling=\"no\"\n",
       "    width=\"100%\"\n",
       "    height=\"545px\"\n",
       "    src=\"iframe_figures/figure_317.html\"\n",
       "    frameborder=\"0\"\n",
       "    allowfullscreen\n",
       "></iframe>\n"
      ]
     },
     "metadata": {},
     "output_type": "display_data"
    },
    {
     "name": "stdout",
     "output_type": "stream",
     "text": [
      "L\n",
      "2 9 2.1122009532048884 50.469500618445636 plan ready\n",
      "expert demo started\n",
      "torch.Size([1028, 16, 2])\n",
      "3 0 4.872817564362035 47.26196300842006 plan ready\n",
      "expert demo started\n",
      "torch.Size([1100, 16, 2])\n",
      "3 1 2.303419368015185 50.02509396969805 plan ready\n",
      "expert demo started\n"
     ]
    },
    {
     "data": {
      "text/html": [
       "<iframe\n",
       "    scrolling=\"no\"\n",
       "    width=\"100%\"\n",
       "    height=\"545px\"\n",
       "    src=\"iframe_figures/figure_317.html\"\n",
       "    frameborder=\"0\"\n",
       "    allowfullscreen\n",
       "></iframe>\n"
      ]
     },
     "metadata": {},
     "output_type": "display_data"
    },
    {
     "name": "stdout",
     "output_type": "stream",
     "text": [
      "L\n",
      "3 2 3.2369932001356294 53.7428277495123 plan ready\n",
      "expert demo started\n",
      "torch.Size([1172, 16, 2])\n",
      "3 3 3.491873291913217 54.559617507082514 plan ready\n",
      "expert demo started\n"
     ]
    },
    {
     "data": {
      "text/html": [
       "<iframe\n",
       "    scrolling=\"no\"\n",
       "    width=\"100%\"\n",
       "    height=\"545px\"\n",
       "    src=\"iframe_figures/figure_317.html\"\n",
       "    frameborder=\"0\"\n",
       "    allowfullscreen\n",
       "></iframe>\n"
      ]
     },
     "metadata": {},
     "output_type": "display_data"
    },
    {
     "name": "stdout",
     "output_type": "stream",
     "text": [
      "L\n",
      "3 4 4.297065878812914 51.07741847385851 plan ready\n",
      "expert demo started\n",
      "torch.Size([1242, 16, 2])\n",
      "3 5 1.0532644529858692 51.06261906226541 plan ready\n",
      "expert demo started\n",
      "torch.Size([1316, 16, 2])\n",
      "3 6 4.2724042000961155 48.40604643884352 plan ready\n",
      "expert demo started\n",
      "torch.Size([1388, 16, 2])\n",
      "3 7 4.136234457868616 52.439378206317414 plan ready\n",
      "expert demo started\n"
     ]
    },
    {
     "data": {
      "text/html": [
       "<iframe\n",
       "    scrolling=\"no\"\n",
       "    width=\"100%\"\n",
       "    height=\"545px\"\n",
       "    src=\"iframe_figures/figure_317.html\"\n",
       "    frameborder=\"0\"\n",
       "    allowfullscreen\n",
       "></iframe>\n"
      ]
     },
     "metadata": {},
     "output_type": "display_data"
    },
    {
     "name": "stdout",
     "output_type": "stream",
     "text": [
      "L\n",
      "3 8 4.499369447757355 50.55662625272407 plan ready\n",
      "expert demo started\n",
      "torch.Size([1460, 16, 2])\n",
      "3 9 2.9340026335358402 48.13695054022317 plan ready\n",
      "expert demo started\n",
      "torch.Size([1532, 16, 2])\n",
      "4 0 2.2068062985586128 53.61822991975596 plan ready\n",
      "expert demo started\n"
     ]
    },
    {
     "data": {
      "text/html": [
       "<iframe\n",
       "    scrolling=\"no\"\n",
       "    width=\"100%\"\n",
       "    height=\"545px\"\n",
       "    src=\"iframe_figures/figure_317.html\"\n",
       "    frameborder=\"0\"\n",
       "    allowfullscreen\n",
       "></iframe>\n"
      ]
     },
     "metadata": {},
     "output_type": "display_data"
    },
    {
     "name": "stdout",
     "output_type": "stream",
     "text": [
      "L\n",
      "4 1 2.2618606286682237 50.99581346373995 plan ready\n",
      "expert demo started\n",
      "torch.Size([1606, 16, 2])\n",
      "4 2 4.636371028114253 46.87360901426323 plan ready\n",
      "expert demo started\n"
     ]
    },
    {
     "data": {
      "text/html": [
       "<iframe\n",
       "    scrolling=\"no\"\n",
       "    width=\"100%\"\n",
       "    height=\"545px\"\n",
       "    src=\"iframe_figures/figure_317.html\"\n",
       "    frameborder=\"0\"\n",
       "    allowfullscreen\n",
       "></iframe>\n"
      ]
     },
     "metadata": {},
     "output_type": "display_data"
    },
    {
     "name": "stdout",
     "output_type": "stream",
     "text": [
      "L\n",
      "4 3 4.881501311348867 46.752755195630904 plan ready\n",
      "expert demo started\n"
     ]
    },
    {
     "data": {
      "text/html": [
       "<iframe\n",
       "    scrolling=\"no\"\n",
       "    width=\"100%\"\n",
       "    height=\"545px\"\n",
       "    src=\"iframe_figures/figure_317.html\"\n",
       "    frameborder=\"0\"\n",
       "    allowfullscreen\n",
       "></iframe>\n"
      ]
     },
     "metadata": {},
     "output_type": "display_data"
    },
    {
     "name": "stdout",
     "output_type": "stream",
     "text": [
      "L\n",
      "4 4 3.7748933546889116 52.79153924524914 plan ready\n",
      "expert demo started\n"
     ]
    },
    {
     "data": {
      "text/html": [
       "<iframe\n",
       "    scrolling=\"no\"\n",
       "    width=\"100%\"\n",
       "    height=\"545px\"\n",
       "    src=\"iframe_figures/figure_317.html\"\n",
       "    frameborder=\"0\"\n",
       "    allowfullscreen\n",
       "></iframe>\n"
      ]
     },
     "metadata": {},
     "output_type": "display_data"
    },
    {
     "name": "stdout",
     "output_type": "stream",
     "text": [
      "L\n",
      "4 5 3.4387458605884853 47.12682408811829 plan ready\n",
      "expert demo started\n"
     ]
    },
    {
     "data": {
      "text/html": [
       "<iframe\n",
       "    scrolling=\"no\"\n",
       "    width=\"100%\"\n",
       "    height=\"545px\"\n",
       "    src=\"iframe_figures/figure_317.html\"\n",
       "    frameborder=\"0\"\n",
       "    allowfullscreen\n",
       "></iframe>\n"
      ]
     },
     "metadata": {},
     "output_type": "display_data"
    },
    {
     "name": "stdout",
     "output_type": "stream",
     "text": [
      "L\n",
      "4 6 1.4482875234996606 48.21421925275665 plan ready\n",
      "expert demo started\n"
     ]
    },
    {
     "data": {
      "text/html": [
       "<iframe\n",
       "    scrolling=\"no\"\n",
       "    width=\"100%\"\n",
       "    height=\"545px\"\n",
       "    src=\"iframe_figures/figure_317.html\"\n",
       "    frameborder=\"0\"\n",
       "    allowfullscreen\n",
       "></iframe>\n"
      ]
     },
     "metadata": {},
     "output_type": "display_data"
    },
    {
     "name": "stdout",
     "output_type": "stream",
     "text": [
      "L\n",
      "4 7 2.77850144040968 54.30126362243697 plan ready\n",
      "expert demo started\n"
     ]
    },
    {
     "data": {
      "text/html": [
       "<iframe\n",
       "    scrolling=\"no\"\n",
       "    width=\"100%\"\n",
       "    height=\"545px\"\n",
       "    src=\"iframe_figures/figure_317.html\"\n",
       "    frameborder=\"0\"\n",
       "    allowfullscreen\n",
       "></iframe>\n"
      ]
     },
     "metadata": {},
     "output_type": "display_data"
    },
    {
     "name": "stdout",
     "output_type": "stream",
     "text": [
      "L\n",
      "4 8 2.605552986498882 51.155972191096446 plan ready\n",
      "expert demo started\n",
      "torch.Size([1680, 16, 2])\n",
      "4 9 1.5325927661430727 54.17876616993114 plan ready\n",
      "expert demo started\n",
      "torch.Size([1754, 16, 2])\n"
     ]
    }
   ],
   "source": [
    "expert_controls = torch.tensor([],device = torch.device('cuda:0')) # used to reset expert_controls from constantly appending\n",
    "a_star_sim = None\n",
    "#\n",
    "for i in range(5):\n",
    "    for j in range(10):\n",
    "        x = np.random.uniform(1, 5)\n",
    "        y = np.random.uniform(45, 55)\n",
    "        angle = np.random.uniform(-math.pi/12, math.pi/12)\n",
    "\n",
    "        if(angle<0):\n",
    "            angle+=2 * math.pi\n",
    "            \n",
    "        a_star_robot = Bicycle(x, y, angle, 0)\n",
    "        goal = (90, 50, 3, 10)\n",
    "\n",
    "        mppi_sample_center= torch.tensor([0., 0.])\n",
    "        mppi_sample_covariance = torch.tensor([[4.,0.],[0., 1]])\n",
    "\n",
    "        env = Map(goal_point = goal, avoidance_points=avoid, rect_obstacles=rect,circle_obstacles=circle, device = torch.device('cuda:0'))\n",
    "        a_star_map = Map(goal_point = (a_star_robot.x, a_star_robot.y,4,4), speed_weight = 0, avoidance_points=avoid, \n",
    "                         rect_obstacles=rect,circle_obstacles=circle, device = torch.device('cuda:0'))\n",
    "\n",
    "        def a_star_heuristic(state):     \n",
    "            return env.terminal_state_cost_batch(state)\n",
    "\n",
    "        a_star_plan = a_star_planner(a_star_robot, state_dim, ctrl_dim, u_min, u_max, \n",
    "                          env.get_obstacles_batch, env.get_distance_batch,\n",
    "                         iterations = 50000, goal_point = env.goal_point, angle_density = 32, grid_interval = 0.4, goal_tolerance =0.1, \n",
    "                                           timestep = step, device=torch.device('cuda:0'))\n",
    "        \n",
    "        print (i, j, x, y, \"plan ready\")\n",
    "        a_star_follower = MPPI_path_follower(a_star_robot, state_dim, ctrl_dim, \n",
    "                          mppi_sample_center, mppi_sample_covariance,  u_min, u_max, \n",
    "                          a_star_robot.dynamics_batch_horizon, a_star_map, \n",
    "                                             a_star_map.running_cost_batch_horizon, a_star_map.terminal_state_cost_batch, a_star_plan.path, \n",
    "                         num_samples = 16384, horizon = follow_depth, lambda_=.1, sample_null_action = True,\n",
    "                          timestep = step, device=torch.device('cuda:0'))\n",
    "        print(\"expert demo started\")\n",
    "        \n",
    "        a_star_sim = Simulation(a_star_robot, a_star_follower, a_star_map, goal_tolerance = 1, timestep = step)\n",
    "        \n",
    "        iter, goal_reached = a_star_sim.run(500, False, True, True, True, \n",
    "                                            write_rollout_start = 0, write_rollouts_num = 10, write_rate = 2)\n",
    "\n",
    "        if not goal_reached:\n",
    "            #a_star_sim.display_run()\n",
    "            a_star_sim.display_history()\n",
    "            print(\"L\")\n",
    "        else:\n",
    "            #a_star_sim.display_run()\n",
    "            #a_star_sim.display_history()\n",
    "            new_controls = get_expert_controls(a_star_robot.control_history, horizon_depth, ctrl_dim,interval_step = 2, dev = torch.device('cuda:0'))\n",
    "            \n",
    "            #expert_means, assigned_num, loss = kmeans.k_means_segment(new_controls, k = 7)\n",
    "            expert_controls = torch.cat((expert_controls, new_controls), 0)\n",
    "    \n",
    "            #expert_means[:, :, -1] = -expert_means[:, :, -1]\n",
    "            new_controls[:, :, -1] = -new_controls[:, :, -1]\n",
    "            expert_controls = torch.cat((expert_controls, new_controls), 0)\n",
    "\n",
    "        \n",
    "        # losses = []\n",
    "        # clusters = []\n",
    "        \n",
    "        # for num_cluster in range(1, 50, 5):\n",
    "        #     expert_means, assigned_num, loss = kmeans.k_means_segment(new_controls, k = num_cluster)\n",
    "        #     losses.append(loss)\n",
    "        #     clusters.append(num_cluster)\n",
    "        # plt.plot(clusters, losses)\n",
    "        # plt.show()\n",
    "            torch.cuda.empty_cache() \n",
    "            print(expert_controls.shape)\n",
    "\n"
   ]
  },
  {
   "cell_type": "code",
   "execution_count": null,
   "metadata": {},
   "outputs": [
    {
     "name": "stdout",
     "output_type": "stream",
     "text": [
      "responsibility\n",
      "tensor([[0., 0., 0.,  ..., 0., 1., 0.],\n",
      "        [0., 0., 0.,  ..., 1., 0., 0.],\n",
      "        [0., 0., 0.,  ..., 0., 0., 0.],\n",
      "        ...,\n",
      "        [0., 0., 0.,  ..., 0., 0., 1.],\n",
      "        [0., 0., 0.,  ..., 0., 0., 0.],\n",
      "        [0., 0., 0.,  ..., 0., 0., 0.]], device='cuda:0')\n",
      "cluster_resp\n",
      "tensor(201., device='cuda:0')\n",
      "cluster_resp\n",
      "tensor(181., device='cuda:0')\n",
      "cluster_resp\n",
      "tensor(165., device='cuda:0')\n",
      "cluster_resp\n",
      "tensor(152., device='cuda:0')\n",
      "cluster_resp\n",
      "tensor(205., device='cuda:0')\n",
      "cluster_resp\n",
      "tensor(188., device='cuda:0')\n",
      "cluster_resp\n",
      "tensor(154., device='cuda:0')\n",
      "cluster_resp\n",
      "tensor(179., device='cuda:0')\n",
      "cluster_resp\n",
      "tensor(173., device='cuda:0')\n",
      "cluster_resp\n",
      "tensor(156., device='cuda:0')\n",
      "e step params\n",
      "tensor([[-0.0921, -0.0272, -0.0558, -0.0227, -0.0290, -0.0176, -0.0191, -0.0276,\n",
      "         -0.0176, -0.0333, -0.0250, -0.0386, -0.0226, -0.0319, -0.0510, -0.0135,\n",
      "         -0.1700,  0.3728,  0.1453, -0.8313,  1.0029, -1.3461,  1.7308, -1.1316,\n",
      "          0.3567, -0.2362,  0.3977, -0.1423, -0.0527, -0.1880,  0.6326, -0.8204],\n",
      "        [-0.1558, -0.0978, -0.0662, -0.0355, -0.0366, -0.0344, -0.0109, -0.0344,\n",
      "         -0.0282, -0.0298, -0.0243, -0.0245, -0.0215, -0.0321, -0.0209, -0.0336,\n",
      "          0.6627,  0.3955, -1.5922,  0.4964,  0.4953,  0.2781, -0.5831, -0.7169,\n",
      "          1.0903, -0.0722, -1.0901,  1.4246, -0.6518, -0.0448,  0.0126,  0.4507],\n",
      "        [-0.2781, -0.1091, -0.0619, -0.0314, -0.0254, -0.0356, -0.0233, -0.0209,\n",
      "         -0.0342, -0.0371, -0.0337, -0.0281, -0.0647, -0.0272, -0.0135, -0.0330,\n",
      "          0.2411, -0.1422, -0.5086,  1.5061, -1.6190, -0.0069,  1.0977, -0.5662,\n",
      "          0.1237, -0.2038,  0.2400, -0.4700,  0.2543,  0.6753, -1.2078,  0.8902],\n",
      "        [-0.0836, -0.0314, -0.0741, -0.0261, -0.0181, -0.0291, -0.0649, -0.0279,\n",
      "         -0.0306, -0.0105, -0.0263, -0.0237, -0.0198, -0.0350, -0.0098, -0.0396,\n",
      "          0.4434, -0.6379,  0.4252, -0.1957, -0.3003,  0.9081, -0.3282, -0.6741,\n",
      "          1.5170, -1.8192,  1.5311, -0.6778,  0.1992, -0.5023,  0.5192, -0.1530],\n",
      "        [-0.1365, -0.0652, -0.0212, -0.0382, -0.0534, -0.0296, -0.0347, -0.0236,\n",
      "         -0.0445, -0.0299, -0.0637, -0.0411, -0.0230, -0.0161, -0.0280, -0.0168,\n",
      "         -0.6486,  0.7702, -0.1568, -0.5666,  0.1968,  0.5600, -0.8520,  1.0277,\n",
      "         -0.6215, -0.4606,  1.0414, -0.1254, -1.0694,  1.2818, -0.6604,  0.1116],\n",
      "        [-0.2757, -0.1729, -0.0629, -0.0335, -0.0282, -0.0362, -0.0395, -0.0375,\n",
      "         -0.0599, -0.0374, -0.0281, -0.0367, -0.0560, -0.0310, -0.0558, -0.0235,\n",
      "         -0.5402, -0.5551,  1.4666,  0.0601, -1.2100,  0.9378, -0.5528, -0.0492,\n",
      "          0.1027,  0.3490, -0.7652,  0.7346, -0.3644, -0.2400,  0.9237, -1.0101],\n",
      "        [-0.1084, -0.0765, -0.0438, -0.0249, -0.0270, -0.0210, -0.0250, -0.0311,\n",
      "         -0.0307, -0.0104, -0.0299, -0.0341, -0.0274, -0.0314, -0.0251, -0.0383,\n",
      "          0.2910, -0.9721,  0.9268, -0.2527,  0.2093, -0.7263,  0.6208,  0.3412,\n",
      "         -0.7372,  0.9959, -1.6258,  1.1117, -0.5120,  0.6142, -1.0239,  0.6132],\n",
      "        [-0.2980, -0.1650, -0.0501, -0.0381, -0.0371, -0.0242, -0.0557, -0.0228,\n",
      "         -0.0252, -0.0350, -0.0496, -0.0217, -0.0294, -0.0380, -0.0220, -0.0219,\n",
      "          0.9321, -0.2584, -0.4660,  0.0984,  0.1399, -0.2618, -0.1400,  1.1729,\n",
      "         -1.2759,  0.0425,  0.4808,  0.1489,  0.1847, -1.5837,  1.4032,  0.0680],\n",
      "        [-0.2979, -0.2205, -0.0653, -0.0359, -0.0322, -0.0277, -0.0287, -0.0258,\n",
      "         -0.0466, -0.0335, -0.0170, -0.0270, -0.0378, -0.0178, -0.0433, -0.0343,\n",
      "          0.2748, -0.6982,  0.6325, -0.7842,  1.0928, -0.4112, -0.8202,  0.5054,\n",
      "          0.2964,  0.1278,  0.1580, -1.4651,  1.5033, -0.0421, -0.9369,  0.5474],\n",
      "        [-0.1194, -0.0272, -0.0208, -0.0341, -0.0066, -0.0520, -0.0181, -0.0516,\n",
      "         -0.0135, -0.0262, -0.0259, -0.0119, -0.0290, -0.0327, -0.0499, -0.0255,\n",
      "         -1.3951,  1.5200, -0.8593,  0.7709, -0.2413,  0.1415, -0.1515,  0.0110,\n",
      "         -0.7776,  1.3874, -0.5616, -0.6760,  0.8319, -0.0681,  0.1361, -0.4782]],\n",
      "       device='cuda:0')\n",
      "tensor([[[ 2.4357e-01,  3.2109e-02,  5.1944e-02,  ..., -5.8551e-02,\n",
      "          -7.9537e-03,  4.4885e-02],\n",
      "         [ 3.2109e-02,  1.0796e-02,  7.7590e-03,  ..., -2.8303e-02,\n",
      "          -8.2863e-05,  9.2286e-03],\n",
      "         [ 5.1944e-02,  7.7590e-03,  1.2205e-01,  ..., -4.2055e-02,\n",
      "           1.3079e-02,  2.3898e-02],\n",
      "         ...,\n",
      "         [-5.8551e-02, -2.8303e-02, -4.2055e-02,  ...,  1.9188e+00,\n",
      "          -4.8055e-01, -4.5919e-01],\n",
      "         [-7.9537e-03, -8.2863e-05,  1.3079e-02,  ..., -4.8055e-01,\n",
      "           1.7600e+00, -3.5779e-01],\n",
      "         [ 4.4885e-02,  9.2286e-03,  2.3898e-02,  ..., -4.5919e-01,\n",
      "          -3.5779e-01,  1.9681e+00]],\n",
      "\n",
      "        [[ 5.8341e-01,  1.8706e-01,  1.0121e-01,  ...,  6.1827e-02,\n",
      "          -6.8094e-02,  7.3048e-02],\n",
      "         [ 1.8706e-01,  1.3122e-01,  7.0605e-02,  ...,  3.1329e-02,\n",
      "           3.9787e-02, -2.7200e-02],\n",
      "         [ 1.0121e-01,  7.0605e-02,  1.0438e-01,  ..., -6.8287e-03,\n",
      "           2.5193e-02,  4.6825e-03],\n",
      "         ...,\n",
      "         [ 6.1827e-02,  3.1329e-02, -6.8287e-03,  ...,  2.0920e+00,\n",
      "          -3.6040e-01, -3.2810e-01],\n",
      "         [-6.8094e-02,  3.9787e-02,  2.5193e-02,  ..., -3.6040e-01,\n",
      "           1.8987e+00, -5.9830e-01],\n",
      "         [ 7.3048e-02, -2.7200e-02,  4.6825e-03,  ..., -3.2810e-01,\n",
      "          -5.9830e-01,  1.8212e+00]],\n",
      "\n",
      "        [[ 1.2024e+00,  3.5224e-01,  1.4569e-01,  ..., -1.6785e-01,\n",
      "          -1.4513e-01,  4.7487e-02],\n",
      "         [ 3.5224e-01,  3.0136e-01,  2.3480e-02,  ..., -1.9319e-02,\n",
      "          -1.2606e-01,  5.8884e-02],\n",
      "         [ 1.4569e-01,  2.3480e-02,  8.0561e-02,  ..., -6.3053e-03,\n",
      "          -1.3422e-02, -4.2547e-02],\n",
      "         ...,\n",
      "         [-1.6785e-01, -1.9319e-02, -6.3053e-03,  ...,  2.2841e+00,\n",
      "          -6.1870e-01, -5.7707e-01],\n",
      "         [-1.4513e-01, -1.2606e-01, -1.3422e-02,  ..., -6.1870e-01,\n",
      "           1.8558e+00, -2.5110e-01],\n",
      "         [ 4.7487e-02,  5.8884e-02, -4.2547e-02,  ..., -5.7707e-01,\n",
      "          -2.5110e-01,  1.9065e+00]],\n",
      "\n",
      "        ...,\n",
      "\n",
      "        [[ 1.5825e+00,  6.8457e-01,  1.1849e-01,  ...,  2.2940e-01,\n",
      "           6.2223e-02,  8.2742e-03],\n",
      "         [ 6.8457e-01,  5.2047e-01,  4.7126e-02,  ...,  9.0286e-02,\n",
      "          -8.1262e-03,  5.7824e-02],\n",
      "         [ 1.1849e-01,  4.7126e-02,  4.2017e-02,  ...,  2.0821e-02,\n",
      "           1.1733e-02,  2.2848e-02],\n",
      "         ...,\n",
      "         [ 2.2940e-01,  9.0286e-02,  2.0821e-02,  ...,  1.2165e+00,\n",
      "          -2.4116e-01, -2.3936e-01],\n",
      "         [ 6.2223e-02, -8.1262e-03,  1.1733e-02,  ..., -2.4116e-01,\n",
      "           1.5440e+00, -6.5711e-01],\n",
      "         [ 8.2742e-03,  5.7824e-02,  2.2848e-02,  ..., -2.3936e-01,\n",
      "          -6.5711e-01,  1.9741e+00]],\n",
      "\n",
      "        [[ 1.3682e+00,  8.2833e-01,  1.7894e-01,  ..., -6.6074e-02,\n",
      "           1.6128e-01, -3.6250e-01],\n",
      "         [ 8.2833e-01,  8.7250e-01,  8.6416e-02,  ..., -9.7826e-02,\n",
      "           1.4191e-01, -2.9486e-01],\n",
      "         [ 1.7894e-01,  8.6416e-02,  1.2105e-01,  ...,  1.8369e-03,\n",
      "          -5.2971e-02, -3.5347e-02],\n",
      "         ...,\n",
      "         [-6.6074e-02, -9.7826e-02,  1.8369e-03,  ...,  1.8752e+00,\n",
      "          -5.3903e-01, -2.2176e-01],\n",
      "         [ 1.6128e-01,  1.4191e-01, -5.2971e-02,  ..., -5.3903e-01,\n",
      "           1.5360e+00, -3.9712e-01],\n",
      "         [-3.6250e-01, -2.9486e-01, -3.5347e-02,  ..., -2.2176e-01,\n",
      "          -3.9712e-01,  1.8733e+00]],\n",
      "\n",
      "        [[ 4.6306e-01,  4.9216e-03, -2.2638e-03,  ..., -4.0224e-02,\n",
      "          -1.1126e-02, -2.7005e-02],\n",
      "         [ 4.9216e-03,  1.4852e-02, -5.6433e-04,  ...,  1.1269e-02,\n",
      "           5.9533e-03,  1.3439e-02],\n",
      "         [-2.2638e-03, -5.6433e-04,  5.5043e-03,  ..., -1.9685e-02,\n",
      "           1.5766e-02,  2.0261e-03],\n",
      "         ...,\n",
      "         [-4.0224e-02,  1.1269e-02, -1.9685e-02,  ...,  1.7760e+00,\n",
      "          -3.5160e-01, -2.9407e-01],\n",
      "         [-1.1126e-02,  5.9533e-03,  1.5766e-02,  ..., -3.5160e-01,\n",
      "           1.6663e+00, -4.0816e-01],\n",
      "         [-2.7005e-02,  1.3439e-02,  2.0261e-03,  ..., -2.9407e-01,\n",
      "          -4.0816e-01,  1.9386e+00]]], device='cuda:0')\n",
      "tensor(1.0000, device='cuda:0')\n",
      "cluster prob\n",
      "tensor([0.0000e+00, 1.5060e-19, 1.2660e-23,  ..., 6.6064e-21, 5.8283e-09,\n",
      "        9.8871e-08], device='cuda:0')\n",
      "cluster prob\n",
      "tensor([0.0000e+00, 5.7426e-30, 1.1859e-34,  ..., 1.0562e-06, 9.9061e-13,\n",
      "        2.6954e-06], device='cuda:0')\n",
      "cluster prob\n",
      "tensor([0.0000e+00, 0.0000e+00, 3.6807e-32,  ..., 6.7980e-10, 1.3207e-16,\n",
      "        7.6562e-14], device='cuda:0')\n",
      "cluster prob\n",
      "tensor([0.0000e+00, 0.0000e+00, 0.0000e+00,  ..., 2.2219e-16, 2.3097e-12,\n",
      "        1.7837e-06], device='cuda:0')\n",
      "cluster prob\n",
      "tensor([0.0000e+00, 1.9092e-29, 9.9724e-36,  ..., 1.1335e-17, 2.6381e-11,\n",
      "        2.1830e-12], device='cuda:0')\n",
      "cluster prob\n",
      "tensor([5.9731e-35, 6.8235e-32, 4.4958e-24,  ..., 9.0609e-21, 8.0889e-10,\n",
      "        1.4168e-09], device='cuda:0')\n",
      "cluster prob\n",
      "tensor([1.4610e-30, 1.4234e-19, 0.0000e+00,  ..., 2.9098e-12, 1.1959e-09,\n",
      "        1.2672e-06], device='cuda:0')\n",
      "cluster prob\n",
      "tensor([2.0459e-43, 4.1276e-40, 1.3353e-20,  ..., 2.8312e-11, 2.5301e-13,\n",
      "        2.3425e-07], device='cuda:0')\n",
      "cluster prob\n",
      "tensor([0.0000e+00, 3.5939e-34, 4.9681e-33,  ..., 6.6657e-10, 6.7442e-11,\n",
      "        6.7994e-08], device='cuda:0')\n",
      "cluster prob\n",
      "tensor([0.0000e+00, 0.0000e+00, 2.1202e-21,  ..., 1.0101e-13, 2.7924e-07,\n",
      "        5.6167e-28], device='cuda:0')\n",
      "likelihood\n",
      "tensor([1.2828e-31, 2.9756e-20, 1.5532e-21,  ..., 1.0912e-07, 2.5705e-08,\n",
      "        5.8607e-07], device='cuda:0', dtype=torch.float64)\n",
      "0 tensor(-28488.9915, device='cuda:0', dtype=torch.float64)\n",
      "responsibility\n",
      "tensor([[0.0000e+00, 5.8001e-01, 9.3405e-04,  ..., 6.9377e-15, 2.5983e-02,\n",
      "         1.9332e-02],\n",
      "        [0.0000e+00, 1.9916e-11, 7.8786e-15,  ..., 9.9878e-01, 3.9768e-06,\n",
      "         4.7460e-01],\n",
      "        [0.0000e+00, 0.0000e+00, 2.2292e-12,  ..., 5.8603e-04, 4.8334e-10,\n",
      "         1.2289e-08],\n",
      "        ...,\n",
      "        [1.6385e-13, 1.4156e-21, 8.7735e-01,  ..., 2.6477e-05, 1.0045e-06,\n",
      "         4.0790e-02],\n",
      "        [0.0000e+00, 1.1913e-15, 3.1547e-13,  ..., 6.0249e-04, 2.5878e-04,\n",
      "         1.1443e-02],\n",
      "        [0.0000e+00, 0.0000e+00, 1.2140e-01,  ..., 8.2328e-08, 9.6617e-01,\n",
      "         8.5237e-23]], device='cuda:0')\n",
      "cluster_resp\n",
      "tensor(294.3075, device='cuda:0')\n",
      "cluster_resp\n",
      "tensor(166.9602, device='cuda:0')\n",
      "cluster_resp\n",
      "tensor(126.9356, device='cuda:0')\n",
      "cluster_resp\n",
      "tensor(210.9525, device='cuda:0')\n",
      "cluster_resp\n",
      "tensor(184.1596, device='cuda:0')\n",
      "cluster_resp\n",
      "tensor(79.9604, device='cuda:0')\n",
      "cluster_resp\n",
      "tensor(188.8172, device='cuda:0')\n",
      "cluster_resp\n",
      "tensor(104.1498, device='cuda:0')\n",
      "cluster_resp\n",
      "tensor(101.7929, device='cuda:0')\n",
      "cluster_resp\n",
      "tensor(295.9645, device='cuda:0')\n",
      "e step params\n",
      "tensor([[-0.0308, -0.0090, -0.0543, -0.0177, -0.0171, -0.0145, -0.0070, -0.0252,\n",
      "         -0.0084, -0.0299, -0.0143, -0.0445, -0.0119, -0.0306, -0.0619, -0.0044,\n",
      "          0.0151,  0.0223,  0.2157, -0.7068,  0.8394, -1.0878,  1.3239, -0.7242,\n",
      "          0.2948, -0.1771,  0.3031, -0.1946,  0.1211, -0.2717,  0.4715, -0.5748],\n",
      "        [-0.1081, -0.0868, -0.0566, -0.0472, -0.0980, -0.0641, -0.0038, -0.0216,\n",
      "         -0.0143, -0.0249, -0.0179, -0.0307, -0.0156, -0.0325, -0.0160, -0.0424,\n",
      "          0.6767,  0.2031, -1.2288,  0.4148,  0.3297,  0.4117, -0.5634, -0.6016,\n",
      "          0.9560, -0.1585, -0.9404,  1.3377, -0.6851, -0.1064,  0.1668,  0.4494],\n",
      "        [-0.4628, -0.1437, -0.0966, -0.0299, -0.0190, -0.0557, -0.0142, -0.0074,\n",
      "         -0.0280, -0.0674, -0.0201, -0.0300, -0.1475, -0.0265, -0.0072, -0.0447,\n",
      "          0.3945, -0.1709, -0.5908,  1.2898, -1.4317,  0.0138,  0.8850, -0.4651,\n",
      "          0.1404, -0.1862,  0.0799, -0.3132,  0.2678,  0.6735, -1.0749,  0.8232],\n",
      "        [-0.0490, -0.0268, -0.0800, -0.0160, -0.0099, -0.0189, -0.0884, -0.0232,\n",
      "         -0.0199, -0.0043, -0.0177, -0.0272, -0.0144, -0.0247, -0.0036, -0.0359,\n",
      "          0.3960, -0.4224,  0.3850, -0.0445, -0.3956,  0.7048, -0.3099, -0.5874,\n",
      "          1.1807, -1.4419,  1.2914, -0.3929,  0.1000, -0.6006,  0.4927, -0.1024],\n",
      "        [-0.0910, -0.0500, -0.0072, -0.0504, -0.0974, -0.0182, -0.0331, -0.0114,\n",
      "         -0.0413, -0.0266, -0.0953, -0.0441, -0.0135, -0.0050, -0.0180, -0.0090,\n",
      "         -0.5312,  0.5647,  0.1303, -0.6238,  0.1301,  0.5263, -0.7597,  0.9998,\n",
      "         -0.5539, -0.3835,  0.8407, -0.0582, -1.0802,  1.1516, -0.4756,  0.0110],\n",
      "        [-0.6357, -0.4303, -0.0915, -0.0603, -0.0183, -0.0241, -0.0369, -0.0442,\n",
      "         -0.2075, -0.0466, -0.0271, -0.0542, -0.1376, -0.0655, -0.1590, -0.0275,\n",
      "         -0.2952, -0.5423,  1.4425,  0.1404, -1.2276,  0.8483, -0.7551,  0.0305,\n",
      "          0.1211,  0.3407, -0.6759,  0.7679, -0.3920, -0.3192,  0.7636, -0.7880],\n",
      "        [-0.0850, -0.0613, -0.0337, -0.0126, -0.0160, -0.0130, -0.0223, -0.0528,\n",
      "         -0.0230, -0.0029, -0.0218, -0.0314, -0.0232, -0.0230, -0.0199, -0.0444,\n",
      "          0.3517, -0.9559,  0.7448, -0.1115,  0.1828, -0.4788,  0.3058,  0.3532,\n",
      "         -0.5838,  0.7719, -1.3927,  0.9031, -0.3999,  0.5679, -0.9085,  0.5684],\n",
      "        [-0.5559, -0.3259, -0.0499, -0.0437, -0.0188, -0.0141, -0.1386, -0.0250,\n",
      "         -0.0203, -0.0586, -0.1464, -0.0145, -0.0293, -0.0619, -0.0113, -0.0234,\n",
      "          0.7632, -0.4259, -0.2589,  0.1208,  0.1266, -0.2319, -0.3187,  1.1175,\n",
      "         -1.2770,  0.1794,  0.3013,  0.1395,  0.2978, -1.3874,  1.1390,  0.0943],\n",
      "        [-0.5990, -0.3942, -0.1332, -0.0555, -0.0213, -0.0143, -0.0232, -0.0197,\n",
      "         -0.1350, -0.0378, -0.0062, -0.0242, -0.0302, -0.0136, -0.0364, -0.0503,\n",
      "          0.3622, -0.6820,  0.5258, -0.6632,  0.8607, -0.3105, -0.8478,  0.6247,\n",
      "          0.2719, -0.0544,  0.2627, -1.3854,  1.4275, -0.0928, -0.9292,  0.6482],\n",
      "        [-0.0899, -0.0177, -0.0092, -0.0322, -0.0020, -0.0564, -0.0083, -0.0530,\n",
      "         -0.0058, -0.0308, -0.0154, -0.0044, -0.0204, -0.0325, -0.0332, -0.0217,\n",
      "         -1.0554,  1.0270, -0.5780,  0.5543, -0.3311,  0.2784, -0.2720,  0.2138,\n",
      "         -0.6940,  0.9828, -0.3740, -0.4667,  0.5173, -0.0031,  0.1348, -0.3747]],\n",
      "       device='cuda:0')\n",
      "tensor([[[ 1.7203e-02,  4.7461e-04, -7.0077e-04,  ...,  2.8350e-03,\n",
      "          -2.0689e-02,  1.1184e-02],\n",
      "         [ 4.7461e-04,  1.3574e-03, -2.5787e-04,  ..., -3.7415e-03,\n",
      "          -1.6436e-03, -9.2796e-04],\n",
      "         [-7.0077e-04, -2.5787e-04,  8.5597e-02,  ..., -1.6064e-02,\n",
      "           4.6526e-03,  3.7246e-03],\n",
      "         ...,\n",
      "         [ 2.8350e-03, -3.7415e-03, -1.6064e-02,  ...,  2.2553e+00,\n",
      "          -7.5934e-01, -5.5197e-01],\n",
      "         [-2.0689e-02, -1.6436e-03,  4.6526e-03,  ..., -7.5934e-01,\n",
      "           2.1043e+00, -5.1713e-01],\n",
      "         [ 1.1184e-02, -9.2796e-04,  3.7246e-03,  ..., -5.5197e-01,\n",
      "          -5.1713e-01,  2.1193e+00]],\n",
      "\n",
      "        [[ 2.7105e-01,  9.4760e-02,  1.0696e-01,  ..., -2.2155e-03,\n",
      "          -3.3708e-02,  1.6632e-02],\n",
      "         [ 9.4760e-02,  1.0622e-01,  7.4808e-02,  ...,  7.0407e-03,\n",
      "           4.9173e-02, -4.6606e-02],\n",
      "         [ 1.0696e-01,  7.4808e-02,  9.5739e-02,  ..., -3.5290e-02,\n",
      "           2.1402e-02,  6.5622e-03],\n",
      "         ...,\n",
      "         [-2.2155e-03,  7.0407e-03, -3.5290e-02,  ...,  2.2367e+00,\n",
      "          -5.5280e-01, -4.0448e-01],\n",
      "         [-3.3708e-02,  4.9173e-02,  2.1402e-02,  ..., -5.5280e-01,\n",
      "           2.2322e+00, -7.6114e-01],\n",
      "         [ 1.6632e-02, -4.6606e-02,  6.5622e-03,  ..., -4.0448e-01,\n",
      "          -7.6114e-01,  2.0408e+00]],\n",
      "\n",
      "        [[ 1.9494e+00,  3.6672e-01,  2.8551e-01,  ..., -1.5472e-01,\n",
      "          -2.7036e-01,  1.4359e-01],\n",
      "         [ 3.6672e-01,  3.2935e-01,  4.1953e-02,  ...,  6.5660e-02,\n",
      "          -1.8366e-01,  7.5114e-02],\n",
      "         [ 2.8551e-01,  4.1953e-02,  1.3544e-01,  ..., -2.8583e-02,\n",
      "          -2.1138e-02, -6.9521e-03],\n",
      "         ...,\n",
      "         [-1.5472e-01,  6.5660e-02, -2.8583e-02,  ...,  2.3106e+00,\n",
      "          -7.7116e-01, -4.8395e-01],\n",
      "         [-2.7036e-01, -1.8366e-01, -2.1138e-02,  ..., -7.7116e-01,\n",
      "           2.3658e+00, -6.2701e-01],\n",
      "         [ 1.4359e-01,  7.5114e-02, -6.9521e-03,  ..., -4.8395e-01,\n",
      "          -6.2701e-01,  2.2494e+00]],\n",
      "\n",
      "        ...,\n",
      "\n",
      "        [[ 3.0185e+00,  1.3680e+00,  1.1689e-01,  ...,  3.4233e-01,\n",
      "           2.6926e-02,  1.8704e-01],\n",
      "         [ 1.3680e+00,  9.7675e-01,  8.6201e-02,  ...,  1.4933e-01,\n",
      "          -6.2764e-03,  1.9903e-01],\n",
      "         [ 1.1689e-01,  8.6201e-02,  2.9459e-02,  ...,  5.2683e-03,\n",
      "           1.3047e-02,  2.6451e-02],\n",
      "         ...,\n",
      "         [ 3.4233e-01,  1.4933e-01,  5.2683e-03,  ...,  1.5205e+00,\n",
      "          -5.0273e-01, -9.7710e-02],\n",
      "         [ 2.6926e-02, -6.2764e-03,  1.3047e-02,  ..., -5.0273e-01,\n",
      "           1.8141e+00, -5.4325e-01],\n",
      "         [ 1.8704e-01,  1.9903e-01,  2.6451e-02,  ..., -9.7710e-02,\n",
      "          -5.4325e-01,  1.9455e+00]],\n",
      "\n",
      "        [[ 2.6114e+00,  1.3303e+00,  4.1953e-01,  ...,  2.2886e-02,\n",
      "           1.6836e-01, -3.6768e-01],\n",
      "         [ 1.3303e+00,  1.4346e+00,  1.2885e-01,  ..., -1.9742e-01,\n",
      "           2.1805e-01, -4.1607e-01],\n",
      "         [ 4.1953e-01,  1.2885e-01,  2.6332e-01,  ...,  8.2529e-02,\n",
      "          -1.3131e-01,  1.9138e-02],\n",
      "         ...,\n",
      "         [ 2.2886e-02, -1.9742e-01,  8.2529e-02,  ...,  1.8341e+00,\n",
      "          -5.3614e-01, -7.7445e-02],\n",
      "         [ 1.6836e-01,  2.1805e-01, -1.3131e-01,  ..., -5.3614e-01,\n",
      "           1.8972e+00, -4.7371e-01],\n",
      "         [-3.6768e-01, -4.1607e-01,  1.9138e-02,  ..., -7.7445e-02,\n",
      "          -4.7371e-01,  1.7905e+00]],\n",
      "\n",
      "        [[ 2.7996e-01,  2.9657e-03, -2.5587e-04,  ..., -2.8330e-02,\n",
      "           7.7167e-05, -1.7294e-02],\n",
      "         [ 2.9657e-03,  5.6989e-03, -8.2591e-05,  ..., -8.0942e-03,\n",
      "           2.7119e-03,  1.6914e-02],\n",
      "         [-2.5587e-04, -8.2591e-05,  1.3821e-03,  ..., -2.7061e-03,\n",
      "           2.3099e-03, -2.9903e-04],\n",
      "         ...,\n",
      "         [-2.8330e-02, -8.0942e-03, -2.7061e-03,  ...,  1.9662e+00,\n",
      "          -5.2792e-01, -1.9956e-01],\n",
      "         [ 7.7168e-05,  2.7119e-03,  2.3099e-03,  ..., -5.2792e-01,\n",
      "           1.9121e+00, -4.3010e-01],\n",
      "         [-1.7294e-02,  1.6914e-02, -2.9903e-04,  ..., -1.9956e-01,\n",
      "          -4.3010e-01,  1.9546e+00]]], device='cuda:0')\n",
      "tensor(1., device='cuda:0')\n",
      "cluster prob\n",
      "tensor([0.0000e+00, 9.5178e-11, 9.9431e-23,  ..., 0.0000e+00, 7.1068e-35,\n",
      "        1.2490e-01], device='cuda:0')\n",
      "cluster prob\n",
      "tensor([0.0000e+00, 1.5183e-26, 3.9236e-44,  ..., 2.4184e-04, 1.3538e-09,\n",
      "        1.0931e-03], device='cuda:0')\n",
      "cluster prob\n",
      "tensor([0.0000e+00, 0.0000e+00, 1.3234e-19,  ..., 1.0414e-08, 2.8874e-12,\n",
      "        5.9592e-10], device='cuda:0')\n",
      "cluster prob\n",
      "tensor([0.0000e+00, 1.4440e-36, 0.0000e+00,  ..., 4.6103e-22, 1.2701e-12,\n",
      "        2.2647e-02], device='cuda:0')\n",
      "cluster prob\n",
      "tensor([0.0000e+00, 2.1535e-23, 1.8130e-39,  ..., 9.6336e-23, 1.6528e-37,\n",
      "        1.9873e-07], device='cuda:0')\n",
      "cluster prob\n",
      "tensor([2.2506e-26, 1.9455e-31, 2.8010e-31,  ..., 8.5563e-22, 1.6138e-08,\n",
      "        3.6432e-10], device='cuda:0')\n",
      "cluster prob\n",
      "tensor([4.0919e-36, 3.6515e-24, 0.0000e+00,  ..., 2.6498e-23, 2.7945e-07,\n",
      "        8.2982e-04], device='cuda:0')\n",
      "cluster prob\n",
      "tensor([5.2141e-31, 0.0000e+00, 1.2088e-09,  ..., 3.6189e-10, 6.4203e-10,\n",
      "        1.3764e-11], device='cuda:0')\n",
      "cluster prob\n",
      "tensor([0.0000e+00, 0.0000e+00, 2.1950e-34,  ..., 9.0429e-09, 2.3695e-13,\n",
      "        1.7591e-07], device='cuda:0')\n",
      "cluster prob\n",
      "tensor([0.0000e+00, 0.0000e+00, 4.2717e-18,  ..., 3.2605e-15, 2.5749e-08,\n",
      "        0.0000e+00], device='cuda:0')\n",
      "likelihood\n",
      "tensor([1.0260e-27, 1.5970e-11, 7.1779e-11,  ..., 2.3022e-05, 3.5331e-08,\n",
      "        2.3875e-02], device='cuda:0', dtype=torch.float64)\n",
      "1 tensor(-inf, device='cuda:0', dtype=torch.float64)\n",
      "responsibility\n",
      "tensor([[0.0000e+00, 1.0000e+00, 2.3243e-13,  ..., 0.0000e+00, 3.3751e-28,\n",
      "         8.7781e-01],\n",
      "        [0.0000e+00, 9.0495e-17, 5.8567e-35,  ..., 9.9994e-01, 3.6475e-03,\n",
      "         4.3583e-03],\n",
      "        [0.0000e+00, 0.0000e+00, 1.3343e-10,  ..., 3.2738e-05, 5.9143e-06,\n",
      "         1.8064e-09],\n",
      "        ...,\n",
      "        [3.0175e-05, 0.0000e+00, 1.0000e+00,  ..., 9.3340e-07, 1.0790e-03,\n",
      "         3.4231e-11],\n",
      "        [0.0000e+00, 0.0000e+00, 1.7747e-25,  ..., 2.2796e-05, 3.8921e-07,\n",
      "         4.2760e-07],\n",
      "        [0.0000e+00, 0.0000e+00, 1.0042e-08,  ..., 2.3898e-11, 1.2298e-01,\n",
      "         0.0000e+00]], device='cuda:0')\n",
      "cluster_resp\n",
      "tensor(nan, device='cuda:0')\n",
      "cluster_resp\n",
      "tensor(nan, device='cuda:0')\n",
      "cluster_resp\n",
      "tensor(nan, device='cuda:0')\n",
      "cluster_resp\n",
      "tensor(nan, device='cuda:0')\n",
      "cluster_resp\n",
      "tensor(nan, device='cuda:0')\n",
      "cluster_resp\n",
      "tensor(nan, device='cuda:0')\n",
      "cluster_resp\n",
      "tensor(nan, device='cuda:0')\n",
      "cluster_resp\n",
      "tensor(nan, device='cuda:0')\n",
      "cluster_resp\n",
      "tensor(nan, device='cuda:0')\n",
      "cluster_resp\n",
      "tensor(nan, device='cuda:0')\n",
      "e step params\n",
      "tensor([[nan, nan, nan, nan, nan, nan, nan, nan, nan, nan, nan, nan, nan, nan, nan, nan, nan, nan, nan, nan, nan, nan, nan, nan,\n",
      "         nan, nan, nan, nan, nan, nan, nan, nan],\n",
      "        [nan, nan, nan, nan, nan, nan, nan, nan, nan, nan, nan, nan, nan, nan, nan, nan, nan, nan, nan, nan, nan, nan, nan, nan,\n",
      "         nan, nan, nan, nan, nan, nan, nan, nan],\n",
      "        [nan, nan, nan, nan, nan, nan, nan, nan, nan, nan, nan, nan, nan, nan, nan, nan, nan, nan, nan, nan, nan, nan, nan, nan,\n",
      "         nan, nan, nan, nan, nan, nan, nan, nan],\n",
      "        [nan, nan, nan, nan, nan, nan, nan, nan, nan, nan, nan, nan, nan, nan, nan, nan, nan, nan, nan, nan, nan, nan, nan, nan,\n",
      "         nan, nan, nan, nan, nan, nan, nan, nan],\n",
      "        [nan, nan, nan, nan, nan, nan, nan, nan, nan, nan, nan, nan, nan, nan, nan, nan, nan, nan, nan, nan, nan, nan, nan, nan,\n",
      "         nan, nan, nan, nan, nan, nan, nan, nan],\n",
      "        [nan, nan, nan, nan, nan, nan, nan, nan, nan, nan, nan, nan, nan, nan, nan, nan, nan, nan, nan, nan, nan, nan, nan, nan,\n",
      "         nan, nan, nan, nan, nan, nan, nan, nan],\n",
      "        [nan, nan, nan, nan, nan, nan, nan, nan, nan, nan, nan, nan, nan, nan, nan, nan, nan, nan, nan, nan, nan, nan, nan, nan,\n",
      "         nan, nan, nan, nan, nan, nan, nan, nan],\n",
      "        [nan, nan, nan, nan, nan, nan, nan, nan, nan, nan, nan, nan, nan, nan, nan, nan, nan, nan, nan, nan, nan, nan, nan, nan,\n",
      "         nan, nan, nan, nan, nan, nan, nan, nan],\n",
      "        [nan, nan, nan, nan, nan, nan, nan, nan, nan, nan, nan, nan, nan, nan, nan, nan, nan, nan, nan, nan, nan, nan, nan, nan,\n",
      "         nan, nan, nan, nan, nan, nan, nan, nan],\n",
      "        [nan, nan, nan, nan, nan, nan, nan, nan, nan, nan, nan, nan, nan, nan, nan, nan, nan, nan, nan, nan, nan, nan, nan, nan,\n",
      "         nan, nan, nan, nan, nan, nan, nan, nan]], device='cuda:0')\n",
      "tensor([[[nan, nan, nan,  ..., nan, nan, nan],\n",
      "         [nan, nan, nan,  ..., nan, nan, nan],\n",
      "         [nan, nan, nan,  ..., nan, nan, nan],\n",
      "         ...,\n",
      "         [nan, nan, nan,  ..., nan, nan, nan],\n",
      "         [nan, nan, nan,  ..., nan, nan, nan],\n",
      "         [nan, nan, nan,  ..., nan, nan, nan]],\n",
      "\n",
      "        [[nan, nan, nan,  ..., nan, nan, nan],\n",
      "         [nan, nan, nan,  ..., nan, nan, nan],\n",
      "         [nan, nan, nan,  ..., nan, nan, nan],\n",
      "         ...,\n",
      "         [nan, nan, nan,  ..., nan, nan, nan],\n",
      "         [nan, nan, nan,  ..., nan, nan, nan],\n",
      "         [nan, nan, nan,  ..., nan, nan, nan]],\n",
      "\n",
      "        [[nan, nan, nan,  ..., nan, nan, nan],\n",
      "         [nan, nan, nan,  ..., nan, nan, nan],\n",
      "         [nan, nan, nan,  ..., nan, nan, nan],\n",
      "         ...,\n",
      "         [nan, nan, nan,  ..., nan, nan, nan],\n",
      "         [nan, nan, nan,  ..., nan, nan, nan],\n",
      "         [nan, nan, nan,  ..., nan, nan, nan]],\n",
      "\n",
      "        ...,\n",
      "\n",
      "        [[nan, nan, nan,  ..., nan, nan, nan],\n",
      "         [nan, nan, nan,  ..., nan, nan, nan],\n",
      "         [nan, nan, nan,  ..., nan, nan, nan],\n",
      "         ...,\n",
      "         [nan, nan, nan,  ..., nan, nan, nan],\n",
      "         [nan, nan, nan,  ..., nan, nan, nan],\n",
      "         [nan, nan, nan,  ..., nan, nan, nan]],\n",
      "\n",
      "        [[nan, nan, nan,  ..., nan, nan, nan],\n",
      "         [nan, nan, nan,  ..., nan, nan, nan],\n",
      "         [nan, nan, nan,  ..., nan, nan, nan],\n",
      "         ...,\n",
      "         [nan, nan, nan,  ..., nan, nan, nan],\n",
      "         [nan, nan, nan,  ..., nan, nan, nan],\n",
      "         [nan, nan, nan,  ..., nan, nan, nan]],\n",
      "\n",
      "        [[nan, nan, nan,  ..., nan, nan, nan],\n",
      "         [nan, nan, nan,  ..., nan, nan, nan],\n",
      "         [nan, nan, nan,  ..., nan, nan, nan],\n",
      "         ...,\n",
      "         [nan, nan, nan,  ..., nan, nan, nan],\n",
      "         [nan, nan, nan,  ..., nan, nan, nan],\n",
      "         [nan, nan, nan,  ..., nan, nan, nan]]], device='cuda:0')\n",
      "tensor(nan, device='cuda:0')\n",
      "cluster prob\n",
      "tensor([nan, nan, nan,  ..., nan, nan, nan], device='cuda:0')\n",
      "cluster prob\n",
      "tensor([nan, nan, nan,  ..., nan, nan, nan], device='cuda:0')\n",
      "cluster prob\n",
      "tensor([nan, nan, nan,  ..., nan, nan, nan], device='cuda:0')\n",
      "cluster prob\n",
      "tensor([nan, nan, nan,  ..., nan, nan, nan], device='cuda:0')\n",
      "cluster prob\n",
      "tensor([nan, nan, nan,  ..., nan, nan, nan], device='cuda:0')\n",
      "cluster prob\n",
      "tensor([nan, nan, nan,  ..., nan, nan, nan], device='cuda:0')\n",
      "cluster prob\n",
      "tensor([nan, nan, nan,  ..., nan, nan, nan], device='cuda:0')\n",
      "cluster prob\n",
      "tensor([nan, nan, nan,  ..., nan, nan, nan], device='cuda:0')\n",
      "cluster prob\n",
      "tensor([nan, nan, nan,  ..., nan, nan, nan], device='cuda:0')\n",
      "cluster prob\n",
      "tensor([nan, nan, nan,  ..., nan, nan, nan], device='cuda:0')\n",
      "likelihood\n",
      "tensor([nan, nan, nan,  ..., nan, nan, nan], device='cuda:0',\n",
      "       dtype=torch.float64)\n",
      "2 tensor(nan, device='cuda:0', dtype=torch.float64)\n",
      "responsibility\n",
      "tensor([[nan, nan, nan,  ..., nan, nan, nan],\n",
      "        [nan, nan, nan,  ..., nan, nan, nan],\n",
      "        [nan, nan, nan,  ..., nan, nan, nan],\n",
      "        ...,\n",
      "        [nan, nan, nan,  ..., nan, nan, nan],\n",
      "        [nan, nan, nan,  ..., nan, nan, nan],\n",
      "        [nan, nan, nan,  ..., nan, nan, nan]], device='cuda:0')\n",
      "cluster_resp\n",
      "tensor(nan, device='cuda:0')\n",
      "cluster_resp\n",
      "tensor(nan, device='cuda:0')\n",
      "cluster_resp\n",
      "tensor(nan, device='cuda:0')\n",
      "cluster_resp\n",
      "tensor(nan, device='cuda:0')\n",
      "cluster_resp\n",
      "tensor(nan, device='cuda:0')\n",
      "cluster_resp\n",
      "tensor(nan, device='cuda:0')\n",
      "cluster_resp\n",
      "tensor(nan, device='cuda:0')\n",
      "cluster_resp\n",
      "tensor(nan, device='cuda:0')\n",
      "cluster_resp\n",
      "tensor(nan, device='cuda:0')\n",
      "cluster_resp\n",
      "tensor(nan, device='cuda:0')\n",
      "e step params\n",
      "tensor([[nan, nan, nan, nan, nan, nan, nan, nan, nan, nan, nan, nan, nan, nan, nan, nan, nan, nan, nan, nan, nan, nan, nan, nan,\n",
      "         nan, nan, nan, nan, nan, nan, nan, nan],\n",
      "        [nan, nan, nan, nan, nan, nan, nan, nan, nan, nan, nan, nan, nan, nan, nan, nan, nan, nan, nan, nan, nan, nan, nan, nan,\n",
      "         nan, nan, nan, nan, nan, nan, nan, nan],\n",
      "        [nan, nan, nan, nan, nan, nan, nan, nan, nan, nan, nan, nan, nan, nan, nan, nan, nan, nan, nan, nan, nan, nan, nan, nan,\n",
      "         nan, nan, nan, nan, nan, nan, nan, nan],\n",
      "        [nan, nan, nan, nan, nan, nan, nan, nan, nan, nan, nan, nan, nan, nan, nan, nan, nan, nan, nan, nan, nan, nan, nan, nan,\n",
      "         nan, nan, nan, nan, nan, nan, nan, nan],\n",
      "        [nan, nan, nan, nan, nan, nan, nan, nan, nan, nan, nan, nan, nan, nan, nan, nan, nan, nan, nan, nan, nan, nan, nan, nan,\n",
      "         nan, nan, nan, nan, nan, nan, nan, nan],\n",
      "        [nan, nan, nan, nan, nan, nan, nan, nan, nan, nan, nan, nan, nan, nan, nan, nan, nan, nan, nan, nan, nan, nan, nan, nan,\n",
      "         nan, nan, nan, nan, nan, nan, nan, nan],\n",
      "        [nan, nan, nan, nan, nan, nan, nan, nan, nan, nan, nan, nan, nan, nan, nan, nan, nan, nan, nan, nan, nan, nan, nan, nan,\n",
      "         nan, nan, nan, nan, nan, nan, nan, nan],\n",
      "        [nan, nan, nan, nan, nan, nan, nan, nan, nan, nan, nan, nan, nan, nan, nan, nan, nan, nan, nan, nan, nan, nan, nan, nan,\n",
      "         nan, nan, nan, nan, nan, nan, nan, nan],\n",
      "        [nan, nan, nan, nan, nan, nan, nan, nan, nan, nan, nan, nan, nan, nan, nan, nan, nan, nan, nan, nan, nan, nan, nan, nan,\n",
      "         nan, nan, nan, nan, nan, nan, nan, nan],\n",
      "        [nan, nan, nan, nan, nan, nan, nan, nan, nan, nan, nan, nan, nan, nan, nan, nan, nan, nan, nan, nan, nan, nan, nan, nan,\n",
      "         nan, nan, nan, nan, nan, nan, nan, nan]], device='cuda:0')\n",
      "tensor([[[nan, nan, nan,  ..., nan, nan, nan],\n",
      "         [nan, nan, nan,  ..., nan, nan, nan],\n",
      "         [nan, nan, nan,  ..., nan, nan, nan],\n",
      "         ...,\n",
      "         [nan, nan, nan,  ..., nan, nan, nan],\n",
      "         [nan, nan, nan,  ..., nan, nan, nan],\n",
      "         [nan, nan, nan,  ..., nan, nan, nan]],\n",
      "\n",
      "        [[nan, nan, nan,  ..., nan, nan, nan],\n",
      "         [nan, nan, nan,  ..., nan, nan, nan],\n",
      "         [nan, nan, nan,  ..., nan, nan, nan],\n",
      "         ...,\n",
      "         [nan, nan, nan,  ..., nan, nan, nan],\n",
      "         [nan, nan, nan,  ..., nan, nan, nan],\n",
      "         [nan, nan, nan,  ..., nan, nan, nan]],\n",
      "\n",
      "        [[nan, nan, nan,  ..., nan, nan, nan],\n",
      "         [nan, nan, nan,  ..., nan, nan, nan],\n",
      "         [nan, nan, nan,  ..., nan, nan, nan],\n",
      "         ...,\n",
      "         [nan, nan, nan,  ..., nan, nan, nan],\n",
      "         [nan, nan, nan,  ..., nan, nan, nan],\n",
      "         [nan, nan, nan,  ..., nan, nan, nan]],\n",
      "\n",
      "        ...,\n",
      "\n",
      "        [[nan, nan, nan,  ..., nan, nan, nan],\n",
      "         [nan, nan, nan,  ..., nan, nan, nan],\n",
      "         [nan, nan, nan,  ..., nan, nan, nan],\n",
      "         ...,\n",
      "         [nan, nan, nan,  ..., nan, nan, nan],\n",
      "         [nan, nan, nan,  ..., nan, nan, nan],\n",
      "         [nan, nan, nan,  ..., nan, nan, nan]],\n",
      "\n",
      "        [[nan, nan, nan,  ..., nan, nan, nan],\n",
      "         [nan, nan, nan,  ..., nan, nan, nan],\n",
      "         [nan, nan, nan,  ..., nan, nan, nan],\n",
      "         ...,\n",
      "         [nan, nan, nan,  ..., nan, nan, nan],\n",
      "         [nan, nan, nan,  ..., nan, nan, nan],\n",
      "         [nan, nan, nan,  ..., nan, nan, nan]],\n",
      "\n",
      "        [[nan, nan, nan,  ..., nan, nan, nan],\n",
      "         [nan, nan, nan,  ..., nan, nan, nan],\n",
      "         [nan, nan, nan,  ..., nan, nan, nan],\n",
      "         ...,\n",
      "         [nan, nan, nan,  ..., nan, nan, nan],\n",
      "         [nan, nan, nan,  ..., nan, nan, nan],\n",
      "         [nan, nan, nan,  ..., nan, nan, nan]]], device='cuda:0')\n",
      "tensor(nan, device='cuda:0')\n",
      "cluster prob\n",
      "tensor([nan, nan, nan,  ..., nan, nan, nan], device='cuda:0')\n",
      "cluster prob\n",
      "tensor([nan, nan, nan,  ..., nan, nan, nan], device='cuda:0')\n",
      "cluster prob\n"
     ]
    }
   ],
   "source": [
    "# a_star_sim.draw_explored(a_star_plan.path, False)\n",
    "\n",
    "# a_star_sim.display_run()\n",
    "# a_star_sim.display_history()\n",
    "\n",
    "\n",
    "torch.cuda.empty_cache() \n",
    "gmm_means, gmm_cov, gmm_pi, ll = gmm.run_model(expert_controls, 10)\n"
   ]
  },
  {
   "cell_type": "code",
   "execution_count": null,
   "metadata": {},
   "outputs": [],
   "source": [
    "%who"
   ]
  },
  {
   "cell_type": "code",
   "execution_count": null,
   "metadata": {},
   "outputs": [],
   "source": [
    "losses = []\n",
    "clusters = []\n",
    "\n",
    "for num_cluster in range(1, 20):\n",
    "    #expert_means, expert_covariances, loss = kmeans.k_means_segment(expert_controls, k = num_cluster)\n",
    "    expert_means, loss = kmeans.k_means_segment(expert_controls, k = num_cluster)\n",
    "    losses.append(loss)\n",
    "    clusters.append(num_cluster)\n",
    "    print(num_cluster)"
   ]
  },
  {
   "cell_type": "code",
   "execution_count": 171,
   "metadata": {},
   "outputs": [
    {
     "name": "stdout",
     "output_type": "stream",
     "text": [
      "[567183.375, 548189.375, 535722.0, 528013.6875, 521407.625, 516272.5, 512049.625, 509071.59375, 506636.40625, 504797.65625, 503273.78125, 502231.90625, 501351.59375, 500160.34375, 499211.125, 498247.0625, 497324.0, 496316.03125, 496112.5]\n"
     ]
    },
    {
     "data": {
      "image/png": "[encoded data removed]",
      "text/plain": [
       "<Figure size 640x480 with 1 Axes>"
      ]
     },
     "metadata": {},
     "output_type": "display_data"
    }
   ],
   "source": [
    "print(losses)\n",
    "plt.plot(clusters, losses)\n",
    "plt.show()"
   ]
  },
  {
   "cell_type": "code",
   "execution_count": null,
   "metadata": {},
   "outputs": [],
   "source": []
  },
  {
   "cell_type": "code",
   "execution_count": 172,
   "metadata": {},
   "outputs": [
    {
     "name": "stdout",
     "output_type": "stream",
     "text": [
      "torch.Size([10, 64, 2])\n"
     ]
    }
   ],
   "source": [
    "num_clusters = 10\n",
    "expert_means, loss = kmeans.k_means_segment(expert_controls, k = num_clusters)\n",
    "print(expert_means.shape)\n"
   ]
  },
  {
   "cell_type": "code",
   "execution_count": 175,
   "metadata": {},
   "outputs": [],
   "source": [
    "use_expert_controls = True\n",
    "samples = 2048\n",
    "controls = None\n",
    "\n",
    "expert_samples = [50 for i in range(10)]\n",
    "\n",
    "if use_expert_controls:\n",
    "    if expert_samples is not None:\n",
    "        samples = samples - sum(expert_samples)\n",
    "        controls = expert_means\n",
    "    else:\n",
    "        samples = samples - expert_controls.shape[0]\n",
    "        controls = expert_controls\n",
    "    \n",
    "if(samples <0):\n",
    "    print(\"too many expert rollouts\")"
   ]
  },
  {
   "cell_type": "code",
   "execution_count": 176,
   "metadata": {},
   "outputs": [
    {
     "name": "stdout",
     "output_type": "stream",
     "text": [
      "0 0 True 201 1.0\n",
      "0 1 True 211 1.0\n",
      "0 2 True 214 1.0\n",
      "0 3 True 204 1.0\n"
     ]
    },
    {
     "data": {
      "text/html": [
       "<iframe\n",
       "    scrolling=\"no\"\n",
       "    width=\"100%\"\n",
       "    height=\"545px\"\n",
       "    src=\"iframe_figures/figure_176.html\"\n",
       "    frameborder=\"0\"\n",
       "    allowfullscreen\n",
       "></iframe>\n"
      ]
     },
     "metadata": {},
     "output_type": "display_data"
    },
    {
     "name": "stdout",
     "output_type": "stream",
     "text": [
      "0 4 False 58 0.8\n",
      "0 5 True 207 0.8333333333333334\n",
      "0 6 True 210 0.8571428571428571\n",
      "0 7 True 226 0.875\n",
      "0 8 True 206 0.8888888888888888\n",
      "0 9 True 212 0.9\n",
      "1 0 True 201 0.9090909090909091\n",
      "1 1 True 209 0.9166666666666666\n",
      "1 2 True 210 0.9230769230769231\n",
      "1 3 True 207 0.9285714285714286\n",
      "1 4 True 213 0.9333333333333333\n",
      "1 5 True 213 0.9375\n",
      "1 6 True 205 0.9411764705882353\n",
      "1 7 True 210 0.9444444444444444\n",
      "1 8 True 214 0.9473684210526315\n",
      "1 9 True 214 0.95\n",
      "2 0 True 208 0.9523809523809523\n",
      "2 1 True 208 0.9545454545454546\n",
      "2 2 True 217 0.9565217391304348\n",
      "2 3 True 214 0.9583333333333334\n",
      "2 4 True 220 0.96\n",
      "2 5 True 206 0.9615384615384616\n",
      "2 6 True 214 0.9629629629629629\n",
      "2 7 True 219 0.9642857142857143\n"
     ]
    },
    {
     "data": {
      "text/html": [
       "<iframe\n",
       "    scrolling=\"no\"\n",
       "    width=\"100%\"\n",
       "    height=\"545px\"\n",
       "    src=\"iframe_figures/figure_176.html\"\n",
       "    frameborder=\"0\"\n",
       "    allowfullscreen\n",
       "></iframe>\n"
      ]
     },
     "metadata": {},
     "output_type": "display_data"
    },
    {
     "name": "stdout",
     "output_type": "stream",
     "text": [
      "2 8 False 104 0.9310344827586207\n",
      "2 9 True 226 0.9333333333333333\n",
      "3 0 True 211 0.9354838709677419\n",
      "3 1 True 223 0.9375\n",
      "3 2 True 217 0.9393939393939394\n",
      "3 3 True 213 0.9411764705882353\n",
      "3 4 True 208 0.9428571428571428\n"
     ]
    },
    {
     "data": {
      "text/html": [
       "<iframe\n",
       "    scrolling=\"no\"\n",
       "    width=\"100%\"\n",
       "    height=\"545px\"\n",
       "    src=\"iframe_figures/figure_176.html\"\n",
       "    frameborder=\"0\"\n",
       "    allowfullscreen\n",
       "></iframe>\n"
      ]
     },
     "metadata": {},
     "output_type": "display_data"
    },
    {
     "name": "stdout",
     "output_type": "stream",
     "text": [
      "3 5 False 182 0.9166666666666666\n",
      "3 6 True 214 0.918918918918919\n",
      "3 7 True 211 0.9210526315789473\n",
      "3 8 True 214 0.9230769230769231\n",
      "3 9 True 212 0.925\n",
      "4 0 True 209 0.926829268292683\n",
      "4 1 True 202 0.9285714285714286\n",
      "4 2 True 209 0.9302325581395349\n",
      "4 3 True 206 0.9318181818181818\n",
      "4 4 True 210 0.9333333333333333\n",
      "4 5 True 219 0.9347826086956522\n"
     ]
    },
    {
     "data": {
      "text/html": [
       "<iframe\n",
       "    scrolling=\"no\"\n",
       "    width=\"100%\"\n",
       "    height=\"545px\"\n",
       "    src=\"iframe_figures/figure_176.html\"\n",
       "    frameborder=\"0\"\n",
       "    allowfullscreen\n",
       "></iframe>\n"
      ]
     },
     "metadata": {},
     "output_type": "display_data"
    },
    {
     "name": "stdout",
     "output_type": "stream",
     "text": [
      "4 6 False 40 0.9148936170212766\n",
      "4 7 True 214 0.9166666666666666\n",
      "4 8 True 216 0.9183673469387755\n",
      "4 9 True 204 0.92\n",
      "5 0 True 215 0.9215686274509803\n",
      "5 1 True 210 0.9230769230769231\n",
      "5 2 True 212 0.9245283018867925\n",
      "5 3 True 202 0.9259259259259259\n",
      "5 4 True 220 0.9272727272727272\n",
      "5 5 True 215 0.9285714285714286\n",
      "5 6 True 211 0.9298245614035088\n",
      "5 7 True 208 0.9310344827586207\n"
     ]
    },
    {
     "data": {
      "text/html": [
       "<iframe\n",
       "    scrolling=\"no\"\n",
       "    width=\"100%\"\n",
       "    height=\"545px\"\n",
       "    src=\"iframe_figures/figure_176.html\"\n",
       "    frameborder=\"0\"\n",
       "    allowfullscreen\n",
       "></iframe>\n"
      ]
     },
     "metadata": {},
     "output_type": "display_data"
    },
    {
     "name": "stdout",
     "output_type": "stream",
     "text": [
      "5 8 False 63 0.9152542372881356\n",
      "5 9 True 204 0.9166666666666666\n"
     ]
    },
    {
     "data": {
      "text/html": [
       "<iframe\n",
       "    scrolling=\"no\"\n",
       "    width=\"100%\"\n",
       "    height=\"545px\"\n",
       "    src=\"iframe_figures/figure_176.html\"\n",
       "    frameborder=\"0\"\n",
       "    allowfullscreen\n",
       "></iframe>\n"
      ]
     },
     "metadata": {},
     "output_type": "display_data"
    },
    {
     "name": "stdout",
     "output_type": "stream",
     "text": [
      "6 0 False 64 0.9016393442622951\n"
     ]
    },
    {
     "data": {
      "text/html": [
       "<iframe\n",
       "    scrolling=\"no\"\n",
       "    width=\"100%\"\n",
       "    height=\"545px\"\n",
       "    src=\"iframe_figures/figure_176.html\"\n",
       "    frameborder=\"0\"\n",
       "    allowfullscreen\n",
       "></iframe>\n"
      ]
     },
     "metadata": {},
     "output_type": "display_data"
    },
    {
     "name": "stdout",
     "output_type": "stream",
     "text": [
      "6 1 False 127 0.8870967741935484\n",
      "6 2 True 207 0.8888888888888888\n",
      "6 3 True 218 0.890625\n",
      "6 4 True 209 0.8923076923076924\n",
      "6 5 True 220 0.8939393939393939\n",
      "6 6 True 223 0.8955223880597015\n",
      "6 7 True 204 0.8970588235294118\n",
      "6 8 True 220 0.8985507246376812\n"
     ]
    },
    {
     "data": {
      "text/html": [
       "<iframe\n",
       "    scrolling=\"no\"\n",
       "    width=\"100%\"\n",
       "    height=\"545px\"\n",
       "    src=\"iframe_figures/figure_176.html\"\n",
       "    frameborder=\"0\"\n",
       "    allowfullscreen\n",
       "></iframe>\n"
      ]
     },
     "metadata": {},
     "output_type": "display_data"
    },
    {
     "name": "stdout",
     "output_type": "stream",
     "text": [
      "6 9 False 61 0.8857142857142857\n",
      "7 0 True 216 0.8873239436619719\n",
      "7 1 True 213 0.8888888888888888\n",
      "7 2 True 210 0.8904109589041096\n",
      "7 3 True 221 0.8918918918918919\n",
      "7 4 True 220 0.8933333333333333\n",
      "7 5 True 208 0.8947368421052632\n"
     ]
    },
    {
     "data": {
      "text/html": [
       "<iframe\n",
       "    scrolling=\"no\"\n",
       "    width=\"100%\"\n",
       "    height=\"545px\"\n",
       "    src=\"iframe_figures/figure_176.html\"\n",
       "    frameborder=\"0\"\n",
       "    allowfullscreen\n",
       "></iframe>\n"
      ]
     },
     "metadata": {},
     "output_type": "display_data"
    },
    {
     "name": "stdout",
     "output_type": "stream",
     "text": [
      "7 6 False 154 0.8831168831168831\n",
      "7 7 True 216 0.8846153846153846\n",
      "7 8 True 205 0.8860759493670886\n",
      "7 9 True 210 0.8875\n"
     ]
    },
    {
     "data": {
      "text/html": [
       "<iframe\n",
       "    scrolling=\"no\"\n",
       "    width=\"100%\"\n",
       "    height=\"545px\"\n",
       "    src=\"iframe_figures/figure_176.html\"\n",
       "    frameborder=\"0\"\n",
       "    allowfullscreen\n",
       "></iframe>\n"
      ]
     },
     "metadata": {},
     "output_type": "display_data"
    },
    {
     "name": "stdout",
     "output_type": "stream",
     "text": [
      "8 0 False 60 0.8765432098765432\n"
     ]
    },
    {
     "data": {
      "text/html": [
       "<iframe\n",
       "    scrolling=\"no\"\n",
       "    width=\"100%\"\n",
       "    height=\"545px\"\n",
       "    src=\"iframe_figures/figure_176.html\"\n",
       "    frameborder=\"0\"\n",
       "    allowfullscreen\n",
       "></iframe>\n"
      ]
     },
     "metadata": {},
     "output_type": "display_data"
    },
    {
     "name": "stdout",
     "output_type": "stream",
     "text": [
      "8 1 False 81 0.8658536585365854\n"
     ]
    },
    {
     "data": {
      "text/html": [
       "<iframe\n",
       "    scrolling=\"no\"\n",
       "    width=\"100%\"\n",
       "    height=\"545px\"\n",
       "    src=\"iframe_figures/figure_176.html\"\n",
       "    frameborder=\"0\"\n",
       "    allowfullscreen\n",
       "></iframe>\n"
      ]
     },
     "metadata": {},
     "output_type": "display_data"
    },
    {
     "name": "stdout",
     "output_type": "stream",
     "text": [
      "8 2 False 39 0.8554216867469879\n",
      "8 3 True 215 0.8571428571428571\n"
     ]
    },
    {
     "data": {
      "text/html": [
       "<iframe\n",
       "    scrolling=\"no\"\n",
       "    width=\"100%\"\n",
       "    height=\"545px\"\n",
       "    src=\"iframe_figures/figure_176.html\"\n",
       "    frameborder=\"0\"\n",
       "    allowfullscreen\n",
       "></iframe>\n"
      ]
     },
     "metadata": {},
     "output_type": "display_data"
    },
    {
     "name": "stdout",
     "output_type": "stream",
     "text": [
      "8 4 False 110 0.8470588235294118\n",
      "8 5 True 201 0.8488372093023255\n",
      "8 6 True 211 0.8505747126436781\n"
     ]
    },
    {
     "data": {
      "text/html": [
       "<iframe\n",
       "    scrolling=\"no\"\n",
       "    width=\"100%\"\n",
       "    height=\"545px\"\n",
       "    src=\"iframe_figures/figure_176.html\"\n",
       "    frameborder=\"0\"\n",
       "    allowfullscreen\n",
       "></iframe>\n"
      ]
     },
     "metadata": {},
     "output_type": "display_data"
    },
    {
     "name": "stdout",
     "output_type": "stream",
     "text": [
      "8 7 False 43 0.8409090909090909\n",
      "8 8 True 208 0.8426966292134831\n",
      "8 9 True 214 0.8444444444444444\n",
      "9 0 True 207 0.8461538461538461\n",
      "9 1 True 206 0.8478260869565217\n",
      "9 2 True 217 0.8494623655913979\n"
     ]
    },
    {
     "data": {
      "text/html": [
       "<iframe\n",
       "    scrolling=\"no\"\n",
       "    width=\"100%\"\n",
       "    height=\"545px\"\n",
       "    src=\"iframe_figures/figure_176.html\"\n",
       "    frameborder=\"0\"\n",
       "    allowfullscreen\n",
       "></iframe>\n"
      ]
     },
     "metadata": {},
     "output_type": "display_data"
    },
    {
     "name": "stdout",
     "output_type": "stream",
     "text": [
      "9 3 False 173 0.8404255319148937\n",
      "9 4 True 205 0.8421052631578947\n",
      "9 5 True 207 0.84375\n",
      "9 6 True 212 0.845360824742268\n",
      "9 7 True 207 0.8469387755102041\n"
     ]
    },
    {
     "data": {
      "text/html": [
       "<iframe\n",
       "    scrolling=\"no\"\n",
       "    width=\"100%\"\n",
       "    height=\"545px\"\n",
       "    src=\"iframe_figures/figure_176.html\"\n",
       "    frameborder=\"0\"\n",
       "    allowfullscreen\n",
       "></iframe>\n"
      ]
     },
     "metadata": {},
     "output_type": "display_data"
    },
    {
     "name": "stdout",
     "output_type": "stream",
     "text": [
      "9 8 False 152 0.8383838383838383\n"
     ]
    },
    {
     "data": {
      "text/html": [
       "<iframe\n",
       "    scrolling=\"no\"\n",
       "    width=\"100%\"\n",
       "    height=\"545px\"\n",
       "    src=\"iframe_figures/figure_176.html\"\n",
       "    frameborder=\"0\"\n",
       "    allowfullscreen\n",
       "></iframe>\n"
      ]
     },
     "metadata": {},
     "output_type": "display_data"
    },
    {
     "name": "stdout",
     "output_type": "stream",
     "text": [
      "9 9 False 176 0.83\n",
      "0.83\n",
      "211.5421686746988\n"
     ]
    }
   ],
   "source": [
    "\n",
    "mppi_sample_center= torch.tensor([0., 0.])\n",
    "mppi_sample_covariance = torch.tensor([[9.,0.],[0.,1]])\n",
    "expert_sample_center= torch.zeros(ctrl_dim *horizon_depth)\n",
    "expert_sample_covariance = torch.tensor([[.09,0.],[0., .01]])\n",
    "# note: if these parameters are changed, the a-star ones should be changed to match\n",
    "\n",
    "# changes to 8 clusters\n",
    "\n",
    "success = 0.\n",
    "total = 0.\n",
    "total_it = 0.\n",
    "\n",
    "for i in range(10):\n",
    "    for j in range(10):\n",
    "        x = np.random.uniform(1, 5)\n",
    "        y = np.random.uniform(45, 55)\n",
    "        angle = np.random.uniform(-math.pi/12, math.pi/12)\n",
    "\n",
    "        if(angle<0):\n",
    "            angle+=2 * math.pi\n",
    "\n",
    "        mppi_robot = Bicycle(x, y, angle, 0)\n",
    "        mppi_goal = (90, 50, 1, 10)\n",
    "\n",
    "\n",
    "        mppi_map = Map(goal_point = mppi_goal, avoidance_points=avoid, \n",
    "                       rect_obstacles=rect,circle_obstacles=circle, speed_weight = 0.01, device = torch.device('cuda:0'))\n",
    "        mppi_controller = MPPI(mppi_robot, state_dim, ctrl_dim, \n",
    "                          mppi_sample_center, mppi_sample_covariance,  u_min, u_max,\n",
    "                          mppi_robot.dynamics_batch_horizon, mppi_map.running_cost_batch_horizon, mppi_map.terminal_state_cost_batch,\n",
    "                               expert_rollouts = controls, expert_samples = expert_samples, \n",
    "                               expert_mu = mppi_sample_center, expert_noise = expert_sample_covariance,\n",
    "                               num_samples = samples, horizon = horizon_depth, lambda_=1,sample_null_action = True,\n",
    "                               timestep = step, device=torch.device('cuda:0'))\n",
    "        mppi_sim = Simulation(mppi_robot, mppi_controller, mppi_map, timestep = step, goal_tolerance = 2)\n",
    "\n",
    "        iterations, completed = mppi_sim.run(iterations=400, draw_obstacles = False, write_snapshots =False, \n",
    "              write_rollouts=True, write_controls = True, write_rollout_start = 0, write_rollouts_num = 6,write_rate = 2)\n",
    "        \n",
    "        \n",
    "\n",
    "        if completed:\n",
    "            success+=1\n",
    "            total_it += iterations\n",
    "        else:\n",
    "            mppi_sim.display_history()\n",
    "        total+=1\n",
    "        \n",
    "        \n",
    "        print(i, j, completed, iterations, success/total)\n",
    "        \n",
    "print(success/total)\n",
    "if success > 0:\n",
    "    print(total_it/success)\n",
    "\n"
   ]
  },
  {
   "cell_type": "code",
   "execution_count": null,
   "metadata": {},
   "outputs": [],
   "source": []
  },
  {
   "cell_type": "code",
   "execution_count": null,
   "metadata": {},
   "outputs": [],
   "source": []
  }
 ],
 "metadata": {
  "kernelspec": {
   "display_name": "Python 3 (ipykernel)",
   "language": "python",
   "name": "python3"
  },
  "language_info": {
   "codemirror_mode": {
    "name": "ipython",
    "version": 3
   },
   "file_extension": ".py",
   "mimetype": "text/x-python",
   "name": "python",
   "nbconvert_exporter": "python",
   "pygments_lexer": "ipython3",
   "version": "3.8.10"
  }
 },
 "nbformat": 4,
 "nbformat_minor": 4
}
